{
  "cells": [
    {
      "cell_type": "markdown",
      "source": [
        "# 0. Context :"
      ],
      "metadata": {
        "id": "DHspAgMfmE4K"
      }
    },
    {
      "cell_type": "markdown",
      "source": [
        "The following code scrape data of ASX companies from Yahoo Finance from (2020 - 2024) and export it into stock_data.csv for analysis."
      ],
      "metadata": {
        "id": "4xLGUEQwmVW1"
      }
    },
    {
      "cell_type": "markdown",
      "source": [
        "### Install Necessary Libraries :"
      ],
      "metadata": {
        "id": "8Tn04v0XmNwd"
      }
    },
    {
      "cell_type": "code",
      "execution_count": 1,
      "metadata": {
        "colab": {
          "base_uri": "https://localhost:8080/"
        },
        "id": "L7rQ35Vt-9tm",
        "outputId": "ba39aa54-1eb6-4303-8b77-497aeb5b6ba2"
      },
      "outputs": [
        {
          "output_type": "stream",
          "name": "stdout",
          "text": [
            "Requirement already satisfied: yfinance in /usr/local/lib/python3.10/dist-packages (0.2.40)\n",
            "Requirement already satisfied: pandas>=1.3.0 in /usr/local/lib/python3.10/dist-packages (from yfinance) (2.0.3)\n",
            "Requirement already satisfied: numpy>=1.16.5 in /usr/local/lib/python3.10/dist-packages (from yfinance) (1.25.2)\n",
            "Requirement already satisfied: requests>=2.31 in /usr/local/lib/python3.10/dist-packages (from yfinance) (2.31.0)\n",
            "Requirement already satisfied: multitasking>=0.0.7 in /usr/local/lib/python3.10/dist-packages (from yfinance) (0.0.11)\n",
            "Requirement already satisfied: lxml>=4.9.1 in /usr/local/lib/python3.10/dist-packages (from yfinance) (4.9.4)\n",
            "Requirement already satisfied: platformdirs>=2.0.0 in /usr/local/lib/python3.10/dist-packages (from yfinance) (4.2.2)\n",
            "Requirement already satisfied: pytz>=2022.5 in /usr/local/lib/python3.10/dist-packages (from yfinance) (2023.4)\n",
            "Requirement already satisfied: frozendict>=2.3.4 in /usr/local/lib/python3.10/dist-packages (from yfinance) (2.4.4)\n",
            "Requirement already satisfied: peewee>=3.16.2 in /usr/local/lib/python3.10/dist-packages (from yfinance) (3.17.5)\n",
            "Requirement already satisfied: beautifulsoup4>=4.11.1 in /usr/local/lib/python3.10/dist-packages (from yfinance) (4.12.3)\n",
            "Requirement already satisfied: html5lib>=1.1 in /usr/local/lib/python3.10/dist-packages (from yfinance) (1.1)\n",
            "Requirement already satisfied: soupsieve>1.2 in /usr/local/lib/python3.10/dist-packages (from beautifulsoup4>=4.11.1->yfinance) (2.5)\n",
            "Requirement already satisfied: six>=1.9 in /usr/local/lib/python3.10/dist-packages (from html5lib>=1.1->yfinance) (1.16.0)\n",
            "Requirement already satisfied: webencodings in /usr/local/lib/python3.10/dist-packages (from html5lib>=1.1->yfinance) (0.5.1)\n",
            "Requirement already satisfied: python-dateutil>=2.8.2 in /usr/local/lib/python3.10/dist-packages (from pandas>=1.3.0->yfinance) (2.8.2)\n",
            "Requirement already satisfied: tzdata>=2022.1 in /usr/local/lib/python3.10/dist-packages (from pandas>=1.3.0->yfinance) (2024.1)\n",
            "Requirement already satisfied: charset-normalizer<4,>=2 in /usr/local/lib/python3.10/dist-packages (from requests>=2.31->yfinance) (3.3.2)\n",
            "Requirement already satisfied: idna<4,>=2.5 in /usr/local/lib/python3.10/dist-packages (from requests>=2.31->yfinance) (3.7)\n",
            "Requirement already satisfied: urllib3<3,>=1.21.1 in /usr/local/lib/python3.10/dist-packages (from requests>=2.31->yfinance) (2.0.7)\n",
            "Requirement already satisfied: certifi>=2017.4.17 in /usr/local/lib/python3.10/dist-packages (from requests>=2.31->yfinance) (2024.6.2)\n"
          ]
        }
      ],
      "source": [
        "!pip install yfinance"
      ]
    },
    {
      "cell_type": "code",
      "execution_count": 2,
      "metadata": {
        "id": "UiYOxTq1_Bx3"
      },
      "outputs": [],
      "source": [
        "import pandas_datareader as web\n",
        "import pandas as pd\n",
        "import numpy as np\n",
        "import datetime as dt\n",
        "import yfinance as yf\n",
        "\n",
        "from pandas.tseries.offsets import BDay"
      ]
    },
    {
      "cell_type": "markdown",
      "metadata": {
        "id": "O9bEtlPI_HoZ"
      },
      "source": [
        "# 1. Get Data :"
      ]
    },
    {
      "cell_type": "code",
      "execution_count": 3,
      "metadata": {
        "id": "3aP904vn_Klt"
      },
      "outputs": [],
      "source": [
        "# URL of the list of ASX All ordinaries companies\n",
        "file_url = 'https://raw.githubusercontent.com/RatanaSovann/Stock-Clustering-with-ML/main/asx_list.xlsx'\n",
        "\n",
        "asx_table = pd.read_excel(file_url)\n",
        "asx_tickers = asx_table['Code'].tolist()\n",
        "asx_tickers = [str(ticker) + \".AX\" for ticker in asx_tickers] ## Add .AX to specify ASX200 stock for Yf"
      ]
    },
    {
      "cell_type": "code",
      "source": [
        "asx_tickers"
      ],
      "metadata": {
        "colab": {
          "base_uri": "https://localhost:8080/"
        },
        "collapsed": true,
        "id": "siTtZfKkI2N6",
        "outputId": "a49bfc2f-1996-4e69-db40-a40c4a4eab8b"
      },
      "execution_count": 4,
      "outputs": [
        {
          "output_type": "execute_result",
          "data": {
            "text/plain": [
              "['3PL.AX',\n",
              " '4DX.AX',\n",
              " '29M.AX',\n",
              " 'ABG.AX',\n",
              " 'ASK.AX',\n",
              " 'AX1.AX',\n",
              " 'ACF.AX',\n",
              " 'ADH.AX',\n",
              " 'ABC.AX',\n",
              " 'ADT.AX',\n",
              " 'AIS.AX',\n",
              " 'AFP.AX',\n",
              " 'AGL.AX',\n",
              " 'A1M.AX',\n",
              " 'AGI.AX',\n",
              " 'AIZ.AX',\n",
              " 'ALK.AX',\n",
              " 'AQZ.AX',\n",
              " 'A4N.AX',\n",
              " 'ALQ.AX',\n",
              " 'ALU.AX',\n",
              " 'AWC.AX',\n",
              " 'AMH.AX',\n",
              " 'AMC.AX',\n",
              " 'AMP.AX',\n",
              " 'ALD.AX',\n",
              " 'ANN.AX',\n",
              " 'AVR.AX',\n",
              " 'ANZ.AX',\n",
              " 'APA.AX',\n",
              " 'APM.AX',\n",
              " 'ARU.AX',\n",
              " 'ARB.AX',\n",
              " 'LTM.AX',\n",
              " 'ARF.AX',\n",
              " 'ALI.AX',\n",
              " 'ARG.AX',\n",
              " 'ALL.AX',\n",
              " 'A1N.AX',\n",
              " 'APZ.AX',\n",
              " 'ASX.AX',\n",
              " 'A11.AX',\n",
              " 'ALX.AX',\n",
              " 'ATA.AX',\n",
              " 'AUB.AX',\n",
              " 'AIA.AX',\n",
              " 'AD8.AX',\n",
              " 'AMI.AX',\n",
              " 'AZJ.AX',\n",
              " 'ABB.AX',\n",
              " 'ASB.AX',\n",
              " 'ANG.AX',\n",
              " 'AAC.AX',\n",
              " 'ACL.AX',\n",
              " 'AEF.AX',\n",
              " 'AFG.AX',\n",
              " 'AFI.AX',\n",
              " 'AUI.AX',\n",
              " 'ASG.AX',\n",
              " 'BOQ.AX',\n",
              " 'BMN.AX',\n",
              " 'BAP.AX',\n",
              " 'BSE.AX',\n",
              " 'BCI.AX',\n",
              " 'BPT.AX',\n",
              " 'BLX.AX',\n",
              " 'BGA.AX',\n",
              " 'BGL.AX',\n",
              " 'BFG.AX',\n",
              " 'BEN.AX',\n",
              " 'BHP.AX',\n",
              " 'BKI.AX',\n",
              " 'SQ2.AX',\n",
              " 'BSL.AX',\n",
              " 'BLD.AX',\n",
              " 'BOE.AX',\n",
              " 'BOT.AX',\n",
              " 'BOC.AX',\n",
              " 'BRN.AX',\n",
              " 'BXB.AX',\n",
              " 'BVS.AX',\n",
              " 'BRE.AX',\n",
              " 'BRG.AX',\n",
              " 'BKW.AX',\n",
              " 'BGP.AX',\n",
              " 'BFL.AX',\n",
              " 'BDM.AX',\n",
              " 'BWP.AX',\n",
              " 'CAJ.AX',\n",
              " 'CMM.AX',\n",
              " 'CSC.AX',\n",
              " 'CAR.AX',\n",
              " 'CDP.AX',\n",
              " 'CIN.AX',\n",
              " 'CVN.AX',\n",
              " 'CAT.AX',\n",
              " 'CWP.AX',\n",
              " 'CNI.AX',\n",
              " 'CIP.AX',\n",
              " 'COF.AX',\n",
              " 'CTT.AX',\n",
              " 'CHN.AX',\n",
              " 'CGF.AX',\n",
              " 'CIA.AX',\n",
              " 'CHC.AX',\n",
              " 'CLW.AX',\n",
              " 'CQR.AX',\n",
              " 'CQE.AX',\n",
              " 'CNU.AX',\n",
              " 'C79.AX',\n",
              " 'CU6.AX',\n",
              " 'CWY.AX',\n",
              " 'CVW.AX',\n",
              " 'CUV.AX',\n",
              " 'CBO.AX',\n",
              " 'COH.AX',\n",
              " 'CDA.AX',\n",
              " 'COL.AX',\n",
              " 'CKF.AX',\n",
              " 'CBA.AX',\n",
              " 'CPU.AX',\n",
              " 'CEN.AX',\n",
              " 'COE.AX',\n",
              " 'CRN.AX',\n",
              " 'CTD.AX',\n",
              " 'CCP.AX',\n",
              " 'CMW.AX',\n",
              " 'CSL.AX',\n",
              " 'CSR.AX',\n",
              " 'DBI.AX',\n",
              " 'DTL.AX',\n",
              " 'DYL.AX',\n",
              " 'DEG.AX',\n",
              " 'DRR.AX',\n",
              " 'DVP.AX',\n",
              " 'DXS.AX',\n",
              " 'DXC.AX',\n",
              " 'DXI.AX',\n",
              " 'DDR.AX',\n",
              " 'DXB.AX',\n",
              " 'DUI.AX',\n",
              " 'DJW.AX',\n",
              " 'DHG.AX',\n",
              " 'DMP.AX',\n",
              " 'DOW.AX',\n",
              " 'DRO.AX',\n",
              " 'DUG.AX',\n",
              " 'DUR.AX',\n",
              " 'APE.AX',\n",
              " 'EBO.AX',\n",
              " 'EBR.AX',\n",
              " 'ELD.AX',\n",
              " 'EOS.AX',\n",
              " 'EHL.AX',\n",
              " 'EMR.AX',\n",
              " 'EML.AX',\n",
              " 'EDV.AX',\n",
              " 'ERA.AX',\n",
              " 'EQT.AX',\n",
              " 'EVN.AX',\n",
              " 'EVT.AX',\n",
              " 'FEX.AX',\n",
              " 'FID.AX',\n",
              " 'FCL.AX',\n",
              " 'FFX.AX',\n",
              " 'FFM.AX',\n",
              " 'FPH.AX',\n",
              " 'FPR.AX',\n",
              " 'FBU.AX',\n",
              " 'FLT.AX',\n",
              " 'FSF.AX',\n",
              " 'FMG.AX',\n",
              " 'FRW.AX',\n",
              " 'FGX.AX',\n",
              " 'FGG.AX',\n",
              " 'GUD.AX',\n",
              " 'GEM.AX',\n",
              " 'GDF.AX',\n",
              " 'GDI.AX',\n",
              " 'GDG.AX',\n",
              " 'GNE.AX',\n",
              " 'GMD.AX',\n",
              " 'GNX.AX',\n",
              " 'GTK.AX',\n",
              " 'GNP.AX',\n",
              " 'GDC.AX',\n",
              " 'GOR.AX',\n",
              " 'GMG.AX',\n",
              " 'GPT.AX',\n",
              " 'GQG.AX',\n",
              " 'GNC.AX',\n",
              " 'GRR.AX',\n",
              " 'GRX.AX',\n",
              " 'GNG.AX',\n",
              " 'GOZ.AX',\n",
              " 'GCI.AX',\n",
              " 'GWA.AX',\n",
              " 'HSN.AX',\n",
              " 'HVN.AX',\n",
              " 'HLS.AX',\n",
              " 'HCW.AX',\n",
              " 'HGH.AX',\n",
              " 'HM1.AX',\n",
              " 'HLI.AX',\n",
              " 'HLO.AX',\n",
              " 'HMC.AX',\n",
              " 'HDN.AX',\n",
              " 'HZN.AX',\n",
              " 'HPI.AX',\n",
              " 'HUB.AX',\n",
              " 'HTA.AX',\n",
              " 'IEL.AX',\n",
              " 'IGO.AX',\n",
              " 'ILU.AX',\n",
              " 'IMD.AX',\n",
              " 'IMM.AX',\n",
              " 'IMU.AX',\n",
              " 'IPL.AX',\n",
              " 'IFM.AX',\n",
              " 'IFT.AX',\n",
              " 'INA.AX',\n",
              " 'ING.AX',\n",
              " 'IFL.AX',\n",
              " 'IAG.AX',\n",
              " 'IDX.AX',\n",
              " 'INR.AX',\n",
              " 'IPG.AX',\n",
              " 'IPX.AX',\n",
              " 'IPH.AX',\n",
              " 'IRE.AX',\n",
              " 'IGL.AX',\n",
              " 'JHX.AX',\n",
              " 'JBH.AX',\n",
              " 'JLG.AX',\n",
              " 'JDO.AX',\n",
              " 'JIN.AX',\n",
              " 'JMS.AX',\n",
              " 'KSC.AX',\n",
              " 'KAR.AX',\n",
              " 'KPG.AX',\n",
              " 'KLS.AX',\n",
              " 'KSL.AX',\n",
              " 'KCN.AX',\n",
              " 'KKC.AX',\n",
              " 'KMD.AX',\n",
              " 'KGN.AX',\n",
              " 'LSF.AX',\n",
              " 'LRS.AX',\n",
              " 'LFS.AX',\n",
              " 'LLC.AX',\n",
              " 'LLL.AX',\n",
              " 'LGI.AX',\n",
              " 'LFG.AX',\n",
              " '360.AX',\n",
              " 'LIC.AX',\n",
              " 'LNW.AX',\n",
              " 'LAU.AX',\n",
              " 'LTR.AX',\n",
              " 'LOT.AX',\n",
              " 'LOV.AX',\n",
              " 'LYL.AX',\n",
              " 'LYC.AX',\n",
              " 'MGH.AX',\n",
              " 'MAH.AX',\n",
              " 'MQG.AX',\n",
              " 'MAQ.AX',\n",
              " 'MAD.AX',\n",
              " 'MAF.AX',\n",
              " 'MFG.AX',\n",
              " 'MGF.AX',\n",
              " 'MAU.AX',\n",
              " 'MYX.AX',\n",
              " 'MMS.AX',\n",
              " 'MDR.AX',\n",
              " 'MPL.AX',\n",
              " 'MP1.AX',\n",
              " 'MAY.AX',\n",
              " 'MCY.AX',\n",
              " 'MEZ.AX',\n",
              " 'MSB.AX',\n",
              " 'MAC.AX',\n",
              " 'MLX.AX',\n",
              " 'MTS.AX',\n",
              " 'MEI.AX',\n",
              " 'MOT.AX',\n",
              " 'MXT.AX',\n",
              " 'MMI.AX',\n",
              " 'MFF.AX',\n",
              " 'MIN.AX',\n",
              " 'MIR.AX',\n",
              " 'MGR.AX',\n",
              " 'MRM.AX',\n",
              " 'MND.AX',\n",
              " 'MVF.AX',\n",
              " 'MGX.AX',\n",
              " 'MYR.AX',\n",
              " 'MYS.AX',\n",
              " 'NAN.AX',\n",
              " 'NAB.AX',\n",
              " 'NSR.AX',\n",
              " 'NGI.AX',\n",
              " 'NWL.AX',\n",
              " 'NEU.AX',\n",
              " 'NHC.AX',\n",
              " 'NEM.AX',\n",
              " 'NWS.AX',\n",
              " 'NXG.AX',\n",
              " 'NXT.AX',\n",
              " 'NHF.AX',\n",
              " 'NIC.AX',\n",
              " 'NCK.AX',\n",
              " 'NEC.AX',\n",
              " 'NTU.AX',\n",
              " 'NST.AX',\n",
              " 'NVX.AX',\n",
              " 'NWH.AX',\n",
              " 'NUF.AX',\n",
              " 'NXL.AX',\n",
              " 'OCL.AX',\n",
              " 'OCA.AX',\n",
              " 'OFX.AX',\n",
              " 'OMH.AX',\n",
              " 'OBL.AX',\n",
              " 'OML.AX',\n",
              " 'OPH.AX',\n",
              " 'OPT.AX',\n",
              " 'OBM.AX',\n",
              " 'ORI.AX',\n",
              " 'ORG.AX',\n",
              " 'ORA.AX',\n",
              " 'PAC.AX',\n",
              " 'PSQ.AX',\n",
              " 'PGH.AX',\n",
              " 'PDN.AX',\n",
              " 'PNR.AX',\n",
              " 'PGC.AX',\n",
              " 'PMT.AX',\n",
              " 'PPC.AX',\n",
              " 'PIA.AX',\n",
              " 'PE1.AX',\n",
              " 'PEN.AX',\n",
              " 'PPM.AX',\n",
              " 'PRN.AX',\n",
              " 'PCI.AX',\n",
              " 'PIC.AX',\n",
              " 'PPT.AX',\n",
              " 'PRU.AX',\n",
              " 'PWR.AX',\n",
              " 'PXA.AX',\n",
              " 'PLS.AX',\n",
              " 'PNI.AX',\n",
              " 'PAI.AX',\n",
              " 'PTM.AX',\n",
              " 'PMC.AX',\n",
              " 'PL8.AX',\n",
              " 'PLY.AX',\n",
              " 'PGF.AX',\n",
              " 'PNV.AX',\n",
              " 'PDI.AX',\n",
              " 'PMV.AX',\n",
              " 'PBP.AX',\n",
              " 'PME.AX',\n",
              " 'PFP.AX',\n",
              " 'PSI.AX',\n",
              " 'PWH.AX',\n",
              " 'PYC.AX',\n",
              " 'QAN.AX',\n",
              " 'QIP.AX',\n",
              " 'QBE.AX',\n",
              " 'QOR.AX',\n",
              " 'QAL.AX',\n",
              " 'QRI.AX',\n",
              " 'QUB.AX',\n",
              " 'RAC.AX',\n",
              " 'RMS.AX',\n",
              " 'REP.AX',\n",
              " 'RHC.AX',\n",
              " 'RDY.AX',\n",
              " 'REA.AX',\n",
              " 'RED.AX',\n",
              " 'RHI.AX',\n",
              " 'RDX.AX',\n",
              " 'REH.AX',\n",
              " 'RG8.AX',\n",
              " 'RF1.AX',\n",
              " 'RPL.AX',\n",
              " 'RGN.AX',\n",
              " 'REG.AX',\n",
              " 'RRL.AX',\n",
              " 'RWC.AX',\n",
              " 'RNU.AX',\n",
              " 'RMC.AX',\n",
              " 'RMD.AX',\n",
              " 'RSG.AX',\n",
              " 'RBD.AX',\n",
              " 'SGLLV.AX',\n",
              " 'RIC.AX',\n",
              " 'RIO.AX',\n",
              " 'RUL.AX',\n",
              " 'RFF.AX',\n",
              " 'SFR.AX',\n",
              " 'STO.AX',\n",
              " 'SYA.AX',\n",
              " 'SCG.AX',\n",
              " 'SFC.AX',\n",
              " 'SEK.AX',\n",
              " 'SHV.AX',\n",
              " 'SKO.AX',\n",
              " 'SRV.AX',\n",
              " 'SSM.AX',\n",
              " 'SVW.AX',\n",
              " 'SWM.AX',\n",
              " 'SGF.AX',\n",
              " 'SIG.AX',\n",
              " 'SLX.AX',\n",
              " 'SLR.AX',\n",
              " 'SVL.AX',\n",
              " 'SGM.AX',\n",
              " 'SDR.AX',\n",
              " 'SKC.AX',\n",
              " 'SKT.AX',\n",
              " 'SIQ.AX',\n",
              " 'SMP.AX',\n",
              " 'SHL.AX',\n",
              " 'S32.AX',\n",
              " 'SXE.AX',\n",
              " 'SXG.AX',\n",
              " 'SVM.AX',\n",
              " 'SPK.AX',\n",
              " 'SPR.AX',\n",
              " 'SRG.AX',\n",
              " 'SMR.AX',\n",
              " 'SDF.AX',\n",
              " 'SST.AX',\n",
              " 'STP.AX',\n",
              " 'SGP.AX',\n",
              " 'STX.AX',\n",
              " 'SNZ.AX',\n",
              " 'SUN.AX',\n",
              " 'SLC.AX',\n",
              " 'SUL.AX',\n",
              " 'SNL.AX',\n",
              " 'SYR.AX',\n",
              " 'TAH.AX',\n",
              " 'TBN.AX',\n",
              " 'TSK.AX',\n",
              " 'TEA.AX',\n",
              " 'TNE.AX',\n",
              " 'TLX.AX',\n",
              " 'TLS.AX',\n",
              " 'TPW.AX',\n",
              " 'A2M.AX',\n",
              " 'TLC.AX',\n",
              " 'SGR.AX',\n",
              " 'TIE.AX',\n",
              " 'THL.AX',\n",
              " 'TWR.AX',\n",
              " 'TPG.AX',\n",
              " 'TCL.AX',\n",
              " 'TWE.AX',\n",
              " 'TUA.AX',\n",
              " 'TRA.AX',\n",
              " 'TYR.AX',\n",
              " 'URW.AX',\n",
              " 'UNI.AX',\n",
              " 'VEE.AX',\n",
              " 'VNT.AX',\n",
              " 'VG1.AX',\n",
              " 'VCX.AX',\n",
              " 'VUK.AX',\n",
              " 'VGL.AX',\n",
              " 'VEA.AX',\n",
              " 'VUL.AX',\n",
              " 'VSL.AX',\n",
              " 'WA1.AX',\n",
              " 'WAM.AX',\n",
              " 'WGB.AX',\n",
              " 'WLE.AX',\n",
              " 'WMI.AX',\n",
              " 'SOL.AX',\n",
              " 'WPR.AX',\n",
              " 'WQG.AX',\n",
              " 'WEB.AX',\n",
              " 'WBT.AX',\n",
              " 'WES.AX',\n",
              " 'WAF.AX',\n",
              " 'WGX.AX',\n",
              " 'WBC.AX',\n",
              " 'WHF.AX',\n",
              " 'WHC.AX',\n",
              " 'WC8.AX',\n",
              " 'WTN.AX',\n",
              " 'WTC.AX',\n",
              " 'WDS.AX',\n",
              " 'WOW.AX',\n",
              " 'WOR.AX',\n",
              " 'XRO.AX',\n",
              " 'YAL.AX',\n",
              " 'ZIM.AX',\n",
              " 'ZIP.AX']"
            ]
          },
          "metadata": {},
          "execution_count": 4
        }
      ]
    },
    {
      "cell_type": "markdown",
      "metadata": {
        "id": "70QrXOW-_Pje"
      },
      "source": [
        "### Test Yahoo Finance"
      ]
    },
    {
      "cell_type": "code",
      "execution_count": 5,
      "metadata": {
        "colab": {
          "base_uri": "https://localhost:8080/"
        },
        "collapsed": true,
        "id": "EtbcroQ3_NRM",
        "outputId": "aa11c14e-a3eb-41b2-949e-d5d61296b6ec"
      },
      "outputs": [
        {
          "output_type": "stream",
          "name": "stdout",
          "text": [
            "Financials:\n",
            "                                                     2023-12-31   2022-12-31  \\\n",
            "Tax Effect Of Unusual Items                         -16272600.0          0.0   \n",
            "Tax Rate For Calcs                                          0.3     0.282515   \n",
            "Normalized EBITDA                                  -177595000.0  142427000.0   \n",
            "Total Unusual Items                                 -54242000.0          NaN   \n",
            "Total Unusual Items Excluding Goodwill              -54242000.0          NaN   \n",
            "Net Income From Continuing Operation Net Minori... -440463000.0  -47222000.0   \n",
            "Reconciled Depreciation                             119709000.0  189399000.0   \n",
            "Reconciled Cost Of Revenue                          424014000.0  527810000.0   \n",
            "EBITDA                                             -231837000.0  142427000.0   \n",
            "EBIT                                               -351546000.0  -46972000.0   \n",
            "Net Interest Income                                 -29336000.0  -19172000.0   \n",
            "Interest Expense                                     30845000.0   18844000.0   \n",
            "Interest Income                                       5234000.0    1385000.0   \n",
            "Normalized Income                                  -402493600.0  -47222000.0   \n",
            "Net Income From Continuing And Discontinued Ope... -440463000.0  -47222000.0   \n",
            "Diluted Average Shares                              551538945.0  493513154.0   \n",
            "Basic Average Shares                                551538945.0  493513154.0   \n",
            "Diluted EPS                                              -0.799     -0.09555   \n",
            "Basic EPS                                                -0.799     -0.09555   \n",
            "Net Income Common Stockholders                     -440463000.0  -47222000.0   \n",
            "Net Income                                         -440463000.0  -47222000.0   \n",
            "Net Income Including Noncontrolling Interests      -440463000.0  -47222000.0   \n",
            "Net Income Continuous Operations                   -440463000.0  -47222000.0   \n",
            "Tax Provision                                        58072000.0  -18594000.0   \n",
            "Pretax Income                                      -382391000.0  -65816000.0   \n",
            "Other Income Expense                                -32382000.0   -9974000.0   \n",
            "Other Non Operating Income Expenses                  21860000.0   -9974000.0   \n",
            "Special Income Charges                              -54242000.0          NaN   \n",
            "Other Special Charges                                 1620000.0          NaN   \n",
            "Impairment Of Capital Assets                         52622000.0          NaN   \n",
            "Net Non Operating Interest Income Expense           -29336000.0  -19172000.0   \n",
            "Total Other Finance Cost                              3725000.0    1713000.0   \n",
            "Interest Expense Non Operating                       30845000.0   18844000.0   \n",
            "Interest Income Non Operating                         5234000.0    1385000.0   \n",
            "Operating Income                                   -320718000.0  -36670000.0   \n",
            "Operating Expense                                   350579000.0  222873000.0   \n",
            "Other Operating Expenses                            196576000.0          NaN   \n",
            "Provision For Doubtful Accounts                             NaN          NaN   \n",
            "Depreciation Amortization Depletion Income Stat...  119709000.0  189399000.0   \n",
            "Depreciation And Amortization In Income Statement   119709000.0  189399000.0   \n",
            "Amortization                                            45000.0     410000.0   \n",
            "Amortization Of Intangibles Income Statement            45000.0     410000.0   \n",
            "Depreciation Income Statement                       119664000.0  188989000.0   \n",
            "Selling General And Administration                   34294000.0   33474000.0   \n",
            "General And Administrative Expense                   34294000.0   33474000.0   \n",
            "Other Gand A                                         34294000.0   33474000.0   \n",
            "Gross Profit                                         29861000.0  186203000.0   \n",
            "Cost Of Revenue                                     424014000.0  527810000.0   \n",
            "Total Revenue                                       453875000.0  714013000.0   \n",
            "Operating Revenue                                   453875000.0  714013000.0   \n",
            "\n",
            "                                                     2021-12-31  \n",
            "Tax Effect Of Unusual Items                                 0.0  \n",
            "Tax Rate For Calcs                                          0.3  \n",
            "Normalized EBITDA                                   147000000.0  \n",
            "Total Unusual Items                                         NaN  \n",
            "Total Unusual Items Excluding Goodwill                      NaN  \n",
            "Net Income From Continuing Operation Net Minori...  121013000.0  \n",
            "Reconciled Depreciation                             100124000.0  \n",
            "Reconciled Cost Of Revenue                          364005000.0  \n",
            "EBITDA                                              147000000.0  \n",
            "EBIT                                                 46876000.0  \n",
            "Net Interest Income                                 -30262000.0  \n",
            "Interest Expense                                     29099000.0  \n",
            "Interest Income                                         90000.0  \n",
            "Normalized Income                                   121013000.0  \n",
            "Net Income From Continuing And Discontinued Ope...  121013000.0  \n",
            "Diluted Average Shares                              255549507.0  \n",
            "Basic Average Shares                                255549507.0  \n",
            "Diluted EPS                                              0.4719  \n",
            "Basic EPS                                              0.472875  \n",
            "Net Income Common Stockholders                      121013000.0  \n",
            "Net Income                                          121013000.0  \n",
            "Net Income Including Noncontrolling Interests       121013000.0  \n",
            "Net Income Continuous Operations                    121013000.0  \n",
            "Tax Provision                                      -103236000.0  \n",
            "Pretax Income                                        17777000.0  \n",
            "Other Income Expense                                -43840000.0  \n",
            "Other Non Operating Income Expenses                 -43840000.0  \n",
            "Special Income Charges                                      NaN  \n",
            "Other Special Charges                                       NaN  \n",
            "Impairment Of Capital Assets                                NaN  \n",
            "Net Non Operating Interest Income Expense           -30262000.0  \n",
            "Total Other Finance Cost                              1253000.0  \n",
            "Interest Expense Non Operating                       29099000.0  \n",
            "Interest Income Non Operating                           90000.0  \n",
            "Operating Income                                     91879000.0  \n",
            "Operating Expense                                   137969000.0  \n",
            "Other Operating Expenses                             18260000.0  \n",
            "Provision For Doubtful Accounts                        955000.0  \n",
            "Depreciation Amortization Depletion Income Stat...  100124000.0  \n",
            "Depreciation And Amortization In Income Statement   100124000.0  \n",
            "Amortization                                            11000.0  \n",
            "Amortization Of Intangibles Income Statement            11000.0  \n",
            "Depreciation Income Statement                       100113000.0  \n",
            "Selling General And Administration                   18630000.0  \n",
            "General And Administrative Expense                   18630000.0  \n",
            "Other Gand A                                         18630000.0  \n",
            "Gross Profit                                        229848000.0  \n",
            "Cost Of Revenue                                     364005000.0  \n",
            "Total Revenue                                       593853000.0  \n",
            "Operating Revenue                                   593853000.0  \n",
            "\n",
            "Balance Sheet:\n",
            "                                                   2023-12-31   2022-12-31  \\\n",
            "Ordinary Shares Number                            701315330.0  493698563.0   \n",
            "Share Issued                                      701315330.0  493698563.0   \n",
            "Net Debt                                           55352000.0   26397000.0   \n",
            "Total Debt                                        271333000.0  265476000.0   \n",
            "Tangible Book Value                               422266000.0  715570000.0   \n",
            "...                                                       ...          ...   \n",
            "Accounts Receivable                                18490000.0   47252000.0   \n",
            "Cash Cash Equivalents And Short Term Investments  174359000.0  184462000.0   \n",
            "Other Short Term Investments                       12500000.0   12500000.0   \n",
            "Cash And Cash Equivalents                         161859000.0  171962000.0   \n",
            "Cash Financial                                    161859000.0  171962000.0   \n",
            "\n",
            "                                                   2021-12-31   2020-12-31  \n",
            "Ordinary Shares Number                            492774358.0  492774358.0  \n",
            "Share Issued                                      492774358.0  492774358.0  \n",
            "Net Debt                                            4145000.0   51790000.0  \n",
            "Total Debt                                        233043000.0  247664000.0  \n",
            "Tangible Book Value                               769368000.0  717423000.0  \n",
            "...                                                       ...          ...  \n",
            "Accounts Receivable                                37232000.0   33359000.0  \n",
            "Cash Cash Equivalents And Short Term Investments  210154000.0  150173000.0  \n",
            "Other Short Term Investments                       12682000.0          NaN  \n",
            "Cash And Cash Equivalents                         197472000.0  150173000.0  \n",
            "Cash Financial                                    197472000.0  150173000.0  \n",
            "\n",
            "[78 rows x 4 columns]\n",
            "\n",
            "Cashflow:\n",
            "                                                   2023-12-31   2022-12-31  \\\n",
            "Free Cash Flow                                   -121468000.0   42079000.0   \n",
            "Repurchase Of Capital Stock                        -5148000.0          NaN   \n",
            "Repayment Of Debt                                 -51873000.0  -18878000.0   \n",
            "Issuance Of Debt                                   60624000.0          NaN   \n",
            "Issuance Of Capital Stock                         151200000.0          NaN   \n",
            "Capital Expenditure                               -84944000.0 -113611000.0   \n",
            "Income Tax Paid Supplemental Data                         NaN    2982000.0   \n",
            "End Cash Position                                 161859000.0  171962000.0   \n",
            "Beginning Cash Position                           171962000.0  197472000.0   \n",
            "Effect Of Exchange Rate Changes                    -1377000.0    4810000.0   \n",
            "Changes In Cash                                    -8726000.0  -30320000.0   \n",
            "Financing Cash Flow                               112742000.0  -72399000.0   \n",
            "Cash Flow From Continuing Financing Activities    112742000.0  -72399000.0   \n",
            "Net Other Financing Charges                       -21141000.0  -30233000.0   \n",
            "Interest Paid Cff                                 -20920000.0  -13661000.0   \n",
            "Cash Dividends Paid                                       NaN   -9627000.0   \n",
            "Common Stock Dividend Paid                                NaN   -9627000.0   \n",
            "Net Common Stock Issuance                         146052000.0          NaN   \n",
            "Common Stock Payments                              -5148000.0          NaN   \n",
            "Common Stock Issuance                             151200000.0          NaN   \n",
            "Net Issuance Payments Of Debt                       8751000.0  -18878000.0   \n",
            "Net Long Term Debt Issuance                         8751000.0  -18878000.0   \n",
            "Long Term Debt Payments                           -51873000.0  -18878000.0   \n",
            "Long Term Debt Issuance                            60624000.0          NaN   \n",
            "Investing Cash Flow                               -84944000.0 -113611000.0   \n",
            "Cash Flow From Continuing Investing Activities    -84944000.0 -113611000.0   \n",
            "Net Business Purchase And Sale                            NaN          NaN   \n",
            "Purchase Of Business                                      NaN          NaN   \n",
            "Net Intangibles Purchase And Sale                         NaN          NaN   \n",
            "Purchase Of Intangibles                                   NaN          NaN   \n",
            "Net PPE Purchase And Sale                         -44514000.0  -50473000.0   \n",
            "Sale Of PPE                                               NaN          NaN   \n",
            "Purchase Of PPE                                   -44514000.0  -50473000.0   \n",
            "Capital Expenditure Reported                      -40430000.0  -63138000.0   \n",
            "Cash Flowsfromusedin Operating Activities Direct  -36524000.0  155690000.0   \n",
            "Taxes Refund Paid Direct                                  NaN   -2982000.0   \n",
            "Interest Received Direct                            5234000.0    1385000.0   \n",
            "Classesof Cash Payments                          -549876000.0 -589605000.0   \n",
            "Paymentsto Suppliersfor Goodsand Services        -549876000.0 -589605000.0   \n",
            "Classesof Cash Receiptsfrom Operating Activities  508118000.0  746892000.0   \n",
            "Other Cash Receiptsfrom Operating Activities       13243000.0   12149000.0   \n",
            "Receiptsfrom Customers                            494875000.0  734743000.0   \n",
            "\n",
            "                                                   2021-12-31  \n",
            "Free Cash Flow                                    -22515000.0  \n",
            "Repurchase Of Capital Stock                       -17339000.0  \n",
            "Repayment Of Debt                                 -81556000.0  \n",
            "Issuance Of Debt                                   12682000.0  \n",
            "Issuance Of Capital Stock                         245000000.0  \n",
            "Capital Expenditure                               -97613000.0  \n",
            "Income Tax Paid Supplemental Data                  22571000.0  \n",
            "End Cash Position                                 197472000.0  \n",
            "Beginning Cash Position                           107215000.0  \n",
            "Effect Of Exchange Rate Changes                     5831000.0  \n",
            "Changes In Cash                                    84426000.0  \n",
            "Financing Cash Flow                               101876000.0  \n",
            "Cash Flow From Continuing Financing Activities    101876000.0  \n",
            "Net Other Financing Charges                       -39388000.0  \n",
            "Interest Paid Cff                                 -17523000.0  \n",
            "Cash Dividends Paid                                       NaN  \n",
            "Common Stock Dividend Paid                                NaN  \n",
            "Net Common Stock Issuance                         227661000.0  \n",
            "Common Stock Payments                             -17339000.0  \n",
            "Common Stock Issuance                             245000000.0  \n",
            "Net Issuance Payments Of Debt                     -68874000.0  \n",
            "Net Long Term Debt Issuance                       -68874000.0  \n",
            "Long Term Debt Payments                           -81556000.0  \n",
            "Long Term Debt Issuance                            12682000.0  \n",
            "Investing Cash Flow                               -92548000.0  \n",
            "Cash Flow From Continuing Investing Activities    -92548000.0  \n",
            "Net Business Purchase And Sale                      4995000.0  \n",
            "Purchase Of Business                                4995000.0  \n",
            "Net Intangibles Purchase And Sale                   -178000.0  \n",
            "Purchase Of Intangibles                             -178000.0  \n",
            "Net PPE Purchase And Sale                         -39032000.0  \n",
            "Sale Of PPE                                           70000.0  \n",
            "Purchase Of PPE                                   -39102000.0  \n",
            "Capital Expenditure Reported                      -58333000.0  \n",
            "Cash Flowsfromusedin Operating Activities Direct   75098000.0  \n",
            "Taxes Refund Paid Direct                          -22571000.0  \n",
            "Interest Received Direct                              90000.0  \n",
            "Classesof Cash Payments                          -487245000.0  \n",
            "Paymentsto Suppliersfor Goodsand Services        -487245000.0  \n",
            "Classesof Cash Receiptsfrom Operating Activities  584824000.0  \n",
            "Other Cash Receiptsfrom Operating Activities      -23194000.0  \n",
            "Receiptsfrom Customers                            608018000.0  \n"
          ]
        }
      ],
      "source": [
        "# Define the ASX ticker\n",
        "ticker_symbol = '29M.AX'\n",
        "\n",
        "# Fetch the ticker data\n",
        "ticker = yf.Ticker(ticker_symbol)\n",
        "\n",
        "# Attempt to retrieve financials\n",
        "try:\n",
        "    financials = ticker.financials\n",
        "    balance_sheet = ticker.balance_sheet\n",
        "    cashflow = ticker.cashflow\n",
        "\n",
        "    if financials.empty and balance_sheet.empty and cashflow.empty:\n",
        "        print(f\"No financial data available for {ticker_symbol}.\")\n",
        "    else:\n",
        "        print(\"Financials:\")\n",
        "        print(financials)\n",
        "\n",
        "        print(\"\\nBalance Sheet:\")\n",
        "        print(balance_sheet)\n",
        "\n",
        "        print(\"\\nCashflow:\")\n",
        "        print(cashflow)\n",
        "\n",
        "except Exception as e:\n",
        "    print(f\"Error fetching financial data for {ticker_symbol}: {e}\")"
      ]
    },
    {
      "cell_type": "code",
      "source": [
        "ticker = yf.Ticker(ticker_symbol)"
      ],
      "metadata": {
        "id": "u1eGZBzBfuGT"
      },
      "execution_count": 7,
      "outputs": []
    },
    {
      "cell_type": "code",
      "source": [
        "ticker.info"
      ],
      "metadata": {
        "colab": {
          "base_uri": "https://localhost:8080/"
        },
        "collapsed": true,
        "id": "_cA8ZhErfvNy",
        "outputId": "423fabfb-1ac5-4216-d1f0-cb7cc30c8576"
      },
      "execution_count": 9,
      "outputs": [
        {
          "output_type": "execute_result",
          "data": {
            "text/plain": [
              "{'address1': 'Thurgauerstrasse 34',\n",
              " 'city': 'Zurich',\n",
              " 'zip': '8050',\n",
              " 'country': 'Switzerland',\n",
              " 'phone': '41 44 316 1717',\n",
              " 'website': 'https://www.amcor.com',\n",
              " 'industry': 'Packaging & Containers',\n",
              " 'industryKey': 'packaging-containers',\n",
              " 'industryDisp': 'Packaging & Containers',\n",
              " 'sector': 'Consumer Cyclical',\n",
              " 'sectorKey': 'consumer-cyclical',\n",
              " 'sectorDisp': 'Consumer Cyclical',\n",
              " 'longBusinessSummary': 'Amcor plc develops, produces, and sells packaging products in Europe, North America, Latin America, Africa, and the Asia Pacific regions. The company operates through two segments, Flexibles and Rigid Packaging. The Flexibles segment provides flexible and film packaging products in the food and beverage, medical and pharmaceutical, fresh produce, snack food, personal care, and other industries. The Rigid Packaging segment offers rigid containers for various beverage and food products, including carbonated soft drinks, water, juices, sports drinks, milk-based beverages, spirits and beer, sauces, dressings, spreads, and personal care items; and plastic caps for various applications. The company sells its products through its direct sales force. Amcor plc was incorporated in 2018 and is headquartered in Zurich, Switzerland.',\n",
              " 'fullTimeEmployees': 41000,\n",
              " 'companyOfficers': [{'maxAge': 1,\n",
              "   'name': 'Mr. Michael  John Casamento BBus (Acct), CPA, GradCert Mktg, MBA',\n",
              "   'age': 52,\n",
              "   'title': 'Executive VP of Finance & CFO',\n",
              "   'yearBorn': 1971,\n",
              "   'fiscalYear': 2023,\n",
              "   'totalPay': 2505386,\n",
              "   'exercisedValue': 3522649,\n",
              "   'unexercisedValue': 0},\n",
              "  {'maxAge': 1,\n",
              "   'name': 'Mr. Ronald Stephen Delia B.Sc., MBA',\n",
              "   'age': 51,\n",
              "   'title': 'Advisor',\n",
              "   'yearBorn': 1972,\n",
              "   'fiscalYear': 2023,\n",
              "   'totalPay': 4062300,\n",
              "   'exercisedValue': 0,\n",
              "   'unexercisedValue': 609989},\n",
              "  {'maxAge': 1,\n",
              "   'name': 'Mr. Michael J. Zacka',\n",
              "   'age': 55,\n",
              "   'title': 'President of Amcor Flexibles Europe, Middle East & Africa',\n",
              "   'yearBorn': 1968,\n",
              "   'fiscalYear': 2023,\n",
              "   'totalPay': 3213669,\n",
              "   'exercisedValue': 4533127,\n",
              "   'unexercisedValue': 0},\n",
              "  {'maxAge': 1,\n",
              "   'name': 'Mr. Eric V. Roegner',\n",
              "   'age': 53,\n",
              "   'title': 'President of Rigid Packaging',\n",
              "   'yearBorn': 1970,\n",
              "   'fiscalYear': 2023,\n",
              "   'totalPay': 1937730,\n",
              "   'exercisedValue': 4189658,\n",
              "   'unexercisedValue': 101337},\n",
              "  {'maxAge': 1,\n",
              "   'name': 'Mr. L. Frederick Stephan',\n",
              "   'age': 58,\n",
              "   'title': 'President of Flexibles North America',\n",
              "   'yearBorn': 1965,\n",
              "   'fiscalYear': 2023,\n",
              "   'totalPay': 2235535,\n",
              "   'exercisedValue': 3355617,\n",
              "   'unexercisedValue': 0},\n",
              "  {'maxAge': 1,\n",
              "   'name': 'Mr. Peter  Konieczny Dip Eng, MBA, MSc Mech Eng',\n",
              "   'age': 57,\n",
              "   'title': 'Interim CEO & Chief Commercial Officer',\n",
              "   'yearBorn': 1966,\n",
              "   'fiscalYear': 2023,\n",
              "   'totalPay': 5433560,\n",
              "   'exercisedValue': 1427471,\n",
              "   'unexercisedValue': 629909},\n",
              "  {'maxAge': 1,\n",
              "   'name': 'Mr. Jerry S. Krempa',\n",
              "   'age': 62,\n",
              "   'title': 'VP & Chief Accounting Officer',\n",
              "   'yearBorn': 1961,\n",
              "   'fiscalYear': 2023,\n",
              "   'exercisedValue': 0,\n",
              "   'unexercisedValue': 0},\n",
              "  {'maxAge': 1,\n",
              "   'name': 'Ms. Tracey  Whitehead',\n",
              "   'title': 'Head of Investor Relations',\n",
              "   'fiscalYear': 2023,\n",
              "   'exercisedValue': 0,\n",
              "   'unexercisedValue': 0},\n",
              "  {'maxAge': 1,\n",
              "   'name': 'Ernesto  Duran',\n",
              "   'title': 'Head of Global Communications',\n",
              "   'fiscalYear': 2023,\n",
              "   'exercisedValue': 0,\n",
              "   'unexercisedValue': 0},\n",
              "  {'maxAge': 1,\n",
              "   'name': 'Ms. Laurel  Spencer',\n",
              "   'title': 'Senior Vice President of Global Sales and Marketing',\n",
              "   'fiscalYear': 2023,\n",
              "   'exercisedValue': 0,\n",
              "   'unexercisedValue': 0}],\n",
              " 'auditRisk': 10,\n",
              " 'boardRisk': 3,\n",
              " 'compensationRisk': 3,\n",
              " 'shareHolderRightsRisk': 8,\n",
              " 'overallRisk': 6,\n",
              " 'governanceEpochDate': 1719792000,\n",
              " 'compensationAsOfEpochDate': 1703980800,\n",
              " 'maxAge': 86400,\n",
              " 'priceHint': 2,\n",
              " 'previousClose': 14.44,\n",
              " 'open': 14.38,\n",
              " 'dayLow': 14.37,\n",
              " 'dayHigh': 14.42,\n",
              " 'regularMarketPreviousClose': 14.44,\n",
              " 'regularMarketOpen': 14.38,\n",
              " 'regularMarketDayLow': 14.37,\n",
              " 'regularMarketDayHigh': 14.42,\n",
              " 'dividendRate': 0.77,\n",
              " 'dividendYield': 0.053200003,\n",
              " 'exDividendDate': 1716249600,\n",
              " 'payoutRatio': 1.0986,\n",
              " 'fiveYearAvgDividendYield': 4.52,\n",
              " 'beta': 0.865,\n",
              " 'trailingPE': 21.147058,\n",
              " 'forwardPE': 12.839286,\n",
              " 'volume': 214738,\n",
              " 'regularMarketVolume': 214738,\n",
              " 'averageVolume': 1636997,\n",
              " 'averageVolume10days': 1742463,\n",
              " 'averageDailyVolume10Day': 1742463,\n",
              " 'bid': 14.37,\n",
              " 'ask': 14.38,\n",
              " 'marketCap': 20783990784,\n",
              " 'fiftyTwoWeekLow': 13.345,\n",
              " 'fiftyTwoWeekHigh': 15.79,\n",
              " 'priceToSalesTrailing12Months': 1.5084912,\n",
              " 'fiftyDayAverage': 15.0116,\n",
              " 'twoHundredDayAverage': 14.36415,\n",
              " 'trailingAnnualDividendRate': 0.498,\n",
              " 'trailingAnnualDividendYield': 0.034487534,\n",
              " 'currency': 'AUD',\n",
              " 'enterpriseValue': 28217315328,\n",
              " 'profitMargins': 0.04739,\n",
              " 'floatShares': 1437265930,\n",
              " 'sharesOutstanding': 1445340032,\n",
              " 'heldPercentInstitutions': 0.22918,\n",
              " 'impliedSharesOutstanding': 1449890048,\n",
              " 'bookValue': 2.731,\n",
              " 'priceToBook': 5.2654705,\n",
              " 'lastFiscalYearEnd': 1688083200,\n",
              " 'nextFiscalYearEnd': 1719705600,\n",
              " 'mostRecentQuarter': 1711843200,\n",
              " 'earningsQuarterlyGrowth': 0.057,\n",
              " 'netIncomeToCommon': 650000000,\n",
              " 'trailingEps': 0.68,\n",
              " 'forwardEps': 1.12,\n",
              " 'pegRatio': 2.86,\n",
              " 'lastSplitFactor': '1.0687:1',\n",
              " 'lastSplitDate': 1250726400,\n",
              " 'enterpriseToRevenue': 2.048,\n",
              " 'enterpriseToEbitda': 15.098,\n",
              " '52WeekChange': -0.01500684,\n",
              " 'SandP52WeekChange': 0.25510752,\n",
              " 'lastDividendValue': 0.1932,\n",
              " 'lastDividendDate': 1716249600,\n",
              " 'exchange': 'ASX',\n",
              " 'quoteType': 'EQUITY',\n",
              " 'symbol': 'AMC.AX',\n",
              " 'underlyingSymbol': 'AMC.AX',\n",
              " 'shortName': 'AMCOR PLC CDI 1:1 [AMC]',\n",
              " 'longName': 'Amcor plc',\n",
              " 'firstTradeDateEpochUtc': 570409200,\n",
              " 'timeZoneFullName': 'Australia/Sydney',\n",
              " 'timeZoneShortName': 'AEST',\n",
              " 'uuid': 'cb4d846d-1e7e-3e39-8aa8-48bff4aad315',\n",
              " 'messageBoardId': 'finmb_401715',\n",
              " 'gmtOffSetMilliseconds': 36000000,\n",
              " 'currentPrice': 14.38,\n",
              " 'targetHighPrice': 17.97,\n",
              " 'targetLowPrice': 14.25,\n",
              " 'targetMeanPrice': 15.36,\n",
              " 'targetMedianPrice': 15.34,\n",
              " 'recommendationMean': 2.8,\n",
              " 'recommendationKey': 'hold',\n",
              " 'numberOfAnalystOpinions': 13,\n",
              " 'totalCash': 461000000,\n",
              " 'totalCashPerShare': 0.319,\n",
              " 'ebitda': 1868999936,\n",
              " 'totalDebt': 7758000128,\n",
              " 'quickRatio': 0.612,\n",
              " 'currentRatio': 1.285,\n",
              " 'totalRevenue': 13777999872,\n",
              " 'debtToEquity': 193.563,\n",
              " 'revenuePerShare': 9.551,\n",
              " 'returnOnAssets': 0.04718,\n",
              " 'returnOnEquity': 0.15945,\n",
              " 'freeCashflow': 754124992,\n",
              " 'operatingCashflow': 1310000000,\n",
              " 'earningsGrowth': 0.084,\n",
              " 'revenueGrowth': -0.07,\n",
              " 'grossMargins': 0.19451,\n",
              " 'ebitdaMargins': 0.13565,\n",
              " 'operatingMargins': 0.09909,\n",
              " 'financialCurrency': 'USD',\n",
              " 'trailingPegRatio': 12.6934}"
            ]
          },
          "metadata": {},
          "execution_count": 9
        }
      ]
    },
    {
      "cell_type": "markdown",
      "source": [
        "### 1.2 Get all the financial metric for each stock"
      ],
      "metadata": {
        "id": "A-U7ywEbtoDn"
      }
    },
    {
      "cell_type": "code",
      "source": [
        "df_dict = {}\n",
        "\n",
        "for ticker_symbol in asx_tickers:\n",
        "    try:\n",
        "        # Fetch the ticker data\n",
        "        ticker = yf.Ticker(ticker_symbol)\n",
        "        financials = ticker.financials\n",
        "        balance_sheet = ticker.balance_sheet\n",
        "        cashflow = ticker.cashflow\n",
        "\n",
        "        # Fect sector\n",
        "        info = ticker.info\n",
        "        sector = info.get('sector')\n",
        "        name = info.get('longName')\n",
        "\n",
        "\n",
        "        if financials.empty and balance_sheet.empty and cashflow.empty:\n",
        "            print(f\"No financial data available for {ticker_symbol}.\")\n",
        "            continue\n",
        "\n",
        "\n",
        "        # Extract necessary financial metrics directly from DataFrames\n",
        "        net_income = financials.loc['Net Income'].dropna()  # Net Income\n",
        "        EPS = financials.loc['Diluted EPS'].dropna()  # Earnings per share\n",
        "        free_cashflow = cashflow.loc['Free Cash Flow'].dropna()  # Free cash flow\n",
        "        stockholders_equity = balance_sheet.loc['Stockholders Equity'].dropna()  # Stockholders' Equity\n",
        "        book_val = balance_sheet.loc['Tangible Book Value'].dropna()  # Tangible Book Value\n",
        "        share_issued = balance_sheet.loc['Share Issued'].dropna()  # Number of Shares Issued\n",
        "        cash = balance_sheet.loc['Cash And Cash Equivalents'].dropna()  # Cash and Cash Equivalents\n",
        "\n",
        "\n",
        "        # Check if 'Current Liabilities' exists, else use 'Current Debt' (Banking companies)\n",
        "        if 'Current Liabilities' in balance_sheet.index:\n",
        "            current_liabilities = balance_sheet.loc['Current Liabilities'].dropna()\n",
        "        elif 'Current Debt' in balance_sheet.index:\n",
        "            current_liabilities = balance_sheet.loc['Current Debt'].dropna()\n",
        "        else:\n",
        "            current_liabilities = pd.Series(index=balance_sheet.columns)  # Create an empty Series with the same columns\n",
        "\n",
        "        joined_df = pd.concat([net_income, EPS, free_cashflow, stockholders_equity, book_val, share_issued, current_liabilities, cash], axis=1)\n",
        "        joined_df['Ticker'] = ticker_symbol\n",
        "        joined_df['Sector'] = sector\n",
        "        joined_df['Name'] = name\n",
        "\n",
        "        # Append the DataFrame to the dictionary\n",
        "        df_dict[ticker_symbol] = joined_df\n",
        "\n",
        "    except Exception as e:\n",
        "        print(f\"Error processing {ticker_symbol}: {e}\")\n",
        "\n",
        "# Combine all DataFrames into one final DataFrame\n",
        "final_df = pd.concat(df_dict.values())"
      ],
      "metadata": {
        "colab": {
          "base_uri": "https://localhost:8080/"
        },
        "id": "f2E6TetHS6dH",
        "outputId": "cc4950b9-8a36-4e28-e3e7-6c4447597e4a"
      },
      "execution_count": 10,
      "outputs": [
        {
          "output_type": "stream",
          "name": "stdout",
          "text": [
            "No financial data available for KKC.AX.\n",
            "No financial data available for MGF.AX.\n",
            "No financial data available for PCI.AX.\n",
            "No financial data available for RG8.AX.\n",
            "No financial data available for RF1.AX.\n",
            "No financial data available for VG1.AX.\n",
            "No financial data available for WQG.AX.\n"
          ]
        }
      ]
    },
    {
      "cell_type": "code",
      "source": [
        "final_df"
      ],
      "metadata": {
        "colab": {
          "base_uri": "https://localhost:8080/",
          "height": 615
        },
        "collapsed": true,
        "id": "SZqpgL7DeL6P",
        "outputId": "ba2c3d41-0f2b-4f14-a38a-9a4bac28f509"
      },
      "execution_count": 11,
      "outputs": [
        {
          "output_type": "execute_result",
          "data": {
            "text/plain": [
              "              Net Income Diluted EPS Free Cash Flow Stockholders Equity  \\\n",
              "2023-06-30     6370000.0       0.023      4642000.0         200691000.0   \n",
              "2022-06-30     -536000.0     -0.0019      7651000.0         193901000.0   \n",
              "2021-06-30    -9369000.0     -0.0615     -4558000.0         194832000.0   \n",
              "2020-06-30     1550000.0      0.0111      2417000.0          26267000.0   \n",
              "2023-06-30   -31459798.0        -0.1    -23384007.0          71460377.0   \n",
              "...                  ...         ...            ...                 ...   \n",
              "2020-06-30   261839000.0        2.43    154140000.0        1271999000.0   \n",
              "2023-06-30  -377015000.0     -0.5233   -249595000.0         234340000.0   \n",
              "2022-06-30 -1105093000.0     -1.8126   -781932000.0         436734000.0   \n",
              "2021-06-30  -658774000.0     -1.2705     30831000.0        1168376000.0   \n",
              "2020-06-30   -19941000.0     -0.0531     -4849000.0         205400000.0   \n",
              "\n",
              "           Tangible Book Value Share Issued Current Liabilities  \\\n",
              "2023-06-30          -5122000.0  276484170.0          57757000.0   \n",
              "2022-06-30          -7046000.0  276484170.0          59518000.0   \n",
              "2021-06-30         -12821000.0  276484170.0          55493000.0   \n",
              "2020-06-30           5402000.0  139484170.0          35612000.0   \n",
              "2023-06-30          66377721.0  345132572.0          17071692.0   \n",
              "...                        ...          ...                 ...   \n",
              "2020-06-30        1271999000.0  107637649.0         120999000.0   \n",
              "2023-06-30        -116533000.0  824647000.0         222445000.0   \n",
              "2022-06-30          21640000.0  687936000.0         156362000.0   \n",
              "2021-06-30         171709000.0  562136000.0          73453000.0   \n",
              "2020-06-30         126866000.0  390390000.0          22286000.0   \n",
              "\n",
              "           Cash And Cash Equivalents  Ticker              Sector  \\\n",
              "2023-06-30                14010000.0  3PL.AX  Consumer Defensive   \n",
              "2022-06-30                31127000.0  3PL.AX  Consumer Defensive   \n",
              "2021-06-30                24906000.0  3PL.AX  Consumer Defensive   \n",
              "2020-06-30                27083000.0  3PL.AX  Consumer Defensive   \n",
              "2023-06-30                69576373.0  4DX.AX          Healthcare   \n",
              "...                              ...     ...                 ...   \n",
              "2020-06-30               135817000.0  ZIM.AX     Basic Materials   \n",
              "2023-06-30               275910000.0  ZIP.AX  Financial Services   \n",
              "2022-06-30               299695000.0  ZIP.AX  Financial Services   \n",
              "2021-06-30               330201000.0  ZIP.AX  Financial Services   \n",
              "2020-06-30                32712000.0  ZIP.AX  Financial Services   \n",
              "\n",
              "                                 Name   0 Current Debt  \n",
              "2023-06-30        3P Learning Limited NaN          NaN  \n",
              "2022-06-30        3P Learning Limited NaN          NaN  \n",
              "2021-06-30        3P Learning Limited NaN          NaN  \n",
              "2020-06-30        3P Learning Limited NaN          NaN  \n",
              "2023-06-30          4DMedical Limited NaN          NaN  \n",
              "...                               ...  ..          ...  \n",
              "2020-06-30  Zimplats Holdings Limited NaN          NaN  \n",
              "2023-06-30             Zip Co Limited NaN          NaN  \n",
              "2022-06-30             Zip Co Limited NaN          NaN  \n",
              "2021-06-30             Zip Co Limited NaN          NaN  \n",
              "2020-06-30             Zip Co Limited NaN          NaN  \n",
              "\n",
              "[1960 rows x 13 columns]"
            ],
            "text/html": [
              "\n",
              "  <div id=\"df-5765ee98-267a-4780-a83d-29d95a73f214\" class=\"colab-df-container\">\n",
              "    <div>\n",
              "<style scoped>\n",
              "    .dataframe tbody tr th:only-of-type {\n",
              "        vertical-align: middle;\n",
              "    }\n",
              "\n",
              "    .dataframe tbody tr th {\n",
              "        vertical-align: top;\n",
              "    }\n",
              "\n",
              "    .dataframe thead th {\n",
              "        text-align: right;\n",
              "    }\n",
              "</style>\n",
              "<table border=\"1\" class=\"dataframe\">\n",
              "  <thead>\n",
              "    <tr style=\"text-align: right;\">\n",
              "      <th></th>\n",
              "      <th>Net Income</th>\n",
              "      <th>Diluted EPS</th>\n",
              "      <th>Free Cash Flow</th>\n",
              "      <th>Stockholders Equity</th>\n",
              "      <th>Tangible Book Value</th>\n",
              "      <th>Share Issued</th>\n",
              "      <th>Current Liabilities</th>\n",
              "      <th>Cash And Cash Equivalents</th>\n",
              "      <th>Ticker</th>\n",
              "      <th>Sector</th>\n",
              "      <th>Name</th>\n",
              "      <th>0</th>\n",
              "      <th>Current Debt</th>\n",
              "    </tr>\n",
              "  </thead>\n",
              "  <tbody>\n",
              "    <tr>\n",
              "      <th>2023-06-30</th>\n",
              "      <td>6370000.0</td>\n",
              "      <td>0.023</td>\n",
              "      <td>4642000.0</td>\n",
              "      <td>200691000.0</td>\n",
              "      <td>-5122000.0</td>\n",
              "      <td>276484170.0</td>\n",
              "      <td>57757000.0</td>\n",
              "      <td>14010000.0</td>\n",
              "      <td>3PL.AX</td>\n",
              "      <td>Consumer Defensive</td>\n",
              "      <td>3P Learning Limited</td>\n",
              "      <td>NaN</td>\n",
              "      <td>NaN</td>\n",
              "    </tr>\n",
              "    <tr>\n",
              "      <th>2022-06-30</th>\n",
              "      <td>-536000.0</td>\n",
              "      <td>-0.0019</td>\n",
              "      <td>7651000.0</td>\n",
              "      <td>193901000.0</td>\n",
              "      <td>-7046000.0</td>\n",
              "      <td>276484170.0</td>\n",
              "      <td>59518000.0</td>\n",
              "      <td>31127000.0</td>\n",
              "      <td>3PL.AX</td>\n",
              "      <td>Consumer Defensive</td>\n",
              "      <td>3P Learning Limited</td>\n",
              "      <td>NaN</td>\n",
              "      <td>NaN</td>\n",
              "    </tr>\n",
              "    <tr>\n",
              "      <th>2021-06-30</th>\n",
              "      <td>-9369000.0</td>\n",
              "      <td>-0.0615</td>\n",
              "      <td>-4558000.0</td>\n",
              "      <td>194832000.0</td>\n",
              "      <td>-12821000.0</td>\n",
              "      <td>276484170.0</td>\n",
              "      <td>55493000.0</td>\n",
              "      <td>24906000.0</td>\n",
              "      <td>3PL.AX</td>\n",
              "      <td>Consumer Defensive</td>\n",
              "      <td>3P Learning Limited</td>\n",
              "      <td>NaN</td>\n",
              "      <td>NaN</td>\n",
              "    </tr>\n",
              "    <tr>\n",
              "      <th>2020-06-30</th>\n",
              "      <td>1550000.0</td>\n",
              "      <td>0.0111</td>\n",
              "      <td>2417000.0</td>\n",
              "      <td>26267000.0</td>\n",
              "      <td>5402000.0</td>\n",
              "      <td>139484170.0</td>\n",
              "      <td>35612000.0</td>\n",
              "      <td>27083000.0</td>\n",
              "      <td>3PL.AX</td>\n",
              "      <td>Consumer Defensive</td>\n",
              "      <td>3P Learning Limited</td>\n",
              "      <td>NaN</td>\n",
              "      <td>NaN</td>\n",
              "    </tr>\n",
              "    <tr>\n",
              "      <th>2023-06-30</th>\n",
              "      <td>-31459798.0</td>\n",
              "      <td>-0.1</td>\n",
              "      <td>-23384007.0</td>\n",
              "      <td>71460377.0</td>\n",
              "      <td>66377721.0</td>\n",
              "      <td>345132572.0</td>\n",
              "      <td>17071692.0</td>\n",
              "      <td>69576373.0</td>\n",
              "      <td>4DX.AX</td>\n",
              "      <td>Healthcare</td>\n",
              "      <td>4DMedical Limited</td>\n",
              "      <td>NaN</td>\n",
              "      <td>NaN</td>\n",
              "    </tr>\n",
              "    <tr>\n",
              "      <th>...</th>\n",
              "      <td>...</td>\n",
              "      <td>...</td>\n",
              "      <td>...</td>\n",
              "      <td>...</td>\n",
              "      <td>...</td>\n",
              "      <td>...</td>\n",
              "      <td>...</td>\n",
              "      <td>...</td>\n",
              "      <td>...</td>\n",
              "      <td>...</td>\n",
              "      <td>...</td>\n",
              "      <td>...</td>\n",
              "      <td>...</td>\n",
              "    </tr>\n",
              "    <tr>\n",
              "      <th>2020-06-30</th>\n",
              "      <td>261839000.0</td>\n",
              "      <td>2.43</td>\n",
              "      <td>154140000.0</td>\n",
              "      <td>1271999000.0</td>\n",
              "      <td>1271999000.0</td>\n",
              "      <td>107637649.0</td>\n",
              "      <td>120999000.0</td>\n",
              "      <td>135817000.0</td>\n",
              "      <td>ZIM.AX</td>\n",
              "      <td>Basic Materials</td>\n",
              "      <td>Zimplats Holdings Limited</td>\n",
              "      <td>NaN</td>\n",
              "      <td>NaN</td>\n",
              "    </tr>\n",
              "    <tr>\n",
              "      <th>2023-06-30</th>\n",
              "      <td>-377015000.0</td>\n",
              "      <td>-0.5233</td>\n",
              "      <td>-249595000.0</td>\n",
              "      <td>234340000.0</td>\n",
              "      <td>-116533000.0</td>\n",
              "      <td>824647000.0</td>\n",
              "      <td>222445000.0</td>\n",
              "      <td>275910000.0</td>\n",
              "      <td>ZIP.AX</td>\n",
              "      <td>Financial Services</td>\n",
              "      <td>Zip Co Limited</td>\n",
              "      <td>NaN</td>\n",
              "      <td>NaN</td>\n",
              "    </tr>\n",
              "    <tr>\n",
              "      <th>2022-06-30</th>\n",
              "      <td>-1105093000.0</td>\n",
              "      <td>-1.8126</td>\n",
              "      <td>-781932000.0</td>\n",
              "      <td>436734000.0</td>\n",
              "      <td>21640000.0</td>\n",
              "      <td>687936000.0</td>\n",
              "      <td>156362000.0</td>\n",
              "      <td>299695000.0</td>\n",
              "      <td>ZIP.AX</td>\n",
              "      <td>Financial Services</td>\n",
              "      <td>Zip Co Limited</td>\n",
              "      <td>NaN</td>\n",
              "      <td>NaN</td>\n",
              "    </tr>\n",
              "    <tr>\n",
              "      <th>2021-06-30</th>\n",
              "      <td>-658774000.0</td>\n",
              "      <td>-1.2705</td>\n",
              "      <td>30831000.0</td>\n",
              "      <td>1168376000.0</td>\n",
              "      <td>171709000.0</td>\n",
              "      <td>562136000.0</td>\n",
              "      <td>73453000.0</td>\n",
              "      <td>330201000.0</td>\n",
              "      <td>ZIP.AX</td>\n",
              "      <td>Financial Services</td>\n",
              "      <td>Zip Co Limited</td>\n",
              "      <td>NaN</td>\n",
              "      <td>NaN</td>\n",
              "    </tr>\n",
              "    <tr>\n",
              "      <th>2020-06-30</th>\n",
              "      <td>-19941000.0</td>\n",
              "      <td>-0.0531</td>\n",
              "      <td>-4849000.0</td>\n",
              "      <td>205400000.0</td>\n",
              "      <td>126866000.0</td>\n",
              "      <td>390390000.0</td>\n",
              "      <td>22286000.0</td>\n",
              "      <td>32712000.0</td>\n",
              "      <td>ZIP.AX</td>\n",
              "      <td>Financial Services</td>\n",
              "      <td>Zip Co Limited</td>\n",
              "      <td>NaN</td>\n",
              "      <td>NaN</td>\n",
              "    </tr>\n",
              "  </tbody>\n",
              "</table>\n",
              "<p>1960 rows × 13 columns</p>\n",
              "</div>\n",
              "    <div class=\"colab-df-buttons\">\n",
              "\n",
              "  <div class=\"colab-df-container\">\n",
              "    <button class=\"colab-df-convert\" onclick=\"convertToInteractive('df-5765ee98-267a-4780-a83d-29d95a73f214')\"\n",
              "            title=\"Convert this dataframe to an interactive table.\"\n",
              "            style=\"display:none;\">\n",
              "\n",
              "  <svg xmlns=\"http://www.w3.org/2000/svg\" height=\"24px\" viewBox=\"0 -960 960 960\">\n",
              "    <path d=\"M120-120v-720h720v720H120Zm60-500h600v-160H180v160Zm220 220h160v-160H400v160Zm0 220h160v-160H400v160ZM180-400h160v-160H180v160Zm440 0h160v-160H620v160ZM180-180h160v-160H180v160Zm440 0h160v-160H620v160Z\"/>\n",
              "  </svg>\n",
              "    </button>\n",
              "\n",
              "  <style>\n",
              "    .colab-df-container {\n",
              "      display:flex;\n",
              "      gap: 12px;\n",
              "    }\n",
              "\n",
              "    .colab-df-convert {\n",
              "      background-color: #E8F0FE;\n",
              "      border: none;\n",
              "      border-radius: 50%;\n",
              "      cursor: pointer;\n",
              "      display: none;\n",
              "      fill: #1967D2;\n",
              "      height: 32px;\n",
              "      padding: 0 0 0 0;\n",
              "      width: 32px;\n",
              "    }\n",
              "\n",
              "    .colab-df-convert:hover {\n",
              "      background-color: #E2EBFA;\n",
              "      box-shadow: 0px 1px 2px rgba(60, 64, 67, 0.3), 0px 1px 3px 1px rgba(60, 64, 67, 0.15);\n",
              "      fill: #174EA6;\n",
              "    }\n",
              "\n",
              "    .colab-df-buttons div {\n",
              "      margin-bottom: 4px;\n",
              "    }\n",
              "\n",
              "    [theme=dark] .colab-df-convert {\n",
              "      background-color: #3B4455;\n",
              "      fill: #D2E3FC;\n",
              "    }\n",
              "\n",
              "    [theme=dark] .colab-df-convert:hover {\n",
              "      background-color: #434B5C;\n",
              "      box-shadow: 0px 1px 3px 1px rgba(0, 0, 0, 0.15);\n",
              "      filter: drop-shadow(0px 1px 2px rgba(0, 0, 0, 0.3));\n",
              "      fill: #FFFFFF;\n",
              "    }\n",
              "  </style>\n",
              "\n",
              "    <script>\n",
              "      const buttonEl =\n",
              "        document.querySelector('#df-5765ee98-267a-4780-a83d-29d95a73f214 button.colab-df-convert');\n",
              "      buttonEl.style.display =\n",
              "        google.colab.kernel.accessAllowed ? 'block' : 'none';\n",
              "\n",
              "      async function convertToInteractive(key) {\n",
              "        const element = document.querySelector('#df-5765ee98-267a-4780-a83d-29d95a73f214');\n",
              "        const dataTable =\n",
              "          await google.colab.kernel.invokeFunction('convertToInteractive',\n",
              "                                                    [key], {});\n",
              "        if (!dataTable) return;\n",
              "\n",
              "        const docLinkHtml = 'Like what you see? Visit the ' +\n",
              "          '<a target=\"_blank\" href=https://colab.research.google.com/notebooks/data_table.ipynb>data table notebook</a>'\n",
              "          + ' to learn more about interactive tables.';\n",
              "        element.innerHTML = '';\n",
              "        dataTable['output_type'] = 'display_data';\n",
              "        await google.colab.output.renderOutput(dataTable, element);\n",
              "        const docLink = document.createElement('div');\n",
              "        docLink.innerHTML = docLinkHtml;\n",
              "        element.appendChild(docLink);\n",
              "      }\n",
              "    </script>\n",
              "  </div>\n",
              "\n",
              "\n",
              "<div id=\"df-c56d9dfa-d34d-49cc-b132-3d88092d9f0f\">\n",
              "  <button class=\"colab-df-quickchart\" onclick=\"quickchart('df-c56d9dfa-d34d-49cc-b132-3d88092d9f0f')\"\n",
              "            title=\"Suggest charts\"\n",
              "            style=\"display:none;\">\n",
              "\n",
              "<svg xmlns=\"http://www.w3.org/2000/svg\" height=\"24px\"viewBox=\"0 0 24 24\"\n",
              "     width=\"24px\">\n",
              "    <g>\n",
              "        <path d=\"M19 3H5c-1.1 0-2 .9-2 2v14c0 1.1.9 2 2 2h14c1.1 0 2-.9 2-2V5c0-1.1-.9-2-2-2zM9 17H7v-7h2v7zm4 0h-2V7h2v10zm4 0h-2v-4h2v4z\"/>\n",
              "    </g>\n",
              "</svg>\n",
              "  </button>\n",
              "\n",
              "<style>\n",
              "  .colab-df-quickchart {\n",
              "      --bg-color: #E8F0FE;\n",
              "      --fill-color: #1967D2;\n",
              "      --hover-bg-color: #E2EBFA;\n",
              "      --hover-fill-color: #174EA6;\n",
              "      --disabled-fill-color: #AAA;\n",
              "      --disabled-bg-color: #DDD;\n",
              "  }\n",
              "\n",
              "  [theme=dark] .colab-df-quickchart {\n",
              "      --bg-color: #3B4455;\n",
              "      --fill-color: #D2E3FC;\n",
              "      --hover-bg-color: #434B5C;\n",
              "      --hover-fill-color: #FFFFFF;\n",
              "      --disabled-bg-color: #3B4455;\n",
              "      --disabled-fill-color: #666;\n",
              "  }\n",
              "\n",
              "  .colab-df-quickchart {\n",
              "    background-color: var(--bg-color);\n",
              "    border: none;\n",
              "    border-radius: 50%;\n",
              "    cursor: pointer;\n",
              "    display: none;\n",
              "    fill: var(--fill-color);\n",
              "    height: 32px;\n",
              "    padding: 0;\n",
              "    width: 32px;\n",
              "  }\n",
              "\n",
              "  .colab-df-quickchart:hover {\n",
              "    background-color: var(--hover-bg-color);\n",
              "    box-shadow: 0 1px 2px rgba(60, 64, 67, 0.3), 0 1px 3px 1px rgba(60, 64, 67, 0.15);\n",
              "    fill: var(--button-hover-fill-color);\n",
              "  }\n",
              "\n",
              "  .colab-df-quickchart-complete:disabled,\n",
              "  .colab-df-quickchart-complete:disabled:hover {\n",
              "    background-color: var(--disabled-bg-color);\n",
              "    fill: var(--disabled-fill-color);\n",
              "    box-shadow: none;\n",
              "  }\n",
              "\n",
              "  .colab-df-spinner {\n",
              "    border: 2px solid var(--fill-color);\n",
              "    border-color: transparent;\n",
              "    border-bottom-color: var(--fill-color);\n",
              "    animation:\n",
              "      spin 1s steps(1) infinite;\n",
              "  }\n",
              "\n",
              "  @keyframes spin {\n",
              "    0% {\n",
              "      border-color: transparent;\n",
              "      border-bottom-color: var(--fill-color);\n",
              "      border-left-color: var(--fill-color);\n",
              "    }\n",
              "    20% {\n",
              "      border-color: transparent;\n",
              "      border-left-color: var(--fill-color);\n",
              "      border-top-color: var(--fill-color);\n",
              "    }\n",
              "    30% {\n",
              "      border-color: transparent;\n",
              "      border-left-color: var(--fill-color);\n",
              "      border-top-color: var(--fill-color);\n",
              "      border-right-color: var(--fill-color);\n",
              "    }\n",
              "    40% {\n",
              "      border-color: transparent;\n",
              "      border-right-color: var(--fill-color);\n",
              "      border-top-color: var(--fill-color);\n",
              "    }\n",
              "    60% {\n",
              "      border-color: transparent;\n",
              "      border-right-color: var(--fill-color);\n",
              "    }\n",
              "    80% {\n",
              "      border-color: transparent;\n",
              "      border-right-color: var(--fill-color);\n",
              "      border-bottom-color: var(--fill-color);\n",
              "    }\n",
              "    90% {\n",
              "      border-color: transparent;\n",
              "      border-bottom-color: var(--fill-color);\n",
              "    }\n",
              "  }\n",
              "</style>\n",
              "\n",
              "  <script>\n",
              "    async function quickchart(key) {\n",
              "      const quickchartButtonEl =\n",
              "        document.querySelector('#' + key + ' button');\n",
              "      quickchartButtonEl.disabled = true;  // To prevent multiple clicks.\n",
              "      quickchartButtonEl.classList.add('colab-df-spinner');\n",
              "      try {\n",
              "        const charts = await google.colab.kernel.invokeFunction(\n",
              "            'suggestCharts', [key], {});\n",
              "      } catch (error) {\n",
              "        console.error('Error during call to suggestCharts:', error);\n",
              "      }\n",
              "      quickchartButtonEl.classList.remove('colab-df-spinner');\n",
              "      quickchartButtonEl.classList.add('colab-df-quickchart-complete');\n",
              "    }\n",
              "    (() => {\n",
              "      let quickchartButtonEl =\n",
              "        document.querySelector('#df-c56d9dfa-d34d-49cc-b132-3d88092d9f0f button');\n",
              "      quickchartButtonEl.style.display =\n",
              "        google.colab.kernel.accessAllowed ? 'block' : 'none';\n",
              "    })();\n",
              "  </script>\n",
              "</div>\n",
              "\n",
              "  <div id=\"id_cd3e6503-7efb-43c0-86cb-584367402b06\">\n",
              "    <style>\n",
              "      .colab-df-generate {\n",
              "        background-color: #E8F0FE;\n",
              "        border: none;\n",
              "        border-radius: 50%;\n",
              "        cursor: pointer;\n",
              "        display: none;\n",
              "        fill: #1967D2;\n",
              "        height: 32px;\n",
              "        padding: 0 0 0 0;\n",
              "        width: 32px;\n",
              "      }\n",
              "\n",
              "      .colab-df-generate:hover {\n",
              "        background-color: #E2EBFA;\n",
              "        box-shadow: 0px 1px 2px rgba(60, 64, 67, 0.3), 0px 1px 3px 1px rgba(60, 64, 67, 0.15);\n",
              "        fill: #174EA6;\n",
              "      }\n",
              "\n",
              "      [theme=dark] .colab-df-generate {\n",
              "        background-color: #3B4455;\n",
              "        fill: #D2E3FC;\n",
              "      }\n",
              "\n",
              "      [theme=dark] .colab-df-generate:hover {\n",
              "        background-color: #434B5C;\n",
              "        box-shadow: 0px 1px 3px 1px rgba(0, 0, 0, 0.15);\n",
              "        filter: drop-shadow(0px 1px 2px rgba(0, 0, 0, 0.3));\n",
              "        fill: #FFFFFF;\n",
              "      }\n",
              "    </style>\n",
              "    <button class=\"colab-df-generate\" onclick=\"generateWithVariable('final_df')\"\n",
              "            title=\"Generate code using this dataframe.\"\n",
              "            style=\"display:none;\">\n",
              "\n",
              "  <svg xmlns=\"http://www.w3.org/2000/svg\" height=\"24px\"viewBox=\"0 0 24 24\"\n",
              "       width=\"24px\">\n",
              "    <path d=\"M7,19H8.4L18.45,9,17,7.55,7,17.6ZM5,21V16.75L18.45,3.32a2,2,0,0,1,2.83,0l1.4,1.43a1.91,1.91,0,0,1,.58,1.4,1.91,1.91,0,0,1-.58,1.4L9.25,21ZM18.45,9,17,7.55Zm-12,3A5.31,5.31,0,0,0,4.9,8.1,5.31,5.31,0,0,0,1,6.5,5.31,5.31,0,0,0,4.9,4.9,5.31,5.31,0,0,0,6.5,1,5.31,5.31,0,0,0,8.1,4.9,5.31,5.31,0,0,0,12,6.5,5.46,5.46,0,0,0,6.5,12Z\"/>\n",
              "  </svg>\n",
              "    </button>\n",
              "    <script>\n",
              "      (() => {\n",
              "      const buttonEl =\n",
              "        document.querySelector('#id_cd3e6503-7efb-43c0-86cb-584367402b06 button.colab-df-generate');\n",
              "      buttonEl.style.display =\n",
              "        google.colab.kernel.accessAllowed ? 'block' : 'none';\n",
              "\n",
              "      buttonEl.onclick = () => {\n",
              "        google.colab.notebook.generateWithVariable('final_df');\n",
              "      }\n",
              "      })();\n",
              "    </script>\n",
              "  </div>\n",
              "\n",
              "    </div>\n",
              "  </div>\n"
            ],
            "application/vnd.google.colaboratory.intrinsic+json": {
              "type": "dataframe",
              "variable_name": "final_df",
              "summary": "{\n  \"name\": \"final_df\",\n  \"rows\": 1960,\n  \"fields\": [\n    {\n      \"column\": \"Net Income\",\n      \"properties\": {\n        \"dtype\": \"date\",\n        \"min\": -7212600000.0,\n        \"max\": 30900000000.0,\n        \"num_unique_values\": 1866,\n        \"samples\": [\n          155638000.0,\n          19470000.0,\n          -12420000.0\n        ],\n        \"semantic_type\": \"\",\n        \"description\": \"\"\n      }\n    },\n    {\n      \"column\": \"Diluted EPS\",\n      \"properties\": {\n        \"dtype\": \"date\",\n        \"min\": -12.0491,\n        \"max\": 38.78,\n        \"num_unique_values\": 1619,\n        \"samples\": [\n          0.427,\n          0.1783,\n          2.102\n        ],\n        \"semantic_type\": \"\",\n        \"description\": \"\"\n      }\n    },\n    {\n      \"column\": \"Free Cash Flow\",\n      \"properties\": {\n        \"dtype\": \"date\",\n        \"min\": -27891000000.0,\n        \"max\": 57376000000.0,\n        \"num_unique_values\": 1879,\n        \"samples\": [\n          34021000.0,\n          6113411.0,\n          -41578000.0\n        ],\n        \"semantic_type\": \"\",\n        \"description\": \"\"\n      }\n    },\n    {\n      \"column\": \"Stockholders Equity\",\n      \"properties\": {\n        \"dtype\": \"date\",\n        \"min\": -2653000000.0,\n        \"max\": 78683000000.0,\n        \"num_unique_values\": 1911,\n        \"samples\": [\n          73549000.0,\n          69524000000.0,\n          805100000.0\n        ],\n        \"semantic_type\": \"\",\n        \"description\": \"\"\n      }\n    },\n    {\n      \"column\": \"Tangible Book Value\",\n      \"properties\": {\n        \"dtype\": \"date\",\n        \"min\": -18532000000.0,\n        \"max\": 71741000000.0,\n        \"num_unique_values\": 1911,\n        \"samples\": [\n          32434000.0,\n          65466000000.0,\n          84795495.0\n        ],\n        \"semantic_type\": \"\",\n        \"description\": \"\"\n      }\n    },\n    {\n      \"column\": \"Share Issued\",\n      \"properties\": {\n        \"dtype\": \"date\",\n        \"min\": 778008.0,\n        \"max\": 22148299000.0,\n        \"num_unique_values\": 1610,\n        \"samples\": [\n          272746292.0,\n          2113364692.0,\n          174273315.0\n        ],\n        \"semantic_type\": \"\",\n        \"description\": \"\"\n      }\n    },\n    {\n      \"column\": \"Current Liabilities\",\n      \"properties\": {\n        \"dtype\": \"date\",\n        \"min\": 0.0,\n        \"max\": 357860400000.0,\n        \"num_unique_values\": 1652,\n        \"samples\": [\n          44724000.0,\n          100800000.0,\n          35917424.0\n        ],\n        \"semantic_type\": \"\",\n        \"description\": \"\"\n      }\n    },\n    {\n      \"column\": \"Cash And Cash Equivalents\",\n      \"properties\": {\n        \"dtype\": \"date\",\n        \"min\": 17000.0,\n        \"max\": 157530000000.0,\n        \"num_unique_values\": 1894,\n        \"samples\": [\n          1752263.0,\n          46146000.0,\n          1342419000.0\n        ],\n        \"semantic_type\": \"\",\n        \"description\": \"\"\n      }\n    },\n    {\n      \"column\": \"Ticker\",\n      \"properties\": {\n        \"dtype\": \"category\",\n        \"num_unique_values\": 493,\n        \"samples\": [\n          \"TWE.AX\",\n          \"BSL.AX\",\n          \"NTU.AX\"\n        ],\n        \"semantic_type\": \"\",\n        \"description\": \"\"\n      }\n    },\n    {\n      \"column\": \"Sector\",\n      \"properties\": {\n        \"dtype\": \"category\",\n        \"num_unique_values\": 12,\n        \"samples\": [\n          \"Communication Services\",\n          \"Energy\",\n          \"Consumer Defensive\"\n        ],\n        \"semantic_type\": \"\",\n        \"description\": \"\"\n      }\n    },\n    {\n      \"column\": \"Name\",\n      \"properties\": {\n        \"dtype\": \"category\",\n        \"num_unique_values\": 491,\n        \"samples\": [\n          \"Treasury Wine Estates Limited\",\n          \"BSP Financial Group Limited\",\n          \"Supply Network Limited\"\n        ],\n        \"semantic_type\": \"\",\n        \"description\": \"\"\n      }\n    },\n    {\n      \"column\": 0,\n      \"properties\": {\n        \"dtype\": \"number\",\n        \"std\": null,\n        \"min\": null,\n        \"max\": null,\n        \"num_unique_values\": 0,\n        \"samples\": [],\n        \"semantic_type\": \"\",\n        \"description\": \"\"\n      }\n    },\n    {\n      \"column\": \"Current Debt\",\n      \"properties\": {\n        \"dtype\": \"date\",\n        \"min\": 193000.0,\n        \"max\": 179034000000.0,\n        \"num_unique_values\": 90,\n        \"samples\": [],\n        \"semantic_type\": \"\",\n        \"description\": \"\"\n      }\n    }\n  ]\n}"
            }
          },
          "metadata": {},
          "execution_count": 11
        }
      ]
    },
    {
      "cell_type": "code",
      "source": [
        "# Merge Current debt as Current liabilities\n",
        "\n",
        "final_df['Current Debt'] = final_df['Current Debt'].fillna(0)\n",
        "final_df['Current Liabilities'] = final_df['Current Liabilities'].fillna(0)\n",
        "final_df['Current Liabilities'] = final_df['Current Liabilities'] + final_df['Current Debt']\n",
        "\n",
        "final_df = final_df.drop(columns=['Current Debt', 0])"
      ],
      "metadata": {
        "id": "tGd7JDtu7lDU"
      },
      "execution_count": 12,
      "outputs": []
    },
    {
      "cell_type": "code",
      "source": [
        "df = final_df.copy()"
      ],
      "metadata": {
        "id": "82i-wQai7plW"
      },
      "execution_count": 13,
      "outputs": []
    },
    {
      "cell_type": "code",
      "source": [
        "df['Sector']"
      ],
      "metadata": {
        "colab": {
          "base_uri": "https://localhost:8080/"
        },
        "id": "6WBL4eOU9Crd",
        "outputId": "f095dda5-d008-444f-c937-4cb6333b10f7"
      },
      "execution_count": 14,
      "outputs": [
        {
          "output_type": "execute_result",
          "data": {
            "text/plain": [
              "2023-06-30    Consumer Defensive\n",
              "2022-06-30    Consumer Defensive\n",
              "2021-06-30    Consumer Defensive\n",
              "2020-06-30    Consumer Defensive\n",
              "2023-06-30            Healthcare\n",
              "                     ...        \n",
              "2020-06-30       Basic Materials\n",
              "2023-06-30    Financial Services\n",
              "2022-06-30    Financial Services\n",
              "2021-06-30    Financial Services\n",
              "2020-06-30    Financial Services\n",
              "Name: Sector, Length: 1960, dtype: object"
            ]
          },
          "metadata": {},
          "execution_count": 14
        }
      ]
    },
    {
      "cell_type": "code",
      "source": [
        "# Check missing Sector\n",
        "mask_df = df[df['Sector'].isna()]\n",
        "mask_df"
      ],
      "metadata": {
        "colab": {
          "base_uri": "https://localhost:8080/",
          "height": 310
        },
        "id": "yNqjnN4ZTeWh",
        "outputId": "2056f3da-1e2e-4787-f4b9-33d296fc9867"
      },
      "execution_count": 15,
      "outputs": [
        {
          "output_type": "execute_result",
          "data": {
            "text/plain": [
              "             Net Income Diluted EPS Free Cash Flow Stockholders Equity  \\\n",
              "2021-06-30   28904000.0       0.039     53140000.0         175991000.0   \n",
              "2022-06-30   42072000.0         NaN     83168000.0         240510000.0   \n",
              "2022-06-30  141073000.0      0.2316    385700000.0        1685426000.0   \n",
              "2021-06-30  514192000.0      0.8272   -503272000.0        1574311000.0   \n",
              "2020-06-30  -21650000.0     -0.0327   -557676000.0        1140530000.0   \n",
              "\n",
              "           Tangible Book Value Share Issued  Current Liabilities  \\\n",
              "2021-06-30         102429000.0  818591000.0           69594000.0   \n",
              "2022-06-30         167557000.0  892429000.0          113163000.0   \n",
              "2022-06-30        1685426000.0  611162000.0                  0.0   \n",
              "2021-06-30        1574311000.0  606619000.0                  0.0   \n",
              "2020-06-30        1140530000.0  649064000.0                  0.0   \n",
              "\n",
              "           Cash And Cash Equivalents  Ticker Sector  \\\n",
              "2021-06-30                16019000.0  ASK.AX   None   \n",
              "2022-06-30                38033000.0  ASK.AX   None   \n",
              "2022-06-30              1310828000.0  LSF.AX   None   \n",
              "2021-06-30               483995000.0  LSF.AX   None   \n",
              "2020-06-30               559312000.0  LSF.AX   None   \n",
              "\n",
              "                                  Name  \n",
              "2021-06-30         Abacus Storage King  \n",
              "2022-06-30         Abacus Storage King  \n",
              "2022-06-30  L1 Long Short Fund Limited  \n",
              "2021-06-30  L1 Long Short Fund Limited  \n",
              "2020-06-30  L1 Long Short Fund Limited  "
            ],
            "text/html": [
              "\n",
              "  <div id=\"df-50a1b10c-22e9-496e-9fbb-ced28cd3b258\" class=\"colab-df-container\">\n",
              "    <div>\n",
              "<style scoped>\n",
              "    .dataframe tbody tr th:only-of-type {\n",
              "        vertical-align: middle;\n",
              "    }\n",
              "\n",
              "    .dataframe tbody tr th {\n",
              "        vertical-align: top;\n",
              "    }\n",
              "\n",
              "    .dataframe thead th {\n",
              "        text-align: right;\n",
              "    }\n",
              "</style>\n",
              "<table border=\"1\" class=\"dataframe\">\n",
              "  <thead>\n",
              "    <tr style=\"text-align: right;\">\n",
              "      <th></th>\n",
              "      <th>Net Income</th>\n",
              "      <th>Diluted EPS</th>\n",
              "      <th>Free Cash Flow</th>\n",
              "      <th>Stockholders Equity</th>\n",
              "      <th>Tangible Book Value</th>\n",
              "      <th>Share Issued</th>\n",
              "      <th>Current Liabilities</th>\n",
              "      <th>Cash And Cash Equivalents</th>\n",
              "      <th>Ticker</th>\n",
              "      <th>Sector</th>\n",
              "      <th>Name</th>\n",
              "    </tr>\n",
              "  </thead>\n",
              "  <tbody>\n",
              "    <tr>\n",
              "      <th>2021-06-30</th>\n",
              "      <td>28904000.0</td>\n",
              "      <td>0.039</td>\n",
              "      <td>53140000.0</td>\n",
              "      <td>175991000.0</td>\n",
              "      <td>102429000.0</td>\n",
              "      <td>818591000.0</td>\n",
              "      <td>69594000.0</td>\n",
              "      <td>16019000.0</td>\n",
              "      <td>ASK.AX</td>\n",
              "      <td>None</td>\n",
              "      <td>Abacus Storage King</td>\n",
              "    </tr>\n",
              "    <tr>\n",
              "      <th>2022-06-30</th>\n",
              "      <td>42072000.0</td>\n",
              "      <td>NaN</td>\n",
              "      <td>83168000.0</td>\n",
              "      <td>240510000.0</td>\n",
              "      <td>167557000.0</td>\n",
              "      <td>892429000.0</td>\n",
              "      <td>113163000.0</td>\n",
              "      <td>38033000.0</td>\n",
              "      <td>ASK.AX</td>\n",
              "      <td>None</td>\n",
              "      <td>Abacus Storage King</td>\n",
              "    </tr>\n",
              "    <tr>\n",
              "      <th>2022-06-30</th>\n",
              "      <td>141073000.0</td>\n",
              "      <td>0.2316</td>\n",
              "      <td>385700000.0</td>\n",
              "      <td>1685426000.0</td>\n",
              "      <td>1685426000.0</td>\n",
              "      <td>611162000.0</td>\n",
              "      <td>0.0</td>\n",
              "      <td>1310828000.0</td>\n",
              "      <td>LSF.AX</td>\n",
              "      <td>None</td>\n",
              "      <td>L1 Long Short Fund Limited</td>\n",
              "    </tr>\n",
              "    <tr>\n",
              "      <th>2021-06-30</th>\n",
              "      <td>514192000.0</td>\n",
              "      <td>0.8272</td>\n",
              "      <td>-503272000.0</td>\n",
              "      <td>1574311000.0</td>\n",
              "      <td>1574311000.0</td>\n",
              "      <td>606619000.0</td>\n",
              "      <td>0.0</td>\n",
              "      <td>483995000.0</td>\n",
              "      <td>LSF.AX</td>\n",
              "      <td>None</td>\n",
              "      <td>L1 Long Short Fund Limited</td>\n",
              "    </tr>\n",
              "    <tr>\n",
              "      <th>2020-06-30</th>\n",
              "      <td>-21650000.0</td>\n",
              "      <td>-0.0327</td>\n",
              "      <td>-557676000.0</td>\n",
              "      <td>1140530000.0</td>\n",
              "      <td>1140530000.0</td>\n",
              "      <td>649064000.0</td>\n",
              "      <td>0.0</td>\n",
              "      <td>559312000.0</td>\n",
              "      <td>LSF.AX</td>\n",
              "      <td>None</td>\n",
              "      <td>L1 Long Short Fund Limited</td>\n",
              "    </tr>\n",
              "  </tbody>\n",
              "</table>\n",
              "</div>\n",
              "    <div class=\"colab-df-buttons\">\n",
              "\n",
              "  <div class=\"colab-df-container\">\n",
              "    <button class=\"colab-df-convert\" onclick=\"convertToInteractive('df-50a1b10c-22e9-496e-9fbb-ced28cd3b258')\"\n",
              "            title=\"Convert this dataframe to an interactive table.\"\n",
              "            style=\"display:none;\">\n",
              "\n",
              "  <svg xmlns=\"http://www.w3.org/2000/svg\" height=\"24px\" viewBox=\"0 -960 960 960\">\n",
              "    <path d=\"M120-120v-720h720v720H120Zm60-500h600v-160H180v160Zm220 220h160v-160H400v160Zm0 220h160v-160H400v160ZM180-400h160v-160H180v160Zm440 0h160v-160H620v160ZM180-180h160v-160H180v160Zm440 0h160v-160H620v160Z\"/>\n",
              "  </svg>\n",
              "    </button>\n",
              "\n",
              "  <style>\n",
              "    .colab-df-container {\n",
              "      display:flex;\n",
              "      gap: 12px;\n",
              "    }\n",
              "\n",
              "    .colab-df-convert {\n",
              "      background-color: #E8F0FE;\n",
              "      border: none;\n",
              "      border-radius: 50%;\n",
              "      cursor: pointer;\n",
              "      display: none;\n",
              "      fill: #1967D2;\n",
              "      height: 32px;\n",
              "      padding: 0 0 0 0;\n",
              "      width: 32px;\n",
              "    }\n",
              "\n",
              "    .colab-df-convert:hover {\n",
              "      background-color: #E2EBFA;\n",
              "      box-shadow: 0px 1px 2px rgba(60, 64, 67, 0.3), 0px 1px 3px 1px rgba(60, 64, 67, 0.15);\n",
              "      fill: #174EA6;\n",
              "    }\n",
              "\n",
              "    .colab-df-buttons div {\n",
              "      margin-bottom: 4px;\n",
              "    }\n",
              "\n",
              "    [theme=dark] .colab-df-convert {\n",
              "      background-color: #3B4455;\n",
              "      fill: #D2E3FC;\n",
              "    }\n",
              "\n",
              "    [theme=dark] .colab-df-convert:hover {\n",
              "      background-color: #434B5C;\n",
              "      box-shadow: 0px 1px 3px 1px rgba(0, 0, 0, 0.15);\n",
              "      filter: drop-shadow(0px 1px 2px rgba(0, 0, 0, 0.3));\n",
              "      fill: #FFFFFF;\n",
              "    }\n",
              "  </style>\n",
              "\n",
              "    <script>\n",
              "      const buttonEl =\n",
              "        document.querySelector('#df-50a1b10c-22e9-496e-9fbb-ced28cd3b258 button.colab-df-convert');\n",
              "      buttonEl.style.display =\n",
              "        google.colab.kernel.accessAllowed ? 'block' : 'none';\n",
              "\n",
              "      async function convertToInteractive(key) {\n",
              "        const element = document.querySelector('#df-50a1b10c-22e9-496e-9fbb-ced28cd3b258');\n",
              "        const dataTable =\n",
              "          await google.colab.kernel.invokeFunction('convertToInteractive',\n",
              "                                                    [key], {});\n",
              "        if (!dataTable) return;\n",
              "\n",
              "        const docLinkHtml = 'Like what you see? Visit the ' +\n",
              "          '<a target=\"_blank\" href=https://colab.research.google.com/notebooks/data_table.ipynb>data table notebook</a>'\n",
              "          + ' to learn more about interactive tables.';\n",
              "        element.innerHTML = '';\n",
              "        dataTable['output_type'] = 'display_data';\n",
              "        await google.colab.output.renderOutput(dataTable, element);\n",
              "        const docLink = document.createElement('div');\n",
              "        docLink.innerHTML = docLinkHtml;\n",
              "        element.appendChild(docLink);\n",
              "      }\n",
              "    </script>\n",
              "  </div>\n",
              "\n",
              "\n",
              "<div id=\"df-7d9f40da-2d1d-4202-9681-04d9fcb8aa30\">\n",
              "  <button class=\"colab-df-quickchart\" onclick=\"quickchart('df-7d9f40da-2d1d-4202-9681-04d9fcb8aa30')\"\n",
              "            title=\"Suggest charts\"\n",
              "            style=\"display:none;\">\n",
              "\n",
              "<svg xmlns=\"http://www.w3.org/2000/svg\" height=\"24px\"viewBox=\"0 0 24 24\"\n",
              "     width=\"24px\">\n",
              "    <g>\n",
              "        <path d=\"M19 3H5c-1.1 0-2 .9-2 2v14c0 1.1.9 2 2 2h14c1.1 0 2-.9 2-2V5c0-1.1-.9-2-2-2zM9 17H7v-7h2v7zm4 0h-2V7h2v10zm4 0h-2v-4h2v4z\"/>\n",
              "    </g>\n",
              "</svg>\n",
              "  </button>\n",
              "\n",
              "<style>\n",
              "  .colab-df-quickchart {\n",
              "      --bg-color: #E8F0FE;\n",
              "      --fill-color: #1967D2;\n",
              "      --hover-bg-color: #E2EBFA;\n",
              "      --hover-fill-color: #174EA6;\n",
              "      --disabled-fill-color: #AAA;\n",
              "      --disabled-bg-color: #DDD;\n",
              "  }\n",
              "\n",
              "  [theme=dark] .colab-df-quickchart {\n",
              "      --bg-color: #3B4455;\n",
              "      --fill-color: #D2E3FC;\n",
              "      --hover-bg-color: #434B5C;\n",
              "      --hover-fill-color: #FFFFFF;\n",
              "      --disabled-bg-color: #3B4455;\n",
              "      --disabled-fill-color: #666;\n",
              "  }\n",
              "\n",
              "  .colab-df-quickchart {\n",
              "    background-color: var(--bg-color);\n",
              "    border: none;\n",
              "    border-radius: 50%;\n",
              "    cursor: pointer;\n",
              "    display: none;\n",
              "    fill: var(--fill-color);\n",
              "    height: 32px;\n",
              "    padding: 0;\n",
              "    width: 32px;\n",
              "  }\n",
              "\n",
              "  .colab-df-quickchart:hover {\n",
              "    background-color: var(--hover-bg-color);\n",
              "    box-shadow: 0 1px 2px rgba(60, 64, 67, 0.3), 0 1px 3px 1px rgba(60, 64, 67, 0.15);\n",
              "    fill: var(--button-hover-fill-color);\n",
              "  }\n",
              "\n",
              "  .colab-df-quickchart-complete:disabled,\n",
              "  .colab-df-quickchart-complete:disabled:hover {\n",
              "    background-color: var(--disabled-bg-color);\n",
              "    fill: var(--disabled-fill-color);\n",
              "    box-shadow: none;\n",
              "  }\n",
              "\n",
              "  .colab-df-spinner {\n",
              "    border: 2px solid var(--fill-color);\n",
              "    border-color: transparent;\n",
              "    border-bottom-color: var(--fill-color);\n",
              "    animation:\n",
              "      spin 1s steps(1) infinite;\n",
              "  }\n",
              "\n",
              "  @keyframes spin {\n",
              "    0% {\n",
              "      border-color: transparent;\n",
              "      border-bottom-color: var(--fill-color);\n",
              "      border-left-color: var(--fill-color);\n",
              "    }\n",
              "    20% {\n",
              "      border-color: transparent;\n",
              "      border-left-color: var(--fill-color);\n",
              "      border-top-color: var(--fill-color);\n",
              "    }\n",
              "    30% {\n",
              "      border-color: transparent;\n",
              "      border-left-color: var(--fill-color);\n",
              "      border-top-color: var(--fill-color);\n",
              "      border-right-color: var(--fill-color);\n",
              "    }\n",
              "    40% {\n",
              "      border-color: transparent;\n",
              "      border-right-color: var(--fill-color);\n",
              "      border-top-color: var(--fill-color);\n",
              "    }\n",
              "    60% {\n",
              "      border-color: transparent;\n",
              "      border-right-color: var(--fill-color);\n",
              "    }\n",
              "    80% {\n",
              "      border-color: transparent;\n",
              "      border-right-color: var(--fill-color);\n",
              "      border-bottom-color: var(--fill-color);\n",
              "    }\n",
              "    90% {\n",
              "      border-color: transparent;\n",
              "      border-bottom-color: var(--fill-color);\n",
              "    }\n",
              "  }\n",
              "</style>\n",
              "\n",
              "  <script>\n",
              "    async function quickchart(key) {\n",
              "      const quickchartButtonEl =\n",
              "        document.querySelector('#' + key + ' button');\n",
              "      quickchartButtonEl.disabled = true;  // To prevent multiple clicks.\n",
              "      quickchartButtonEl.classList.add('colab-df-spinner');\n",
              "      try {\n",
              "        const charts = await google.colab.kernel.invokeFunction(\n",
              "            'suggestCharts', [key], {});\n",
              "      } catch (error) {\n",
              "        console.error('Error during call to suggestCharts:', error);\n",
              "      }\n",
              "      quickchartButtonEl.classList.remove('colab-df-spinner');\n",
              "      quickchartButtonEl.classList.add('colab-df-quickchart-complete');\n",
              "    }\n",
              "    (() => {\n",
              "      let quickchartButtonEl =\n",
              "        document.querySelector('#df-7d9f40da-2d1d-4202-9681-04d9fcb8aa30 button');\n",
              "      quickchartButtonEl.style.display =\n",
              "        google.colab.kernel.accessAllowed ? 'block' : 'none';\n",
              "    })();\n",
              "  </script>\n",
              "</div>\n",
              "\n",
              "  <div id=\"id_4e6d4653-2e7c-4605-905e-86ffaacb16fa\">\n",
              "    <style>\n",
              "      .colab-df-generate {\n",
              "        background-color: #E8F0FE;\n",
              "        border: none;\n",
              "        border-radius: 50%;\n",
              "        cursor: pointer;\n",
              "        display: none;\n",
              "        fill: #1967D2;\n",
              "        height: 32px;\n",
              "        padding: 0 0 0 0;\n",
              "        width: 32px;\n",
              "      }\n",
              "\n",
              "      .colab-df-generate:hover {\n",
              "        background-color: #E2EBFA;\n",
              "        box-shadow: 0px 1px 2px rgba(60, 64, 67, 0.3), 0px 1px 3px 1px rgba(60, 64, 67, 0.15);\n",
              "        fill: #174EA6;\n",
              "      }\n",
              "\n",
              "      [theme=dark] .colab-df-generate {\n",
              "        background-color: #3B4455;\n",
              "        fill: #D2E3FC;\n",
              "      }\n",
              "\n",
              "      [theme=dark] .colab-df-generate:hover {\n",
              "        background-color: #434B5C;\n",
              "        box-shadow: 0px 1px 3px 1px rgba(0, 0, 0, 0.15);\n",
              "        filter: drop-shadow(0px 1px 2px rgba(0, 0, 0, 0.3));\n",
              "        fill: #FFFFFF;\n",
              "      }\n",
              "    </style>\n",
              "    <button class=\"colab-df-generate\" onclick=\"generateWithVariable('mask_df')\"\n",
              "            title=\"Generate code using this dataframe.\"\n",
              "            style=\"display:none;\">\n",
              "\n",
              "  <svg xmlns=\"http://www.w3.org/2000/svg\" height=\"24px\"viewBox=\"0 0 24 24\"\n",
              "       width=\"24px\">\n",
              "    <path d=\"M7,19H8.4L18.45,9,17,7.55,7,17.6ZM5,21V16.75L18.45,3.32a2,2,0,0,1,2.83,0l1.4,1.43a1.91,1.91,0,0,1,.58,1.4,1.91,1.91,0,0,1-.58,1.4L9.25,21ZM18.45,9,17,7.55Zm-12,3A5.31,5.31,0,0,0,4.9,8.1,5.31,5.31,0,0,0,1,6.5,5.31,5.31,0,0,0,4.9,4.9,5.31,5.31,0,0,0,6.5,1,5.31,5.31,0,0,0,8.1,4.9,5.31,5.31,0,0,0,12,6.5,5.46,5.46,0,0,0,6.5,12Z\"/>\n",
              "  </svg>\n",
              "    </button>\n",
              "    <script>\n",
              "      (() => {\n",
              "      const buttonEl =\n",
              "        document.querySelector('#id_4e6d4653-2e7c-4605-905e-86ffaacb16fa button.colab-df-generate');\n",
              "      buttonEl.style.display =\n",
              "        google.colab.kernel.accessAllowed ? 'block' : 'none';\n",
              "\n",
              "      buttonEl.onclick = () => {\n",
              "        google.colab.notebook.generateWithVariable('mask_df');\n",
              "      }\n",
              "      })();\n",
              "    </script>\n",
              "  </div>\n",
              "\n",
              "    </div>\n",
              "  </div>\n"
            ],
            "application/vnd.google.colaboratory.intrinsic+json": {
              "type": "dataframe",
              "variable_name": "mask_df",
              "repr_error": "Out of range float values are not JSON compliant: nan"
            }
          },
          "metadata": {},
          "execution_count": 15
        }
      ]
    },
    {
      "cell_type": "markdown",
      "source": [
        "\n",
        "\n",
        "*   Abacus Storage King is part of Abacus Group. Since Abacus Property Group stock already exists we remove this ASK.AX\n",
        "*   LSF is in the Financial Sector\n",
        "\n",
        "\n",
        "\n"
      ],
      "metadata": {
        "id": "OfejdVaKhvv7"
      }
    },
    {
      "cell_type": "code",
      "source": [
        "# Remove ASK.AX\n",
        "df = df[df['Ticker'] != 'ASK.AX']\n",
        "# Manually put LSF.AX sector as Financials\n",
        "df.loc[df['Ticker'] == 'LSF.AX', 'Sector'] = 'Financials'\n"
      ],
      "metadata": {
        "id": "s5OSD7kiX14Z"
      },
      "execution_count": 17,
      "outputs": []
    },
    {
      "cell_type": "code",
      "source": [
        "df['Sector'].value_counts()"
      ],
      "metadata": {
        "colab": {
          "base_uri": "https://localhost:8080/"
        },
        "id": "-x0lJUrJiw-F",
        "outputId": "b7a66e42-906b-4a85-81f4-67c4b0370bff"
      },
      "execution_count": 20,
      "outputs": [
        {
          "output_type": "execute_result",
          "data": {
            "text/plain": [
              "Sector\n",
              "Basic Materials           410\n",
              "Financial Services        347\n",
              "Industrials               215\n",
              "Consumer Cyclical         201\n",
              "Real Estate               163\n",
              "Healthcare                161\n",
              "Technology                149\n",
              "Energy                     93\n",
              "Communication Services     87\n",
              "Consumer Defensive         78\n",
              "Utilities                  35\n",
              "Financial                  16\n",
              "Financials                  3\n",
              "Name: count, dtype: int64"
            ]
          },
          "metadata": {},
          "execution_count": 20
        }
      ]
    },
    {
      "cell_type": "code",
      "source": [
        "# Combine Financial, Financials and Financial Services and name it Financials\n",
        "df.loc[df['Sector'].isin(['Financial', 'Financials', 'Financial Services']), 'Sector'] = 'Financials'"
      ],
      "metadata": {
        "id": "Px-z9n3XjEK3"
      },
      "execution_count": 21,
      "outputs": []
    },
    {
      "cell_type": "code",
      "source": [
        "df['Sector'].value_counts()"
      ],
      "metadata": {
        "colab": {
          "base_uri": "https://localhost:8080/"
        },
        "id": "B0UeY6PHjkdG",
        "outputId": "550b8a16-4313-4828-8269-cd10e8470525"
      },
      "execution_count": 24,
      "outputs": [
        {
          "output_type": "execute_result",
          "data": {
            "text/plain": [
              "Sector\n",
              "Basic Materials           410\n",
              "Financials                366\n",
              "Industrials               215\n",
              "Consumer Staples          201\n",
              "Real Estate               163\n",
              "Healthcare                161\n",
              "Technology                149\n",
              "Energy                     93\n",
              "Communication Services     87\n",
              "Consumer Discretionary     78\n",
              "Utilities                  35\n",
              "Name: count, dtype: int64"
            ]
          },
          "metadata": {},
          "execution_count": 24
        }
      ]
    },
    {
      "cell_type": "code",
      "source": [
        "# Rename Consumer Cyclical to Consumer Staples\n",
        "df.loc[df['Sector'] == 'Consumer Cyclical', 'Sector'] = 'Consumer Staples'\n",
        "# Rename Consumer Defensive to Consumer Discretionary\n",
        "df.loc[df['Sector'] == 'Consumer Defensive', 'Sector'] = 'Consumer Discretionary'"
      ],
      "metadata": {
        "id": "fdNh-fIFjxaa"
      },
      "execution_count": 23,
      "outputs": []
    },
    {
      "cell_type": "markdown",
      "source": [
        "The sectors follows The Australian Stock Exchange (ASX) useage of the Global Industry Classification Standard (GICS) method of categorising companies"
      ],
      "metadata": {
        "id": "4YRdB3WXkXyc"
      }
    },
    {
      "cell_type": "markdown",
      "source": [
        "### 1.3 Get Historical Data for Stock :"
      ],
      "metadata": {
        "id": "_0lsMYb28JAu"
      }
    },
    {
      "cell_type": "code",
      "source": [
        "# Function to adjust weekends to the next business day\n",
        "def roll_forward_to_next_business_day(date):\n",
        "    # Check if the date is a weekend\n",
        "    if date.weekday() >= 5:  # Saturday or Sunday\n",
        "        date += BDay(1)  # Add one business day\n",
        "\n",
        "    # Check if the adjusted date is New Year's Day (Jan 1)\n",
        "    if date.month == 1 and date.day == 1:\n",
        "        date += BDay(1)  # Add one business day\n",
        "\n",
        "    return date"
      ],
      "metadata": {
        "id": "9WQaxyX7BxYc"
      },
      "execution_count": 25,
      "outputs": []
    },
    {
      "cell_type": "code",
      "source": [
        "# Initialize a list to store DataFrames for each ticker\n",
        "df_list = []\n",
        "\n",
        "for index, row in final_df.iterrows():\n",
        "  try:\n",
        "    date = index\n",
        "    ticker_symbol = row['Ticker']\n",
        "\n",
        "    # Download historical data\n",
        "    data = yf.download(ticker_symbol, start=\"2020-01-01\", end=\"2024-06-04\")\n",
        "\n",
        "    if data.empty:\n",
        "      print(f\"No data available for {ticker_symbol} on {date}\")\n",
        "      continue\n",
        "\n",
        "    prices = []\n",
        "    adjusted_date = roll_forward_to_next_business_day(date)\n",
        "\n",
        "    if adjusted_date in data.index:\n",
        "      prices.append((adjusted_date, data.loc[adjusted_date, 'Close']))\n",
        "\n",
        "      # Calculate 13 weeks (approximately 65 trading days) price change and volatility\n",
        "      end_date = adjusted_date\n",
        "      start_date = end_date - pd.Timedelta(weeks=13)\n",
        "      past_prices = data.loc[start_date:end_date, 'Close']\n",
        "\n",
        "      price_change = ((past_prices[-1] - past_prices[0]) / past_prices[0]) * 100\n",
        "      volatility = past_prices.std()\n",
        "\n",
        "      # Convert to DataFrame for better readability\n",
        "      prices_df = pd.DataFrame(prices, columns=['Date', 'Close'])\n",
        "      prices_df['Ticker'] = ticker_symbol  # Add ticker symbol column\n",
        "      prices_df['price_change'] = price_change\n",
        "      prices_df['volatility'] = volatility\n",
        "\n",
        "      # Add the DataFrame to the list\n",
        "      df_list.append(prices_df)\n",
        "\n",
        "    else:\n",
        "      print(f\"No data available for {ticker_symbol} on {adjusted_date}\")\n",
        "\n",
        "  except:\n",
        "    print(f\"Error processing {ticker_symbol} on {date}\")\n",
        "\n",
        "combined_df = pd.concat(df_list)"
      ],
      "metadata": {
        "colab": {
          "base_uri": "https://localhost:8080/"
        },
        "collapsed": true,
        "id": "7aaomopDGif-",
        "outputId": "d507f031-b68b-46f4-ce6d-945df7098f77"
      },
      "execution_count": 26,
      "outputs": [
        {
          "output_type": "stream",
          "name": "stderr",
          "text": [
            "[*********************100%%**********************]  1 of 1 completed\n",
            "[*********************100%%**********************]  1 of 1 completed\n",
            "[*********************100%%**********************]  1 of 1 completed\n",
            "[*********************100%%**********************]  1 of 1 completed\n",
            "[*********************100%%**********************]  1 of 1 completed\n",
            "[*********************100%%**********************]  1 of 1 completed\n",
            "[*********************100%%**********************]  1 of 1 completed\n",
            "[*********************100%%**********************]  1 of 1 completed\n",
            "[*********************100%%**********************]  1 of 1 completed\n",
            "[*********************100%%**********************]  1 of 1 completed\n",
            "[*********************100%%**********************]  1 of 1 completed\n"
          ]
        },
        {
          "output_type": "stream",
          "name": "stdout",
          "text": [
            "No data available for 29M.AX on 2020-12-31 00:00:00\n",
            "No data available for 29M.AX on 2023-01-02 00:00:00\n"
          ]
        },
        {
          "output_type": "stream",
          "name": "stderr",
          "text": [
            "[*********************100%%**********************]  1 of 1 completed\n",
            "[*********************100%%**********************]  1 of 1 completed\n",
            "[*********************100%%**********************]  1 of 1 completed\n",
            "[*********************100%%**********************]  1 of 1 completed\n"
          ]
        },
        {
          "output_type": "stream",
          "name": "stdout",
          "text": [
            "No data available for ABG.AX on 2023-06-30 00:00:00\n",
            "No data available for ABG.AX on 2022-06-30 00:00:00\n",
            "No data available for ABG.AX on 2021-06-30 00:00:00\n",
            "No data available for ABG.AX on 2020-06-30 00:00:00\n"
          ]
        },
        {
          "output_type": "stream",
          "name": "stderr",
          "text": [
            "[*********************100%%**********************]  1 of 1 completed\n",
            "[*********************100%%**********************]  1 of 1 completed\n"
          ]
        },
        {
          "output_type": "stream",
          "name": "stdout",
          "text": [
            "No data available for ASK.AX on 2021-06-30 00:00:00\n",
            "No data available for ASK.AX on 2022-06-30 00:00:00\n"
          ]
        },
        {
          "output_type": "stream",
          "name": "stderr",
          "text": [
            "[*********************100%%**********************]  1 of 1 completed\n",
            "[*********************100%%**********************]  1 of 1 completed\n",
            "[*********************100%%**********************]  1 of 1 completed\n",
            "[*********************100%%**********************]  1 of 1 completed\n",
            "[*********************100%%**********************]  1 of 1 completed\n",
            "[*********************100%%**********************]  1 of 1 completed\n",
            "[*********************100%%**********************]  1 of 1 completed\n",
            "[*********************100%%**********************]  1 of 1 completed\n",
            "[*********************100%%**********************]  1 of 1 completed\n",
            "[*********************100%%**********************]  1 of 1 completed\n",
            "[*********************100%%**********************]  1 of 1 completed\n",
            "[*********************100%%**********************]  1 of 1 completed\n",
            "[*********************100%%**********************]  1 of 1 completed\n",
            "[*********************100%%**********************]  1 of 1 completed\n",
            "[*********************100%%**********************]  1 of 1 completed\n",
            "[*********************100%%**********************]  1 of 1 completed\n",
            "[*********************100%%**********************]  1 of 1 completed\n"
          ]
        },
        {
          "output_type": "stream",
          "name": "stdout",
          "text": [
            "No data available for ABC.AX on 2019-12-31 00:00:00\n",
            "No data available for ABC.AX on 2023-01-02 00:00:00\n"
          ]
        },
        {
          "output_type": "stream",
          "name": "stderr",
          "text": [
            "[*********************100%%**********************]  1 of 1 completed\n",
            "[*********************100%%**********************]  1 of 1 completed\n",
            "[*********************100%%**********************]  1 of 1 completed\n",
            "[*********************100%%**********************]  1 of 1 completed\n",
            "[*********************100%%**********************]  1 of 1 completed\n",
            "[*********************100%%**********************]  1 of 1 completed\n"
          ]
        },
        {
          "output_type": "stream",
          "name": "stdout",
          "text": [
            "No data available for ADT.AX on 2023-01-02 00:00:00\n"
          ]
        },
        {
          "output_type": "stream",
          "name": "stderr",
          "text": [
            "[*********************100%%**********************]  1 of 1 completed\n",
            "[*********************100%%**********************]  1 of 1 completed\n",
            "[*********************100%%**********************]  1 of 1 completed\n",
            "[*********************100%%**********************]  1 of 1 completed\n",
            "[*********************100%%**********************]  1 of 1 completed\n",
            "[*********************100%%**********************]  1 of 1 completed\n"
          ]
        },
        {
          "output_type": "stream",
          "name": "stdout",
          "text": [
            "No data available for AFP.AX on 2024-04-01 00:00:00\n"
          ]
        },
        {
          "output_type": "stream",
          "name": "stderr",
          "text": [
            "[*********************100%%**********************]  1 of 1 completed\n",
            "[*********************100%%**********************]  1 of 1 completed\n",
            "[*********************100%%**********************]  1 of 1 completed\n",
            "[*********************100%%**********************]  1 of 1 completed\n",
            "[*********************100%%**********************]  1 of 1 completed\n",
            "[*********************100%%**********************]  1 of 1 completed\n",
            "[*********************100%%**********************]  1 of 1 completed\n",
            "[*********************100%%**********************]  1 of 1 completed\n"
          ]
        },
        {
          "output_type": "stream",
          "name": "stdout",
          "text": [
            "No data available for A1M.AX on 2019-12-31 00:00:00\n"
          ]
        },
        {
          "output_type": "stream",
          "name": "stderr",
          "text": [
            "[*********************100%%**********************]  1 of 1 completed\n",
            "[*********************100%%**********************]  1 of 1 completed\n",
            "[*********************100%%**********************]  1 of 1 completed\n",
            "[*********************100%%**********************]  1 of 1 completed\n",
            "[*********************100%%**********************]  1 of 1 completed\n",
            "[*********************100%%**********************]  1 of 1 completed\n",
            "[*********************100%%**********************]  1 of 1 completed\n",
            "[*********************100%%**********************]  1 of 1 completed\n",
            "[*********************100%%**********************]  1 of 1 completed\n",
            "[*********************100%%**********************]  1 of 1 completed\n",
            "[*********************100%%**********************]  1 of 1 completed\n",
            "[*********************100%%**********************]  1 of 1 completed\n",
            "[*********************100%%**********************]  1 of 1 completed\n",
            "[*********************100%%**********************]  1 of 1 completed\n",
            "[*********************100%%**********************]  1 of 1 completed\n",
            "[*********************100%%**********************]  1 of 1 completed\n",
            "[*********************100%%**********************]  1 of 1 completed\n",
            "[*********************100%%**********************]  1 of 1 completed\n",
            "[*********************100%%**********************]  1 of 1 completed\n",
            "[*********************100%%**********************]  1 of 1 completed\n",
            "[*********************100%%**********************]  1 of 1 completed\n",
            "[*********************100%%**********************]  1 of 1 completed\n",
            "[*********************100%%**********************]  1 of 1 completed\n",
            "[*********************100%%**********************]  1 of 1 completed\n"
          ]
        },
        {
          "output_type": "stream",
          "name": "stdout",
          "text": [
            "No data available for ALQ.AX on 2024-04-01 00:00:00\n"
          ]
        },
        {
          "output_type": "stream",
          "name": "stderr",
          "text": [
            "[*********************100%%**********************]  1 of 1 completed\n",
            "[*********************100%%**********************]  1 of 1 completed\n",
            "[*********************100%%**********************]  1 of 1 completed\n",
            "[*********************100%%**********************]  1 of 1 completed\n",
            "[*********************100%%**********************]  1 of 1 completed\n",
            "[*********************100%%**********************]  1 of 1 completed\n",
            "[*********************100%%**********************]  1 of 1 completed\n"
          ]
        },
        {
          "output_type": "stream",
          "name": "stdout",
          "text": [
            "No data available for AWC.AX on 2023-01-02 00:00:00\n"
          ]
        },
        {
          "output_type": "stream",
          "name": "stderr",
          "text": [
            "[*********************100%%**********************]  1 of 1 completed\n",
            "[*********************100%%**********************]  1 of 1 completed\n",
            "[*********************100%%**********************]  1 of 1 completed\n",
            "[*********************100%%**********************]  1 of 1 completed\n",
            "[*********************100%%**********************]  1 of 1 completed\n",
            "[*********************100%%**********************]  1 of 1 completed\n",
            "[*********************100%%**********************]  1 of 1 completed\n",
            "[*********************100%%**********************]  1 of 1 completed\n",
            "[*********************100%%**********************]  1 of 1 completed\n",
            "[*********************100%%**********************]  1 of 1 completed\n",
            "[*********************100%%**********************]  1 of 1 completed\n",
            "[*********************100%%**********************]  1 of 1 completed\n",
            "[*********************100%%**********************]  1 of 1 completed\n"
          ]
        },
        {
          "output_type": "stream",
          "name": "stdout",
          "text": [
            "No data available for AMP.AX on 2023-01-02 00:00:00\n"
          ]
        },
        {
          "output_type": "stream",
          "name": "stderr",
          "text": [
            "[*********************100%%**********************]  1 of 1 completed\n",
            "[*********************100%%**********************]  1 of 1 completed\n",
            "[*********************100%%**********************]  1 of 1 completed\n",
            "[*********************100%%**********************]  1 of 1 completed\n",
            "[*********************100%%**********************]  1 of 1 completed\n"
          ]
        },
        {
          "output_type": "stream",
          "name": "stdout",
          "text": [
            "No data available for ALD.AX on 2019-12-31 00:00:00\n",
            "No data available for ALD.AX on 2023-01-02 00:00:00\n"
          ]
        },
        {
          "output_type": "stream",
          "name": "stderr",
          "text": [
            "[*********************100%%**********************]  1 of 1 completed\n",
            "[*********************100%%**********************]  1 of 1 completed\n",
            "[*********************100%%**********************]  1 of 1 completed\n",
            "[*********************100%%**********************]  1 of 1 completed\n",
            "[*********************100%%**********************]  1 of 1 completed\n",
            "[*********************100%%**********************]  1 of 1 completed\n",
            "[*********************100%%**********************]  1 of 1 completed\n",
            "[*********************100%%**********************]  1 of 1 completed\n"
          ]
        },
        {
          "output_type": "stream",
          "name": "stdout",
          "text": [
            "No data available for AVR.AX on 2023-01-02 00:00:00\n"
          ]
        },
        {
          "output_type": "stream",
          "name": "stderr",
          "text": [
            "[*********************100%%**********************]  1 of 1 completed\n",
            "[*********************100%%**********************]  1 of 1 completed\n",
            "[*********************100%%**********************]  1 of 1 completed\n",
            "[*********************100%%**********************]  1 of 1 completed\n",
            "[*********************100%%**********************]  1 of 1 completed\n"
          ]
        },
        {
          "output_type": "stream",
          "name": "stdout",
          "text": [
            "No data available for ANZ.AX on 2019-09-30 00:00:00\n"
          ]
        },
        {
          "output_type": "stream",
          "name": "stderr",
          "text": [
            "[*********************100%%**********************]  1 of 1 completed\n",
            "[*********************100%%**********************]  1 of 1 completed\n",
            "[*********************100%%**********************]  1 of 1 completed\n",
            "[*********************100%%**********************]  1 of 1 completed\n",
            "[*********************100%%**********************]  1 of 1 completed\n",
            "[*********************100%%**********************]  1 of 1 completed\n",
            "[*********************100%%**********************]  1 of 1 completed\n"
          ]
        },
        {
          "output_type": "stream",
          "name": "stdout",
          "text": [
            "No data available for APM.AX on 2021-06-30 00:00:00\n"
          ]
        },
        {
          "output_type": "stream",
          "name": "stderr",
          "text": [
            "[*********************100%%**********************]  1 of 1 completed\n",
            "[*********************100%%**********************]  1 of 1 completed\n",
            "[*********************100%%**********************]  1 of 1 completed\n",
            "[*********************100%%**********************]  1 of 1 completed\n",
            "[*********************100%%**********************]  1 of 1 completed\n",
            "[*********************100%%**********************]  1 of 1 completed\n",
            "[*********************100%%**********************]  1 of 1 completed\n",
            "[*********************100%%**********************]  1 of 1 completed\n",
            "[*********************100%%**********************]  1 of 1 completed\n",
            "[*********************100%%**********************]  1 of 1 completed\n",
            "[*********************100%%**********************]  1 of 1 completed\n",
            "[*********************100%%**********************]  1 of 1 completed\n",
            "[*********************100%%**********************]  1 of 1 completed\n"
          ]
        },
        {
          "output_type": "stream",
          "name": "stdout",
          "text": [
            "No data available for LTM.AX on 2021-06-30 00:00:00\n",
            "No data available for LTM.AX on 2022-06-30 00:00:00\n",
            "No data available for LTM.AX on 2023-01-02 00:00:00\n",
            "No data available for LTM.AX on 2023-06-30 00:00:00\n"
          ]
        },
        {
          "output_type": "stream",
          "name": "stderr",
          "text": [
            "[*********************100%%**********************]  1 of 1 completed\n",
            "[*********************100%%**********************]  1 of 1 completed\n",
            "[*********************100%%**********************]  1 of 1 completed\n",
            "[*********************100%%**********************]  1 of 1 completed\n",
            "[*********************100%%**********************]  1 of 1 completed\n",
            "[*********************100%%**********************]  1 of 1 completed\n",
            "[*********************100%%**********************]  1 of 1 completed\n",
            "[*********************100%%**********************]  1 of 1 completed\n",
            "[*********************100%%**********************]  1 of 1 completed\n",
            "[*********************100%%**********************]  1 of 1 completed\n",
            "[*********************100%%**********************]  1 of 1 completed\n",
            "[*********************100%%**********************]  1 of 1 completed\n",
            "[*********************100%%**********************]  1 of 1 completed\n",
            "[*********************100%%**********************]  1 of 1 completed\n",
            "[*********************100%%**********************]  1 of 1 completed\n",
            "[*********************100%%**********************]  1 of 1 completed\n",
            "[*********************100%%**********************]  1 of 1 completed\n"
          ]
        },
        {
          "output_type": "stream",
          "name": "stdout",
          "text": [
            "No data available for ALL.AX on 2019-09-30 00:00:00\n"
          ]
        },
        {
          "output_type": "stream",
          "name": "stderr",
          "text": [
            "[*********************100%%**********************]  1 of 1 completed\n",
            "[*********************100%%**********************]  1 of 1 completed\n",
            "[*********************100%%**********************]  1 of 1 completed\n",
            "[*********************100%%**********************]  1 of 1 completed\n"
          ]
        },
        {
          "output_type": "stream",
          "name": "stdout",
          "text": [
            "No data available for A1N.AX on 2023-01-02 00:00:00\n",
            "No data available for A1N.AX on 2021-12-31 00:00:00\n",
            "No data available for A1N.AX on 2020-12-31 00:00:00\n"
          ]
        },
        {
          "output_type": "stream",
          "name": "stderr",
          "text": [
            "[*********************100%%**********************]  1 of 1 completed\n",
            "[*********************100%%**********************]  1 of 1 completed\n",
            "[*********************100%%**********************]  1 of 1 completed\n",
            "[*********************100%%**********************]  1 of 1 completed\n",
            "[*********************100%%**********************]  1 of 1 completed\n",
            "[*********************100%%**********************]  1 of 1 completed\n",
            "[*********************100%%**********************]  1 of 1 completed\n",
            "[*********************100%%**********************]  1 of 1 completed\n",
            "[*********************100%%**********************]  1 of 1 completed\n",
            "[*********************100%%**********************]  1 of 1 completed\n",
            "[*********************100%%**********************]  1 of 1 completed\n",
            "[*********************100%%**********************]  1 of 1 completed\n"
          ]
        },
        {
          "output_type": "stream",
          "name": "stdout",
          "text": [
            "No data available for A11.AX on 2022-06-30 00:00:00\n",
            "No data available for A11.AX on 2021-06-30 00:00:00\n",
            "No data available for A11.AX on 2020-06-30 00:00:00\n"
          ]
        },
        {
          "output_type": "stream",
          "name": "stderr",
          "text": [
            "[*********************100%%**********************]  1 of 1 completed\n",
            "[*********************100%%**********************]  1 of 1 completed\n",
            "[*********************100%%**********************]  1 of 1 completed\n",
            "[*********************100%%**********************]  1 of 1 completed\n",
            "[*********************100%%**********************]  1 of 1 completed\n"
          ]
        },
        {
          "output_type": "stream",
          "name": "stdout",
          "text": [
            "No data available for ALX.AX on 2019-12-31 00:00:00\n",
            "No data available for ALX.AX on 2023-01-02 00:00:00\n"
          ]
        },
        {
          "output_type": "stream",
          "name": "stderr",
          "text": [
            "[*********************100%%**********************]  1 of 1 completed\n",
            "[*********************100%%**********************]  1 of 1 completed\n",
            "[*********************100%%**********************]  1 of 1 completed\n"
          ]
        },
        {
          "output_type": "stream",
          "name": "stdout",
          "text": [
            "No data available for ATA.AX on 2021-06-30 00:00:00\n"
          ]
        },
        {
          "output_type": "stream",
          "name": "stderr",
          "text": [
            "[*********************100%%**********************]  1 of 1 completed\n",
            "[*********************100%%**********************]  1 of 1 completed\n",
            "[*********************100%%**********************]  1 of 1 completed\n",
            "[*********************100%%**********************]  1 of 1 completed\n",
            "[*********************100%%**********************]  1 of 1 completed\n",
            "[*********************100%%**********************]  1 of 1 completed\n",
            "[*********************100%%**********************]  1 of 1 completed\n",
            "[*********************100%%**********************]  1 of 1 completed\n",
            "[*********************100%%**********************]  1 of 1 completed\n",
            "[*********************100%%**********************]  1 of 1 completed\n",
            "[*********************100%%**********************]  1 of 1 completed\n",
            "[*********************100%%**********************]  1 of 1 completed\n",
            "[*********************100%%**********************]  1 of 1 completed\n",
            "[*********************100%%**********************]  1 of 1 completed\n",
            "[*********************100%%**********************]  1 of 1 completed\n",
            "[*********************100%%**********************]  1 of 1 completed\n",
            "[*********************100%%**********************]  1 of 1 completed\n",
            "[*********************100%%**********************]  1 of 1 completed\n",
            "[*********************100%%**********************]  1 of 1 completed\n",
            "[*********************100%%**********************]  1 of 1 completed\n",
            "[*********************100%%**********************]  1 of 1 completed\n",
            "[*********************100%%**********************]  1 of 1 completed\n",
            "[*********************100%%**********************]  1 of 1 completed\n",
            "[*********************100%%**********************]  1 of 1 completed\n"
          ]
        },
        {
          "output_type": "stream",
          "name": "stdout",
          "text": [
            "No data available for ABB.AX on 2020-06-30 00:00:00\n"
          ]
        },
        {
          "output_type": "stream",
          "name": "stderr",
          "text": [
            "[*********************100%%**********************]  1 of 1 completed\n",
            "[*********************100%%**********************]  1 of 1 completed\n",
            "[*********************100%%**********************]  1 of 1 completed\n",
            "[*********************100%%**********************]  1 of 1 completed\n",
            "[*********************100%%**********************]  1 of 1 completed\n",
            "[*********************100%%**********************]  1 of 1 completed\n",
            "[*********************100%%**********************]  1 of 1 completed\n",
            "[*********************100%%**********************]  1 of 1 completed\n",
            "[*********************100%%**********************]  1 of 1 completed\n",
            "[*********************100%%**********************]  1 of 1 completed\n",
            "[*********************100%%**********************]  1 of 1 completed\n",
            "[*********************100%%**********************]  1 of 1 completed\n"
          ]
        },
        {
          "output_type": "stream",
          "name": "stdout",
          "text": [
            "No data available for AAC.AX on 2024-04-01 00:00:00\n"
          ]
        },
        {
          "output_type": "stream",
          "name": "stderr",
          "text": [
            "[*********************100%%**********************]  1 of 1 completed\n",
            "[*********************100%%**********************]  1 of 1 completed\n",
            "[*********************100%%**********************]  1 of 1 completed\n",
            "[*********************100%%**********************]  1 of 1 completed\n"
          ]
        },
        {
          "output_type": "stream",
          "name": "stdout",
          "text": [
            "No data available for ACL.AX on 2020-12-31 00:00:00\n"
          ]
        },
        {
          "output_type": "stream",
          "name": "stderr",
          "text": [
            "[*********************100%%**********************]  1 of 1 completed\n",
            "[*********************100%%**********************]  1 of 1 completed\n",
            "[*********************100%%**********************]  1 of 1 completed\n",
            "[*********************100%%**********************]  1 of 1 completed\n",
            "[*********************100%%**********************]  1 of 1 completed\n",
            "[*********************100%%**********************]  1 of 1 completed\n",
            "[*********************100%%**********************]  1 of 1 completed\n",
            "[*********************100%%**********************]  1 of 1 completed\n",
            "[*********************100%%**********************]  1 of 1 completed\n",
            "[*********************100%%**********************]  1 of 1 completed\n",
            "[*********************100%%**********************]  1 of 1 completed\n",
            "[*********************100%%**********************]  1 of 1 completed\n",
            "[*********************100%%**********************]  1 of 1 completed\n",
            "[*********************100%%**********************]  1 of 1 completed\n",
            "[*********************100%%**********************]  1 of 1 completed\n",
            "[*********************100%%**********************]  1 of 1 completed\n",
            "[*********************100%%**********************]  1 of 1 completed\n",
            "[*********************100%%**********************]  1 of 1 completed\n",
            "[*********************100%%**********************]  1 of 1 completed\n",
            "[*********************100%%**********************]  1 of 1 completed\n",
            "[*********************100%%**********************]  1 of 1 completed\n",
            "[*********************100%%**********************]  1 of 1 completed\n",
            "[*********************100%%**********************]  1 of 1 completed\n",
            "[*********************100%%**********************]  1 of 1 completed\n",
            "[*********************100%%**********************]  1 of 1 completed\n",
            "[*********************100%%**********************]  1 of 1 completed\n"
          ]
        },
        {
          "output_type": "stream",
          "name": "stdout",
          "text": [
            "No data available for BOQ.AX on 2019-09-02 00:00:00\n"
          ]
        },
        {
          "output_type": "stream",
          "name": "stderr",
          "text": [
            "[*********************100%%**********************]  1 of 1 completed\n",
            "[*********************100%%**********************]  1 of 1 completed\n",
            "[*********************100%%**********************]  1 of 1 completed\n",
            "[*********************100%%**********************]  1 of 1 completed\n",
            "[*********************100%%**********************]  1 of 1 completed\n",
            "[*********************100%%**********************]  1 of 1 completed\n",
            "[*********************100%%**********************]  1 of 1 completed\n",
            "[*********************100%%**********************]  1 of 1 completed\n",
            "[*********************100%%**********************]  1 of 1 completed\n",
            "[*********************100%%**********************]  1 of 1 completed\n",
            "[*********************100%%**********************]  1 of 1 completed\n",
            "[*********************100%%**********************]  1 of 1 completed\n",
            "[*********************100%%**********************]  1 of 1 completed\n",
            "[*********************100%%**********************]  1 of 1 completed\n",
            "[*********************100%%**********************]  1 of 1 completed\n",
            "[*********************100%%**********************]  1 of 1 completed\n",
            "[*********************100%%**********************]  1 of 1 completed\n",
            "[*********************100%%**********************]  1 of 1 completed\n",
            "[*********************100%%**********************]  1 of 1 completed\n",
            "[*********************100%%**********************]  1 of 1 completed\n",
            "[*********************100%%**********************]  1 of 1 completed\n",
            "[*********************100%%**********************]  1 of 1 completed\n",
            "[*********************100%%**********************]  1 of 1 completed\n",
            "[*********************100%%**********************]  1 of 1 completed\n",
            "[*********************100%%**********************]  1 of 1 completed\n",
            "[*********************100%%**********************]  1 of 1 completed\n",
            "[*********************100%%**********************]  1 of 1 completed\n",
            "[*********************100%%**********************]  1 of 1 completed\n",
            "[*********************100%%**********************]  1 of 1 completed\n",
            "[*********************100%%**********************]  1 of 1 completed\n",
            "[*********************100%%**********************]  1 of 1 completed\n",
            "[*********************100%%**********************]  1 of 1 completed\n",
            "[*********************100%%**********************]  1 of 1 completed\n",
            "[*********************100%%**********************]  1 of 1 completed\n",
            "[*********************100%%**********************]  1 of 1 completed\n",
            "[*********************100%%**********************]  1 of 1 completed\n"
          ]
        },
        {
          "output_type": "stream",
          "name": "stdout",
          "text": [
            "No data available for BFG.AX on 2023-01-02 00:00:00\n"
          ]
        },
        {
          "output_type": "stream",
          "name": "stderr",
          "text": [
            "[*********************100%%**********************]  1 of 1 completed\n",
            "[*********************100%%**********************]  1 of 1 completed\n",
            "[*********************100%%**********************]  1 of 1 completed\n",
            "[*********************100%%**********************]  1 of 1 completed\n",
            "[*********************100%%**********************]  1 of 1 completed\n",
            "[*********************100%%**********************]  1 of 1 completed\n",
            "[*********************100%%**********************]  1 of 1 completed\n",
            "[*********************100%%**********************]  1 of 1 completed\n",
            "[*********************100%%**********************]  1 of 1 completed\n",
            "[*********************100%%**********************]  1 of 1 completed\n",
            "[*********************100%%**********************]  1 of 1 completed\n",
            "[*********************100%%**********************]  1 of 1 completed\n",
            "[*********************100%%**********************]  1 of 1 completed\n",
            "[*********************100%%**********************]  1 of 1 completed\n",
            "[*********************100%%**********************]  1 of 1 completed\n",
            "[*********************100%%**********************]  1 of 1 completed\n"
          ]
        },
        {
          "output_type": "stream",
          "name": "stdout",
          "text": [
            "No data available for SQ2.AX on 2023-01-02 00:00:00\n",
            "No data available for SQ2.AX on 2021-12-31 00:00:00\n",
            "No data available for SQ2.AX on 2020-12-31 00:00:00\n"
          ]
        },
        {
          "output_type": "stream",
          "name": "stderr",
          "text": [
            "[*********************100%%**********************]  1 of 1 completed\n",
            "[*********************100%%**********************]  1 of 1 completed\n",
            "[*********************100%%**********************]  1 of 1 completed\n",
            "[*********************100%%**********************]  1 of 1 completed\n",
            "[*********************100%%**********************]  1 of 1 completed\n",
            "[*********************100%%**********************]  1 of 1 completed\n",
            "[*********************100%%**********************]  1 of 1 completed\n",
            "[*********************100%%**********************]  1 of 1 completed\n",
            "[*********************100%%**********************]  1 of 1 completed\n",
            "[*********************100%%**********************]  1 of 1 completed\n",
            "[*********************100%%**********************]  1 of 1 completed\n",
            "[*********************100%%**********************]  1 of 1 completed\n",
            "[*********************100%%**********************]  1 of 1 completed\n",
            "[*********************100%%**********************]  1 of 1 completed\n",
            "[*********************100%%**********************]  1 of 1 completed\n",
            "[*********************100%%**********************]  1 of 1 completed\n",
            "[*********************100%%**********************]  1 of 1 completed\n",
            "[*********************100%%**********************]  1 of 1 completed\n",
            "[*********************100%%**********************]  1 of 1 completed\n",
            "[*********************100%%**********************]  1 of 1 completed\n",
            "[*********************100%%**********************]  1 of 1 completed\n"
          ]
        },
        {
          "output_type": "stream",
          "name": "stdout",
          "text": [
            "No data available for BOC.AX on 2023-01-02 00:00:00\n"
          ]
        },
        {
          "output_type": "stream",
          "name": "stderr",
          "text": [
            "[*********************100%%**********************]  1 of 1 completed\n",
            "[*********************100%%**********************]  1 of 1 completed\n",
            "[*********************100%%**********************]  1 of 1 completed\n"
          ]
        },
        {
          "output_type": "stream",
          "name": "stdout",
          "text": [
            "No data available for BRN.AX on 2023-01-02 00:00:00\n"
          ]
        },
        {
          "output_type": "stream",
          "name": "stderr",
          "text": [
            "[*********************100%%**********************]  1 of 1 completed\n",
            "[*********************100%%**********************]  1 of 1 completed\n",
            "[*********************100%%**********************]  1 of 1 completed\n",
            "[*********************100%%**********************]  1 of 1 completed\n",
            "[*********************100%%**********************]  1 of 1 completed\n",
            "[*********************100%%**********************]  1 of 1 completed\n",
            "[*********************100%%**********************]  1 of 1 completed\n",
            "[*********************100%%**********************]  1 of 1 completed\n",
            "[*********************100%%**********************]  1 of 1 completed\n",
            "[*********************100%%**********************]  1 of 1 completed\n"
          ]
        },
        {
          "output_type": "stream",
          "name": "stdout",
          "text": [
            "No data available for BRE.AX on 2023-01-02 00:00:00\n"
          ]
        },
        {
          "output_type": "stream",
          "name": "stderr",
          "text": [
            "[*********************100%%**********************]  1 of 1 completed\n",
            "[*********************100%%**********************]  1 of 1 completed\n",
            "[*********************100%%**********************]  1 of 1 completed\n",
            "[*********************100%%**********************]  1 of 1 completed\n",
            "[*********************100%%**********************]  1 of 1 completed\n",
            "[*********************100%%**********************]  1 of 1 completed\n",
            "[*********************100%%**********************]  1 of 1 completed\n",
            "[*********************100%%**********************]  1 of 1 completed\n",
            "[*********************100%%**********************]  1 of 1 completed\n",
            "[*********************100%%**********************]  1 of 1 completed\n",
            "[*********************100%%**********************]  1 of 1 completed\n",
            "[*********************100%%**********************]  1 of 1 completed\n",
            "[*********************100%%**********************]  1 of 1 completed\n",
            "[*********************100%%**********************]  1 of 1 completed\n",
            "[*********************100%%**********************]  1 of 1 completed\n",
            "[*********************100%%**********************]  1 of 1 completed\n",
            "[*********************100%%**********************]  1 of 1 completed\n"
          ]
        },
        {
          "output_type": "stream",
          "name": "stdout",
          "text": [
            "No data available for BFL.AX on 2023-01-02 00:00:00\n"
          ]
        },
        {
          "output_type": "stream",
          "name": "stderr",
          "text": [
            "[*********************100%%**********************]  1 of 1 completed\n",
            "[*********************100%%**********************]  1 of 1 completed\n",
            "[*********************100%%**********************]  1 of 1 completed\n",
            "[*********************100%%**********************]  1 of 1 completed\n",
            "[*********************100%%**********************]  1 of 1 completed\n",
            "[*********************100%%**********************]  1 of 1 completed\n",
            "[*********************100%%**********************]  1 of 1 completed\n",
            "[*********************100%%**********************]  1 of 1 completed\n",
            "[*********************100%%**********************]  1 of 1 completed\n",
            "[*********************100%%**********************]  1 of 1 completed\n",
            "[*********************100%%**********************]  1 of 1 completed\n",
            "[*********************100%%**********************]  1 of 1 completed\n",
            "[*********************100%%**********************]  1 of 1 completed\n",
            "[*********************100%%**********************]  1 of 1 completed\n",
            "[*********************100%%**********************]  1 of 1 completed\n",
            "[*********************100%%**********************]  1 of 1 completed\n",
            "[*********************100%%**********************]  1 of 1 completed\n",
            "[*********************100%%**********************]  1 of 1 completed\n"
          ]
        },
        {
          "output_type": "stream",
          "name": "stdout",
          "text": [
            "No data available for CSC.AX on 2024-01-02 00:00:00\n",
            "No data available for CSC.AX on 2023-01-02 00:00:00\n",
            "No data available for CSC.AX on 2021-12-31 00:00:00\n",
            "No data available for CSC.AX on 2020-12-31 00:00:00\n"
          ]
        },
        {
          "output_type": "stream",
          "name": "stderr",
          "text": [
            "[*********************100%%**********************]  1 of 1 completed\n",
            "[*********************100%%**********************]  1 of 1 completed\n",
            "[*********************100%%**********************]  1 of 1 completed\n",
            "[*********************100%%**********************]  1 of 1 completed\n",
            "[*********************100%%**********************]  1 of 1 completed\n",
            "[*********************100%%**********************]  1 of 1 completed\n",
            "[*********************100%%**********************]  1 of 1 completed\n",
            "[*********************100%%**********************]  1 of 1 completed\n",
            "[*********************100%%**********************]  1 of 1 completed\n",
            "[*********************100%%**********************]  1 of 1 completed\n",
            "[*********************100%%**********************]  1 of 1 completed\n",
            "[*********************100%%**********************]  1 of 1 completed\n",
            "[*********************100%%**********************]  1 of 1 completed\n",
            "[*********************100%%**********************]  1 of 1 completed\n",
            "[*********************100%%**********************]  1 of 1 completed\n",
            "[*********************100%%**********************]  1 of 1 completed\n",
            "[*********************100%%**********************]  1 of 1 completed\n",
            "[*********************100%%**********************]  1 of 1 completed\n",
            "[*********************100%%**********************]  1 of 1 completed\n",
            "[*********************100%%**********************]  1 of 1 completed\n",
            "[*********************100%%**********************]  1 of 1 completed\n",
            "[*********************100%%**********************]  1 of 1 completed\n",
            "[*********************100%%**********************]  1 of 1 completed\n",
            "[*********************100%%**********************]  1 of 1 completed\n",
            "[*********************100%%**********************]  1 of 1 completed\n",
            "[*********************100%%**********************]  1 of 1 completed\n",
            "[*********************100%%**********************]  1 of 1 completed\n",
            "[*********************100%%**********************]  1 of 1 completed\n",
            "[*********************100%%**********************]  1 of 1 completed\n",
            "[*********************100%%**********************]  1 of 1 completed\n",
            "[*********************100%%**********************]  1 of 1 completed\n",
            "[*********************100%%**********************]  1 of 1 completed\n",
            "[*********************100%%**********************]  1 of 1 completed\n",
            "[*********************100%%**********************]  1 of 1 completed\n",
            "[*********************100%%**********************]  1 of 1 completed\n",
            "[*********************100%%**********************]  1 of 1 completed\n",
            "[*********************100%%**********************]  1 of 1 completed\n",
            "[*********************100%%**********************]  1 of 1 completed\n",
            "[*********************100%%**********************]  1 of 1 completed\n"
          ]
        },
        {
          "output_type": "stream",
          "name": "stdout",
          "text": [
            "No data available for CTT.AX on 2020-06-30 00:00:00\n"
          ]
        },
        {
          "output_type": "stream",
          "name": "stderr",
          "text": [
            "[*********************100%%**********************]  1 of 1 completed\n",
            "[*********************100%%**********************]  1 of 1 completed\n",
            "[*********************100%%**********************]  1 of 1 completed\n",
            "[*********************100%%**********************]  1 of 1 completed\n",
            "[*********************100%%**********************]  1 of 1 completed\n",
            "[*********************100%%**********************]  1 of 1 completed\n",
            "[*********************100%%**********************]  1 of 1 completed\n",
            "[*********************100%%**********************]  1 of 1 completed\n",
            "[*********************100%%**********************]  1 of 1 completed\n",
            "[*********************100%%**********************]  1 of 1 completed\n",
            "[*********************100%%**********************]  1 of 1 completed\n",
            "[*********************100%%**********************]  1 of 1 completed\n"
          ]
        },
        {
          "output_type": "stream",
          "name": "stdout",
          "text": [
            "No data available for CIA.AX on 2024-04-01 00:00:00\n"
          ]
        },
        {
          "output_type": "stream",
          "name": "stderr",
          "text": [
            "[*********************100%%**********************]  1 of 1 completed\n",
            "[*********************100%%**********************]  1 of 1 completed\n",
            "[*********************100%%**********************]  1 of 1 completed\n",
            "[*********************100%%**********************]  1 of 1 completed\n",
            "[*********************100%%**********************]  1 of 1 completed\n",
            "[*********************100%%**********************]  1 of 1 completed\n",
            "[*********************100%%**********************]  1 of 1 completed\n",
            "[*********************100%%**********************]  1 of 1 completed\n",
            "[*********************100%%**********************]  1 of 1 completed\n",
            "[*********************100%%**********************]  1 of 1 completed\n",
            "[*********************100%%**********************]  1 of 1 completed\n",
            "[*********************100%%**********************]  1 of 1 completed\n",
            "[*********************100%%**********************]  1 of 1 completed\n",
            "[*********************100%%**********************]  1 of 1 completed\n",
            "[*********************100%%**********************]  1 of 1 completed\n",
            "[*********************100%%**********************]  1 of 1 completed\n",
            "[*********************100%%**********************]  1 of 1 completed\n",
            "[*********************100%%**********************]  1 of 1 completed\n",
            "[*********************100%%**********************]  1 of 1 completed\n",
            "[*********************100%%**********************]  1 of 1 completed\n",
            "[*********************100%%**********************]  1 of 1 completed\n",
            "[*********************100%%**********************]  1 of 1 completed\n",
            "[*********************100%%**********************]  1 of 1 completed\n",
            "[*********************100%%**********************]  1 of 1 completed\n",
            "[*********************100%%**********************]  1 of 1 completed\n",
            "[*********************100%%**********************]  1 of 1 completed\n",
            "[*********************100%%**********************]  1 of 1 completed\n",
            "[*********************100%%**********************]  1 of 1 completed\n",
            "[*********************100%%**********************]  1 of 1 completed\n",
            "[*********************100%%**********************]  1 of 1 completed\n",
            "[*********************100%%**********************]  1 of 1 completed\n",
            "[*********************100%%**********************]  1 of 1 completed\n",
            "[*********************100%%**********************]  1 of 1 completed\n",
            "[*********************100%%**********************]  1 of 1 completed\n",
            "[*********************100%%**********************]  1 of 1 completed\n",
            "[*********************100%%**********************]  1 of 1 completed\n",
            "[*********************100%%**********************]  1 of 1 completed\n",
            "[*********************100%%**********************]  1 of 1 completed\n",
            "[*********************100%%**********************]  1 of 1 completed\n",
            "[*********************100%%**********************]  1 of 1 completed\n",
            "[*********************100%%**********************]  1 of 1 completed\n",
            "[*********************100%%**********************]  1 of 1 completed\n",
            "[*********************100%%**********************]  1 of 1 completed\n",
            "[*********************100%%**********************]  1 of 1 completed\n",
            "[*********************100%%**********************]  1 of 1 completed\n",
            "[*********************100%%**********************]  1 of 1 completed\n",
            "[*********************100%%**********************]  1 of 1 completed\n",
            "[*********************100%%**********************]  1 of 1 completed\n",
            "[*********************100%%**********************]  1 of 1 completed\n",
            "[*********************100%%**********************]  1 of 1 completed\n",
            "[*********************100%%**********************]  1 of 1 completed\n",
            "[*********************100%%**********************]  1 of 1 completed\n",
            "[*********************100%%**********************]  1 of 1 completed\n",
            "[*********************100%%**********************]  1 of 1 completed\n",
            "[*********************100%%**********************]  1 of 1 completed\n",
            "[*********************100%%**********************]  1 of 1 completed\n",
            "[*********************100%%**********************]  1 of 1 completed\n",
            "[*********************100%%**********************]  1 of 1 completed\n",
            "[*********************100%%**********************]  1 of 1 completed\n",
            "[*********************100%%**********************]  1 of 1 completed\n",
            "[*********************100%%**********************]  1 of 1 completed\n",
            "[*********************100%%**********************]  1 of 1 completed\n",
            "[*********************100%%**********************]  1 of 1 completed\n",
            "[*********************100%%**********************]  1 of 1 completed\n",
            "[*********************100%%**********************]  1 of 1 completed\n",
            "[*********************100%%**********************]  1 of 1 completed\n",
            "[*********************100%%**********************]  1 of 1 completed\n",
            "[*********************100%%**********************]  1 of 1 completed\n",
            "[*********************100%%**********************]  1 of 1 completed\n",
            "[*********************100%%**********************]  1 of 1 completed\n",
            "[*********************100%%**********************]  1 of 1 completed\n",
            "[*********************100%%**********************]  1 of 1 completed\n",
            "[*********************100%%**********************]  1 of 1 completed\n",
            "[*********************100%%**********************]  1 of 1 completed\n"
          ]
        },
        {
          "output_type": "stream",
          "name": "stdout",
          "text": [
            "No data available for CRN.AX on 2023-01-02 00:00:00\n"
          ]
        },
        {
          "output_type": "stream",
          "name": "stderr",
          "text": [
            "[*********************100%%**********************]  1 of 1 completed\n",
            "[*********************100%%**********************]  1 of 1 completed\n",
            "[*********************100%%**********************]  1 of 1 completed\n",
            "[*********************100%%**********************]  1 of 1 completed\n",
            "[*********************100%%**********************]  1 of 1 completed\n",
            "[*********************100%%**********************]  1 of 1 completed\n",
            "[*********************100%%**********************]  1 of 1 completed\n",
            "[*********************100%%**********************]  1 of 1 completed\n",
            "[*********************100%%**********************]  1 of 1 completed\n",
            "[*********************100%%**********************]  1 of 1 completed\n",
            "[*********************100%%**********************]  1 of 1 completed\n",
            "[*********************100%%**********************]  1 of 1 completed\n",
            "[*********************100%%**********************]  1 of 1 completed\n",
            "[*********************100%%**********************]  1 of 1 completed\n",
            "[*********************100%%**********************]  1 of 1 completed\n",
            "[*********************100%%**********************]  1 of 1 completed\n",
            "[*********************100%%**********************]  1 of 1 completed\n",
            "[*********************100%%**********************]  1 of 1 completed\n",
            "[*********************100%%**********************]  1 of 1 completed\n",
            "[*********************100%%**********************]  1 of 1 completed\n",
            "[*********************100%%**********************]  1 of 1 completed\n",
            "[*********************100%%**********************]  1 of 1 completed\n"
          ]
        },
        {
          "output_type": "stream",
          "name": "stdout",
          "text": [
            "No data available for CSR.AX on 2024-04-01 00:00:00\n"
          ]
        },
        {
          "output_type": "stream",
          "name": "stderr",
          "text": [
            "[*********************100%%**********************]  1 of 1 completed\n",
            "[*********************100%%**********************]  1 of 1 completed\n"
          ]
        },
        {
          "output_type": "stream",
          "name": "stdout",
          "text": [
            "No data available for DBI.AX on 2023-01-02 00:00:00\n"
          ]
        },
        {
          "output_type": "stream",
          "name": "stderr",
          "text": [
            "[*********************100%%**********************]  1 of 1 completed\n",
            "[*********************100%%**********************]  1 of 1 completed\n",
            "[*********************100%%**********************]  1 of 1 completed\n",
            "[*********************100%%**********************]  1 of 1 completed\n",
            "[*********************100%%**********************]  1 of 1 completed\n",
            "[*********************100%%**********************]  1 of 1 completed\n",
            "[*********************100%%**********************]  1 of 1 completed\n",
            "[*********************100%%**********************]  1 of 1 completed\n",
            "[*********************100%%**********************]  1 of 1 completed\n",
            "[*********************100%%**********************]  1 of 1 completed\n",
            "[*********************100%%**********************]  1 of 1 completed\n",
            "[*********************100%%**********************]  1 of 1 completed\n",
            "[*********************100%%**********************]  1 of 1 completed\n",
            "[*********************100%%**********************]  1 of 1 completed\n",
            "[*********************100%%**********************]  1 of 1 completed\n",
            "[*********************100%%**********************]  1 of 1 completed\n",
            "[*********************100%%**********************]  1 of 1 completed\n",
            "[*********************100%%**********************]  1 of 1 completed\n",
            "[*********************100%%**********************]  1 of 1 completed\n",
            "[*********************100%%**********************]  1 of 1 completed\n",
            "[*********************100%%**********************]  1 of 1 completed\n",
            "[*********************100%%**********************]  1 of 1 completed\n",
            "[*********************100%%**********************]  1 of 1 completed\n",
            "[*********************100%%**********************]  1 of 1 completed\n",
            "[*********************100%%**********************]  1 of 1 completed\n",
            "[*********************100%%**********************]  1 of 1 completed\n",
            "[*********************100%%**********************]  1 of 1 completed\n",
            "[*********************100%%**********************]  1 of 1 completed\n",
            "[*********************100%%**********************]  1 of 1 completed\n",
            "[*********************100%%**********************]  1 of 1 completed\n",
            "[*********************100%%**********************]  1 of 1 completed\n",
            "[*********************100%%**********************]  1 of 1 completed\n",
            "[*********************100%%**********************]  1 of 1 completed\n",
            "[*********************100%%**********************]  1 of 1 completed\n",
            "[*********************100%%**********************]  1 of 1 completed\n"
          ]
        },
        {
          "output_type": "stream",
          "name": "stdout",
          "text": [
            "No data available for DDR.AX on 2023-01-02 00:00:00\n"
          ]
        },
        {
          "output_type": "stream",
          "name": "stderr",
          "text": [
            "[*********************100%%**********************]  1 of 1 completed\n",
            "[*********************100%%**********************]  1 of 1 completed\n",
            "[*********************100%%**********************]  1 of 1 completed\n",
            "[*********************100%%**********************]  1 of 1 completed\n",
            "[*********************100%%**********************]  1 of 1 completed\n",
            "[*********************100%%**********************]  1 of 1 completed\n",
            "[*********************100%%**********************]  1 of 1 completed\n",
            "[*********************100%%**********************]  1 of 1 completed\n",
            "[*********************100%%**********************]  1 of 1 completed\n",
            "[*********************100%%**********************]  1 of 1 completed\n",
            "[*********************100%%**********************]  1 of 1 completed\n",
            "[*********************100%%**********************]  1 of 1 completed\n",
            "[*********************100%%**********************]  1 of 1 completed\n",
            "[*********************100%%**********************]  1 of 1 completed\n",
            "[*********************100%%**********************]  1 of 1 completed\n",
            "[*********************100%%**********************]  1 of 1 completed\n",
            "[*********************100%%**********************]  1 of 1 completed\n",
            "[*********************100%%**********************]  1 of 1 completed\n",
            "[*********************100%%**********************]  1 of 1 completed\n",
            "[*********************100%%**********************]  1 of 1 completed\n",
            "[*********************100%%**********************]  1 of 1 completed\n",
            "[*********************100%%**********************]  1 of 1 completed\n",
            "[*********************100%%**********************]  1 of 1 completed\n",
            "[*********************100%%**********************]  1 of 1 completed\n",
            "[*********************100%%**********************]  1 of 1 completed\n",
            "[*********************100%%**********************]  1 of 1 completed\n",
            "[*********************100%%**********************]  1 of 1 completed\n",
            "[*********************100%%**********************]  1 of 1 completed\n",
            "[*********************100%%**********************]  1 of 1 completed\n"
          ]
        },
        {
          "output_type": "stream",
          "name": "stdout",
          "text": [
            "No data available for DRO.AX on 2019-12-31 00:00:00\n",
            "No data available for DRO.AX on 2023-01-02 00:00:00\n"
          ]
        },
        {
          "output_type": "stream",
          "name": "stderr",
          "text": [
            "[*********************100%%**********************]  1 of 1 completed\n",
            "[*********************100%%**********************]  1 of 1 completed\n",
            "[*********************100%%**********************]  1 of 1 completed\n",
            "[*********************100%%**********************]  1 of 1 completed\n",
            "[*********************100%%**********************]  1 of 1 completed\n",
            "[*********************100%%**********************]  1 of 1 completed\n",
            "[*********************100%%**********************]  1 of 1 completed\n"
          ]
        },
        {
          "output_type": "stream",
          "name": "stdout",
          "text": [
            "No data available for DUR.AX on 2020-06-30 00:00:00\n"
          ]
        },
        {
          "output_type": "stream",
          "name": "stderr",
          "text": [
            "[*********************100%%**********************]  1 of 1 completed\n",
            "[*********************100%%**********************]  1 of 1 completed\n",
            "[*********************100%%**********************]  1 of 1 completed\n",
            "[*********************100%%**********************]  1 of 1 completed\n"
          ]
        },
        {
          "output_type": "stream",
          "name": "stdout",
          "text": [
            "No data available for APE.AX on 2023-01-02 00:00:00\n"
          ]
        },
        {
          "output_type": "stream",
          "name": "stderr",
          "text": [
            "[*********************100%%**********************]  1 of 1 completed\n",
            "[*********************100%%**********************]  1 of 1 completed\n",
            "[*********************100%%**********************]  1 of 1 completed\n",
            "[*********************100%%**********************]  1 of 1 completed\n",
            "[*********************100%%**********************]  1 of 1 completed\n",
            "[*********************100%%**********************]  1 of 1 completed\n",
            "[*********************100%%**********************]  1 of 1 completed\n"
          ]
        },
        {
          "output_type": "stream",
          "name": "stdout",
          "text": [
            "No data available for EBR.AX on 2023-01-02 00:00:00\n"
          ]
        },
        {
          "output_type": "stream",
          "name": "stderr",
          "text": [
            "[*********************100%%**********************]  1 of 1 completed\n",
            "[*********************100%%**********************]  1 of 1 completed\n",
            "[*********************100%%**********************]  1 of 1 completed\n",
            "[*********************100%%**********************]  1 of 1 completed\n",
            "[*********************100%%**********************]  1 of 1 completed\n",
            "[*********************100%%**********************]  1 of 1 completed\n",
            "[*********************100%%**********************]  1 of 1 completed\n",
            "[*********************100%%**********************]  1 of 1 completed\n"
          ]
        },
        {
          "output_type": "stream",
          "name": "stdout",
          "text": [
            "No data available for EOS.AX on 2023-01-02 00:00:00\n"
          ]
        },
        {
          "output_type": "stream",
          "name": "stderr",
          "text": [
            "[*********************100%%**********************]  1 of 1 completed\n",
            "[*********************100%%**********************]  1 of 1 completed\n",
            "[*********************100%%**********************]  1 of 1 completed\n",
            "[*********************100%%**********************]  1 of 1 completed\n",
            "[*********************100%%**********************]  1 of 1 completed\n",
            "[*********************100%%**********************]  1 of 1 completed\n",
            "[*********************100%%**********************]  1 of 1 completed\n",
            "[*********************100%%**********************]  1 of 1 completed\n",
            "[*********************100%%**********************]  1 of 1 completed\n",
            "[*********************100%%**********************]  1 of 1 completed\n",
            "[*********************100%%**********************]  1 of 1 completed\n",
            "[*********************100%%**********************]  1 of 1 completed\n",
            "[*********************100%%**********************]  1 of 1 completed\n",
            "[*********************100%%**********************]  1 of 1 completed\n",
            "[*********************100%%**********************]  1 of 1 completed\n",
            "[*********************100%%**********************]  1 of 1 completed\n",
            "[*********************100%%**********************]  1 of 1 completed\n",
            "[*********************100%%**********************]  1 of 1 completed\n",
            "[*********************100%%**********************]  1 of 1 completed\n"
          ]
        },
        {
          "output_type": "stream",
          "name": "stdout",
          "text": [
            "No data available for ERA.AX on 2023-01-02 00:00:00\n"
          ]
        },
        {
          "output_type": "stream",
          "name": "stderr",
          "text": [
            "[*********************100%%**********************]  1 of 1 completed\n",
            "[*********************100%%**********************]  1 of 1 completed\n",
            "[*********************100%%**********************]  1 of 1 completed\n",
            "[*********************100%%**********************]  1 of 1 completed\n",
            "[*********************100%%**********************]  1 of 1 completed\n",
            "[*********************100%%**********************]  1 of 1 completed\n",
            "[*********************100%%**********************]  1 of 1 completed\n",
            "[*********************100%%**********************]  1 of 1 completed\n",
            "[*********************100%%**********************]  1 of 1 completed\n",
            "[*********************100%%**********************]  1 of 1 completed\n",
            "[*********************100%%**********************]  1 of 1 completed\n",
            "[*********************100%%**********************]  1 of 1 completed\n",
            "[*********************100%%**********************]  1 of 1 completed\n",
            "[*********************100%%**********************]  1 of 1 completed\n",
            "[*********************100%%**********************]  1 of 1 completed\n",
            "[*********************100%%**********************]  1 of 1 completed\n",
            "[*********************100%%**********************]  1 of 1 completed\n",
            "[*********************100%%**********************]  1 of 1 completed\n",
            "[*********************100%%**********************]  1 of 1 completed\n",
            "[*********************100%%**********************]  1 of 1 completed\n",
            "[*********************100%%**********************]  1 of 1 completed\n",
            "[*********************100%%**********************]  1 of 1 completed\n",
            "[*********************100%%**********************]  1 of 1 completed\n",
            "[*********************100%%**********************]  1 of 1 completed\n",
            "[*********************100%%**********************]  1 of 1 completed\n",
            "[*********************100%%**********************]  1 of 1 completed\n",
            "[*********************100%%**********************]  1 of 1 completed\n",
            "[*********************100%%**********************]  1 of 1 completed\n"
          ]
        },
        {
          "output_type": "stream",
          "name": "stdout",
          "text": [
            "No data available for FFX.AX on 2023-01-02 00:00:00\n",
            "No data available for FFX.AX on 2019-12-31 00:00:00\n"
          ]
        },
        {
          "output_type": "stream",
          "name": "stderr",
          "text": [
            "[*********************100%%**********************]  1 of 1 completed\n",
            "[*********************100%%**********************]  1 of 1 completed\n",
            "[*********************100%%**********************]  1 of 1 completed\n",
            "[*********************100%%**********************]  1 of 1 completed\n",
            "[*********************100%%**********************]  1 of 1 completed\n",
            "[*********************100%%**********************]  1 of 1 completed\n",
            "[*********************100%%**********************]  1 of 1 completed\n",
            "[*********************100%%**********************]  1 of 1 completed\n",
            "[*********************100%%**********************]  1 of 1 completed\n",
            "[*********************100%%**********************]  1 of 1 completed\n",
            "[*********************100%%**********************]  1 of 1 completed\n"
          ]
        },
        {
          "output_type": "stream",
          "name": "stdout",
          "text": [
            "No data available for FPH.AX on 2024-04-01 00:00:00\n",
            "No data available for FPR.AX on 2019-09-30 00:00:00\n"
          ]
        },
        {
          "output_type": "stream",
          "name": "stderr",
          "text": [
            "[*********************100%%**********************]  1 of 1 completed\n",
            "[*********************100%%**********************]  1 of 1 completed\n",
            "[*********************100%%**********************]  1 of 1 completed\n",
            "[*********************100%%**********************]  1 of 1 completed\n",
            "[*********************100%%**********************]  1 of 1 completed\n",
            "[*********************100%%**********************]  1 of 1 completed\n",
            "[*********************100%%**********************]  1 of 1 completed\n",
            "[*********************100%%**********************]  1 of 1 completed\n",
            "[*********************100%%**********************]  1 of 1 completed\n",
            "[*********************100%%**********************]  1 of 1 completed\n",
            "[*********************100%%**********************]  1 of 1 completed\n",
            "[*********************100%%**********************]  1 of 1 completed\n",
            "[*********************100%%**********************]  1 of 1 completed\n",
            "[*********************100%%**********************]  1 of 1 completed\n",
            "[*********************100%%**********************]  1 of 1 completed\n",
            "[*********************100%%**********************]  1 of 1 completed\n"
          ]
        },
        {
          "output_type": "stream",
          "name": "stdout",
          "text": [
            "No data available for FSF.AX on 2019-07-31 00:00:00\n"
          ]
        },
        {
          "output_type": "stream",
          "name": "stderr",
          "text": [
            "[*********************100%%**********************]  1 of 1 completed\n",
            "[*********************100%%**********************]  1 of 1 completed\n",
            "[*********************100%%**********************]  1 of 1 completed\n",
            "[*********************100%%**********************]  1 of 1 completed\n",
            "[*********************100%%**********************]  1 of 1 completed\n",
            "[*********************100%%**********************]  1 of 1 completed\n",
            "[*********************100%%**********************]  1 of 1 completed\n"
          ]
        },
        {
          "output_type": "stream",
          "name": "stdout",
          "text": [
            "No data available for FRW.AX on 2022-06-30 00:00:00\n",
            "No data available for FRW.AX on 2021-06-30 00:00:00\n",
            "No data available for FRW.AX on 2020-06-30 00:00:00\n"
          ]
        },
        {
          "output_type": "stream",
          "name": "stderr",
          "text": [
            "[*********************100%%**********************]  1 of 1 completed\n",
            "[*********************100%%**********************]  1 of 1 completed\n",
            "[*********************100%%**********************]  1 of 1 completed\n",
            "[*********************100%%**********************]  1 of 1 completed\n",
            "[*********************100%%**********************]  1 of 1 completed\n"
          ]
        },
        {
          "output_type": "stream",
          "name": "stdout",
          "text": [
            "No data available for FGX.AX on 2019-12-31 00:00:00\n",
            "No data available for FGX.AX on 2023-01-02 00:00:00\n"
          ]
        },
        {
          "output_type": "stream",
          "name": "stderr",
          "text": [
            "[*********************100%%**********************]  1 of 1 completed\n",
            "[*********************100%%**********************]  1 of 1 completed\n",
            "[*********************100%%**********************]  1 of 1 completed\n",
            "[*********************100%%**********************]  1 of 1 completed\n",
            "[*********************100%%**********************]  1 of 1 completed\n"
          ]
        },
        {
          "output_type": "stream",
          "name": "stdout",
          "text": [
            "No data available for FGG.AX on 2019-12-31 00:00:00\n",
            "No data available for FGG.AX on 2023-01-02 00:00:00\n"
          ]
        },
        {
          "output_type": "stream",
          "name": "stderr",
          "text": [
            "[*********************100%%**********************]  1 of 1 completed\n",
            "[*********************100%%**********************]  1 of 1 completed\n",
            "[*********************100%%**********************]  1 of 1 completed\n",
            "[*********************100%%**********************]  1 of 1 completed\n",
            "[*********************100%%**********************]  1 of 1 completed\n",
            "[*********************100%%**********************]  1 of 1 completed\n",
            "[*********************100%%**********************]  1 of 1 completed\n",
            "[*********************100%%**********************]  1 of 1 completed\n",
            "[*********************100%%**********************]  1 of 1 completed\n"
          ]
        },
        {
          "output_type": "stream",
          "name": "stdout",
          "text": [
            "No data available for GEM.AX on 2019-12-31 00:00:00\n",
            "No data available for GEM.AX on 2023-01-02 00:00:00\n"
          ]
        },
        {
          "output_type": "stream",
          "name": "stderr",
          "text": [
            "[*********************100%%**********************]  1 of 1 completed\n",
            "[*********************100%%**********************]  1 of 1 completed\n",
            "[*********************100%%**********************]  1 of 1 completed\n",
            "[*********************100%%**********************]  1 of 1 completed\n",
            "[*********************100%%**********************]  1 of 1 completed\n",
            "[*********************100%%**********************]  1 of 1 completed\n",
            "[*********************100%%**********************]  1 of 1 completed\n",
            "[*********************100%%**********************]  1 of 1 completed\n",
            "[*********************100%%**********************]  1 of 1 completed\n",
            "[*********************100%%**********************]  1 of 1 completed\n",
            "[*********************100%%**********************]  1 of 1 completed\n",
            "[*********************100%%**********************]  1 of 1 completed\n",
            "[*********************100%%**********************]  1 of 1 completed\n",
            "[*********************100%%**********************]  1 of 1 completed\n",
            "[*********************100%%**********************]  1 of 1 completed\n",
            "[*********************100%%**********************]  1 of 1 completed\n",
            "[*********************100%%**********************]  1 of 1 completed\n",
            "[*********************100%%**********************]  1 of 1 completed\n",
            "[*********************100%%**********************]  1 of 1 completed\n",
            "[*********************100%%**********************]  1 of 1 completed\n",
            "[*********************100%%**********************]  1 of 1 completed\n",
            "[*********************100%%**********************]  1 of 1 completed\n",
            "[*********************100%%**********************]  1 of 1 completed\n",
            "[*********************100%%**********************]  1 of 1 completed\n",
            "[*********************100%%**********************]  1 of 1 completed\n",
            "[*********************100%%**********************]  1 of 1 completed\n",
            "[*********************100%%**********************]  1 of 1 completed\n",
            "[*********************100%%**********************]  1 of 1 completed\n",
            "[*********************100%%**********************]  1 of 1 completed\n",
            "[*********************100%%**********************]  1 of 1 completed\n",
            "[*********************100%%**********************]  1 of 1 completed\n",
            "[*********************100%%**********************]  1 of 1 completed\n"
          ]
        },
        {
          "output_type": "stream",
          "name": "stdout",
          "text": [
            "No data available for GNP.AX on 2020-06-30 00:00:00\n"
          ]
        },
        {
          "output_type": "stream",
          "name": "stderr",
          "text": [
            "[*********************100%%**********************]  1 of 1 completed\n",
            "[*********************100%%**********************]  1 of 1 completed\n",
            "[*********************100%%**********************]  1 of 1 completed\n",
            "[*********************100%%**********************]  1 of 1 completed\n",
            "[*********************100%%**********************]  1 of 1 completed\n",
            "[*********************100%%**********************]  1 of 1 completed\n",
            "[*********************100%%**********************]  1 of 1 completed\n",
            "[*********************100%%**********************]  1 of 1 completed\n",
            "[*********************100%%**********************]  1 of 1 completed\n"
          ]
        },
        {
          "output_type": "stream",
          "name": "stdout",
          "text": [
            "No data available for GOR.AX on 2019-12-31 00:00:00\n",
            "No data available for GOR.AX on 2023-01-02 00:00:00\n"
          ]
        },
        {
          "output_type": "stream",
          "name": "stderr",
          "text": [
            "[*********************100%%**********************]  1 of 1 completed\n",
            "[*********************100%%**********************]  1 of 1 completed\n",
            "[*********************100%%**********************]  1 of 1 completed\n",
            "[*********************100%%**********************]  1 of 1 completed\n",
            "[*********************100%%**********************]  1 of 1 completed\n",
            "[*********************100%%**********************]  1 of 1 completed\n",
            "[*********************100%%**********************]  1 of 1 completed\n",
            "[*********************100%%**********************]  1 of 1 completed\n"
          ]
        },
        {
          "output_type": "stream",
          "name": "stdout",
          "text": [
            "No data available for GPT.AX on 2023-01-02 00:00:00\n"
          ]
        },
        {
          "output_type": "stream",
          "name": "stderr",
          "text": [
            "[*********************100%%**********************]  1 of 1 completed\n",
            "[*********************100%%**********************]  1 of 1 completed\n",
            "[*********************100%%**********************]  1 of 1 completed\n"
          ]
        },
        {
          "output_type": "stream",
          "name": "stdout",
          "text": [
            "No data available for GQG.AX on 2023-01-02 00:00:00\n"
          ]
        },
        {
          "output_type": "stream",
          "name": "stderr",
          "text": [
            "[*********************100%%**********************]  1 of 1 completed\n",
            "[*********************100%%**********************]  1 of 1 completed\n",
            "[*********************100%%**********************]  1 of 1 completed\n",
            "[*********************100%%**********************]  1 of 1 completed\n",
            "[*********************100%%**********************]  1 of 1 completed\n"
          ]
        },
        {
          "output_type": "stream",
          "name": "stdout",
          "text": [
            "No data available for GNC.AX on 2019-09-30 00:00:00\n"
          ]
        },
        {
          "output_type": "stream",
          "name": "stderr",
          "text": [
            "[*********************100%%**********************]  1 of 1 completed\n",
            "[*********************100%%**********************]  1 of 1 completed\n",
            "[*********************100%%**********************]  1 of 1 completed\n",
            "[*********************100%%**********************]  1 of 1 completed\n",
            "[*********************100%%**********************]  1 of 1 completed\n"
          ]
        },
        {
          "output_type": "stream",
          "name": "stdout",
          "text": [
            "No data available for GRR.AX on 2023-01-02 00:00:00\n"
          ]
        },
        {
          "output_type": "stream",
          "name": "stderr",
          "text": [
            "[*********************100%%**********************]  1 of 1 completed\n",
            "[*********************100%%**********************]  1 of 1 completed\n",
            "[*********************100%%**********************]  1 of 1 completed\n",
            "[*********************100%%**********************]  1 of 1 completed\n",
            "[*********************100%%**********************]  1 of 1 completed\n",
            "[*********************100%%**********************]  1 of 1 completed\n",
            "[*********************100%%**********************]  1 of 1 completed\n",
            "[*********************100%%**********************]  1 of 1 completed\n",
            "[*********************100%%**********************]  1 of 1 completed\n",
            "[*********************100%%**********************]  1 of 1 completed\n",
            "[*********************100%%**********************]  1 of 1 completed\n",
            "[*********************100%%**********************]  1 of 1 completed\n",
            "[*********************100%%**********************]  1 of 1 completed\n",
            "[*********************100%%**********************]  1 of 1 completed\n",
            "[*********************100%%**********************]  1 of 1 completed\n",
            "[*********************100%%**********************]  1 of 1 completed\n",
            "[*********************100%%**********************]  1 of 1 completed\n",
            "[*********************100%%**********************]  1 of 1 completed\n",
            "[*********************100%%**********************]  1 of 1 completed\n",
            "[*********************100%%**********************]  1 of 1 completed\n",
            "[*********************100%%**********************]  1 of 1 completed\n",
            "[*********************100%%**********************]  1 of 1 completed\n",
            "[*********************100%%**********************]  1 of 1 completed\n",
            "[*********************100%%**********************]  1 of 1 completed\n",
            "[*********************100%%**********************]  1 of 1 completed\n",
            "[*********************100%%**********************]  1 of 1 completed\n",
            "[*********************100%%**********************]  1 of 1 completed\n",
            "[*********************100%%**********************]  1 of 1 completed\n",
            "[*********************100%%**********************]  1 of 1 completed\n",
            "[*********************100%%**********************]  1 of 1 completed\n",
            "[*********************100%%**********************]  1 of 1 completed\n",
            "[*********************100%%**********************]  1 of 1 completed\n",
            "[*********************100%%**********************]  1 of 1 completed\n",
            "[*********************100%%**********************]  1 of 1 completed\n",
            "[*********************100%%**********************]  1 of 1 completed\n",
            "[*********************100%%**********************]  1 of 1 completed\n",
            "[*********************100%%**********************]  1 of 1 completed\n",
            "[*********************100%%**********************]  1 of 1 completed\n",
            "[*********************100%%**********************]  1 of 1 completed\n",
            "[*********************100%%**********************]  1 of 1 completed\n",
            "[*********************100%%**********************]  1 of 1 completed\n",
            "[*********************100%%**********************]  1 of 1 completed\n",
            "[*********************100%%**********************]  1 of 1 completed\n",
            "[*********************100%%**********************]  1 of 1 completed\n",
            "[*********************100%%**********************]  1 of 1 completed\n",
            "[*********************100%%**********************]  1 of 1 completed\n"
          ]
        },
        {
          "output_type": "stream",
          "name": "stdout",
          "text": [
            "No data available for HLI.AX on 2019-12-31 00:00:00\n",
            "No data available for HLI.AX on 2023-01-02 00:00:00\n"
          ]
        },
        {
          "output_type": "stream",
          "name": "stderr",
          "text": [
            "[*********************100%%**********************]  1 of 1 completed\n",
            "[*********************100%%**********************]  1 of 1 completed\n",
            "[*********************100%%**********************]  1 of 1 completed\n",
            "[*********************100%%**********************]  1 of 1 completed\n",
            "[*********************100%%**********************]  1 of 1 completed\n",
            "[*********************100%%**********************]  1 of 1 completed\n",
            "[*********************100%%**********************]  1 of 1 completed\n",
            "[*********************100%%**********************]  1 of 1 completed\n",
            "[*********************100%%**********************]  1 of 1 completed\n"
          ]
        },
        {
          "output_type": "stream",
          "name": "stdout",
          "text": [
            "No data available for HMC.AX on 2021-06-30 00:00:00\n",
            "No data available for HMC.AX on 2020-06-30 00:00:00\n"
          ]
        },
        {
          "output_type": "stream",
          "name": "stderr",
          "text": [
            "[*********************100%%**********************]  1 of 1 completed\n",
            "[*********************100%%**********************]  1 of 1 completed\n",
            "[*********************100%%**********************]  1 of 1 completed\n",
            "[*********************100%%**********************]  1 of 1 completed\n",
            "[*********************100%%**********************]  1 of 1 completed\n",
            "[*********************100%%**********************]  1 of 1 completed\n",
            "[*********************100%%**********************]  1 of 1 completed\n",
            "[*********************100%%**********************]  1 of 1 completed\n",
            "[*********************100%%**********************]  1 of 1 completed\n",
            "[*********************100%%**********************]  1 of 1 completed\n",
            "[*********************100%%**********************]  1 of 1 completed\n",
            "[*********************100%%**********************]  1 of 1 completed\n",
            "[*********************100%%**********************]  1 of 1 completed\n",
            "[*********************100%%**********************]  1 of 1 completed\n",
            "[*********************100%%**********************]  1 of 1 completed\n",
            "[*********************100%%**********************]  1 of 1 completed\n",
            "[*********************100%%**********************]  1 of 1 completed\n",
            "[*********************100%%**********************]  1 of 1 completed\n"
          ]
        },
        {
          "output_type": "stream",
          "name": "stdout",
          "text": [
            "No data available for HTA.AX on 2019-12-31 00:00:00\n",
            "No data available for HTA.AX on 2023-01-02 00:00:00\n"
          ]
        },
        {
          "output_type": "stream",
          "name": "stderr",
          "text": [
            "[*********************100%%**********************]  1 of 1 completed\n",
            "[*********************100%%**********************]  1 of 1 completed\n",
            "[*********************100%%**********************]  1 of 1 completed\n",
            "[*********************100%%**********************]  1 of 1 completed\n",
            "[*********************100%%**********************]  1 of 1 completed\n",
            "[*********************100%%**********************]  1 of 1 completed\n",
            "[*********************100%%**********************]  1 of 1 completed\n",
            "[*********************100%%**********************]  1 of 1 completed\n",
            "[*********************100%%**********************]  1 of 1 completed\n",
            "[*********************100%%**********************]  1 of 1 completed\n",
            "[*********************100%%**********************]  1 of 1 completed\n",
            "[*********************100%%**********************]  1 of 1 completed\n"
          ]
        },
        {
          "output_type": "stream",
          "name": "stdout",
          "text": [
            "No data available for ILU.AX on 2023-01-02 00:00:00\n"
          ]
        },
        {
          "output_type": "stream",
          "name": "stderr",
          "text": [
            "[*********************100%%**********************]  1 of 1 completed\n",
            "[*********************100%%**********************]  1 of 1 completed\n",
            "[*********************100%%**********************]  1 of 1 completed\n",
            "[*********************100%%**********************]  1 of 1 completed\n",
            "[*********************100%%**********************]  1 of 1 completed\n",
            "[*********************100%%**********************]  1 of 1 completed\n",
            "[*********************100%%**********************]  1 of 1 completed\n",
            "[*********************100%%**********************]  1 of 1 completed\n",
            "[*********************100%%**********************]  1 of 1 completed\n",
            "[*********************100%%**********************]  1 of 1 completed\n",
            "[*********************100%%**********************]  1 of 1 completed\n",
            "[*********************100%%**********************]  1 of 1 completed\n",
            "[*********************100%%**********************]  1 of 1 completed\n",
            "[*********************100%%**********************]  1 of 1 completed\n",
            "[*********************100%%**********************]  1 of 1 completed\n",
            "[*********************100%%**********************]  1 of 1 completed\n",
            "[*********************100%%**********************]  1 of 1 completed\n",
            "[*********************100%%**********************]  1 of 1 completed\n",
            "[*********************100%%**********************]  1 of 1 completed\n",
            "[*********************100%%**********************]  1 of 1 completed\n",
            "[*********************100%%**********************]  1 of 1 completed\n",
            "[*********************100%%**********************]  1 of 1 completed\n",
            "[*********************100%%**********************]  1 of 1 completed\n",
            "[*********************100%%**********************]  1 of 1 completed\n",
            "[*********************100%%**********************]  1 of 1 completed\n",
            "[*********************100%%**********************]  1 of 1 completed\n"
          ]
        },
        {
          "output_type": "stream",
          "name": "stdout",
          "text": [
            "No data available for IFT.AX on 2024-04-01 00:00:00\n"
          ]
        },
        {
          "output_type": "stream",
          "name": "stderr",
          "text": [
            "[*********************100%%**********************]  1 of 1 completed\n",
            "[*********************100%%**********************]  1 of 1 completed\n",
            "[*********************100%%**********************]  1 of 1 completed\n",
            "[*********************100%%**********************]  1 of 1 completed\n",
            "[*********************100%%**********************]  1 of 1 completed\n",
            "[*********************100%%**********************]  1 of 1 completed\n",
            "[*********************100%%**********************]  1 of 1 completed\n",
            "[*********************100%%**********************]  1 of 1 completed\n",
            "[*********************100%%**********************]  1 of 1 completed\n",
            "[*********************100%%**********************]  1 of 1 completed\n",
            "[*********************100%%**********************]  1 of 1 completed\n",
            "[*********************100%%**********************]  1 of 1 completed\n",
            "[*********************100%%**********************]  1 of 1 completed\n",
            "[*********************100%%**********************]  1 of 1 completed\n",
            "[*********************100%%**********************]  1 of 1 completed\n",
            "[*********************100%%**********************]  1 of 1 completed\n",
            "[*********************100%%**********************]  1 of 1 completed\n",
            "[*********************100%%**********************]  1 of 1 completed\n",
            "[*********************100%%**********************]  1 of 1 completed\n",
            "[*********************100%%**********************]  1 of 1 completed\n",
            "[*********************100%%**********************]  1 of 1 completed\n",
            "[*********************100%%**********************]  1 of 1 completed\n",
            "[*********************100%%**********************]  1 of 1 completed\n",
            "[*********************100%%**********************]  1 of 1 completed\n",
            "[*********************100%%**********************]  1 of 1 completed\n",
            "[*********************100%%**********************]  1 of 1 completed\n",
            "[*********************100%%**********************]  1 of 1 completed\n"
          ]
        },
        {
          "output_type": "stream",
          "name": "stdout",
          "text": [
            "No data available for IPG.AX on 2021-06-30 00:00:00\n"
          ]
        },
        {
          "output_type": "stream",
          "name": "stderr",
          "text": [
            "[*********************100%%**********************]  1 of 1 completed\n",
            "[*********************100%%**********************]  1 of 1 completed\n",
            "[*********************100%%**********************]  1 of 1 completed\n",
            "[*********************100%%**********************]  1 of 1 completed\n",
            "[*********************100%%**********************]  1 of 1 completed\n",
            "[*********************100%%**********************]  1 of 1 completed\n",
            "[*********************100%%**********************]  1 of 1 completed\n",
            "[*********************100%%**********************]  1 of 1 completed\n",
            "[*********************100%%**********************]  1 of 1 completed\n",
            "[*********************100%%**********************]  1 of 1 completed\n",
            "[*********************100%%**********************]  1 of 1 completed\n"
          ]
        },
        {
          "output_type": "stream",
          "name": "stdout",
          "text": [
            "No data available for IRE.AX on 2023-01-02 00:00:00\n"
          ]
        },
        {
          "output_type": "stream",
          "name": "stderr",
          "text": [
            "[*********************100%%**********************]  1 of 1 completed\n",
            "[*********************100%%**********************]  1 of 1 completed\n",
            "[*********************100%%**********************]  1 of 1 completed\n",
            "[*********************100%%**********************]  1 of 1 completed\n",
            "[*********************100%%**********************]  1 of 1 completed\n",
            "[*********************100%%**********************]  1 of 1 completed\n",
            "[*********************100%%**********************]  1 of 1 completed\n",
            "[*********************100%%**********************]  1 of 1 completed\n",
            "[*********************100%%**********************]  1 of 1 completed\n",
            "[*********************100%%**********************]  1 of 1 completed"
          ]
        },
        {
          "output_type": "stream",
          "name": "stdout",
          "text": [
            "No data available for JHX.AX on 2024-04-01 00:00:00\n"
          ]
        },
        {
          "output_type": "stream",
          "name": "stderr",
          "text": [
            "\n",
            "[*********************100%%**********************]  1 of 1 completed\n",
            "[*********************100%%**********************]  1 of 1 completed\n",
            "[*********************100%%**********************]  1 of 1 completed\n",
            "[*********************100%%**********************]  1 of 1 completed\n",
            "[*********************100%%**********************]  1 of 1 completed\n",
            "[*********************100%%**********************]  1 of 1 completed\n",
            "[*********************100%%**********************]  1 of 1 completed\n",
            "[*********************100%%**********************]  1 of 1 completed\n",
            "[*********************100%%**********************]  1 of 1 completed\n",
            "[*********************100%%**********************]  1 of 1 completed\n"
          ]
        },
        {
          "output_type": "stream",
          "name": "stdout",
          "text": [
            "No data available for JDO.AX on 2021-06-30 00:00:00\n"
          ]
        },
        {
          "output_type": "stream",
          "name": "stderr",
          "text": [
            "[*********************100%%**********************]  1 of 1 completed\n",
            "[*********************100%%**********************]  1 of 1 completed\n",
            "[*********************100%%**********************]  1 of 1 completed\n",
            "[*********************100%%**********************]  1 of 1 completed\n",
            "[*********************100%%**********************]  1 of 1 completed\n",
            "[*********************100%%**********************]  1 of 1 completed\n",
            "[*********************100%%**********************]  1 of 1 completed\n",
            "[*********************100%%**********************]  1 of 1 completed\n",
            "[*********************100%%**********************]  1 of 1 completed\n",
            "[*********************100%%**********************]  1 of 1 completed\n",
            "[*********************100%%**********************]  1 of 1 completed\n",
            "[*********************100%%**********************]  1 of 1 completed\n",
            "[*********************100%%**********************]  1 of 1 completed\n",
            "[*********************100%%**********************]  1 of 1 completed\n",
            "[*********************100%%**********************]  1 of 1 completed\n",
            "[*********************100%%**********************]  1 of 1 completed\n",
            "[*********************100%%**********************]  1 of 1 completed\n",
            "[*********************100%%**********************]  1 of 1 completed\n",
            "[*********************100%%**********************]  1 of 1 completed\n",
            "[*********************100%%**********************]  1 of 1 completed\n",
            "[*********************100%%**********************]  1 of 1 completed\n",
            "[*********************100%%**********************]  1 of 1 completed\n",
            "[*********************100%%**********************]  1 of 1 completed\n",
            "[*********************100%%**********************]  1 of 1 completed\n",
            "[*********************100%%**********************]  1 of 1 completed\n",
            "[*********************100%%**********************]  1 of 1 completed\n",
            "[*********************100%%**********************]  1 of 1 completed\n",
            "[*********************100%%**********************]  1 of 1 completed\n",
            "[*********************100%%**********************]  1 of 1 completed\n"
          ]
        },
        {
          "output_type": "stream",
          "name": "stdout",
          "text": [
            "No data available for KSL.AX on 2019-12-31 00:00:00\n",
            "No data available for KSL.AX on 2023-01-02 00:00:00\n"
          ]
        },
        {
          "output_type": "stream",
          "name": "stderr",
          "text": [
            "[*********************100%%**********************]  1 of 1 completed\n",
            "[*********************100%%**********************]  1 of 1 completed\n",
            "[*********************100%%**********************]  1 of 1 completed\n",
            "[*********************100%%**********************]  1 of 1 completed\n",
            "[*********************100%%**********************]  1 of 1 completed\n",
            "[*********************100%%**********************]  1 of 1 completed\n",
            "[*********************100%%**********************]  1 of 1 completed\n",
            "[*********************100%%**********************]  1 of 1 completed\n",
            "[*********************100%%**********************]  1 of 1 completed\n",
            "[*********************100%%**********************]  1 of 1 completed\n",
            "[*********************100%%**********************]  1 of 1 completed\n",
            "[*********************100%%**********************]  1 of 1 completed\n",
            "[*********************100%%**********************]  1 of 1 completed\n",
            "[*********************100%%**********************]  1 of 1 completed\n",
            "[*********************100%%**********************]  1 of 1 completed\n",
            "[*********************100%%**********************]  1 of 1 completed\n"
          ]
        },
        {
          "output_type": "stream",
          "name": "stdout",
          "text": [
            "No data available for LSF.AX on 2022-06-30 00:00:00\n",
            "No data available for LSF.AX on 2021-06-30 00:00:00\n",
            "No data available for LSF.AX on 2020-06-30 00:00:00\n"
          ]
        },
        {
          "output_type": "stream",
          "name": "stderr",
          "text": [
            "[*********************100%%**********************]  1 of 1 completed\n",
            "[*********************100%%**********************]  1 of 1 completed\n",
            "[*********************100%%**********************]  1 of 1 completed\n",
            "[*********************100%%**********************]  1 of 1 completed\n"
          ]
        },
        {
          "output_type": "stream",
          "name": "stdout",
          "text": [
            "No data available for LRS.AX on 2023-01-02 00:00:00\n",
            "No data available for LFS.AX on 2020-12-31 00:00:00\n"
          ]
        },
        {
          "output_type": "stream",
          "name": "stderr",
          "text": [
            "[*********************100%%**********************]  1 of 1 completed\n",
            "[*********************100%%**********************]  1 of 1 completed\n",
            "[*********************100%%**********************]  1 of 1 completed\n"
          ]
        },
        {
          "output_type": "stream",
          "name": "stdout",
          "text": [
            "No data available for LFS.AX on 2023-01-02 00:00:00\n"
          ]
        },
        {
          "output_type": "stream",
          "name": "stderr",
          "text": [
            "[*********************100%%**********************]  1 of 1 completed\n",
            "[*********************100%%**********************]  1 of 1 completed\n",
            "[*********************100%%**********************]  1 of 1 completed\n",
            "[*********************100%%**********************]  1 of 1 completed\n",
            "[*********************100%%**********************]  1 of 1 completed\n",
            "[*********************100%%**********************]  1 of 1 completed\n",
            "[*********************100%%**********************]  1 of 1 completed\n",
            "[*********************100%%**********************]  1 of 1 completed\n"
          ]
        },
        {
          "output_type": "stream",
          "name": "stdout",
          "text": [
            "No data available for LLL.AX on 2021-12-31 00:00:00\n",
            "No data available for LLL.AX on 2023-01-02 00:00:00\n",
            "No data available for LGI.AX on 2022-06-30 00:00:00\n"
          ]
        },
        {
          "output_type": "stream",
          "name": "stderr",
          "text": [
            "[*********************100%%**********************]  1 of 1 completed\n",
            "[*********************100%%**********************]  1 of 1 completed\n",
            "[*********************100%%**********************]  1 of 1 completed\n",
            "[*********************100%%**********************]  1 of 1 completed\n",
            "[*********************100%%**********************]  1 of 1 completed\n"
          ]
        },
        {
          "output_type": "stream",
          "name": "stdout",
          "text": [
            "No data available for LFG.AX on 2020-06-30 00:00:00\n"
          ]
        },
        {
          "output_type": "stream",
          "name": "stderr",
          "text": [
            "[*********************100%%**********************]  1 of 1 completed\n",
            "[*********************100%%**********************]  1 of 1 completed\n",
            "[*********************100%%**********************]  1 of 1 completed\n",
            "[*********************100%%**********************]  1 of 1 completed\n"
          ]
        },
        {
          "output_type": "stream",
          "name": "stdout",
          "text": [
            "No data available for 360.AX on 2023-01-02 00:00:00\n"
          ]
        },
        {
          "output_type": "stream",
          "name": "stderr",
          "text": [
            "[*********************100%%**********************]  1 of 1 completed\n",
            "[*********************100%%**********************]  1 of 1 completed\n",
            "[*********************100%%**********************]  1 of 1 completed\n",
            "[*********************100%%**********************]  1 of 1 completed\n",
            "[*********************100%%**********************]  1 of 1 completed\n",
            "[*********************100%%**********************]  1 of 1 completed\n",
            "[*********************100%%**********************]  1 of 1 completed\n",
            "[*********************100%%**********************]  1 of 1 completed\n"
          ]
        },
        {
          "output_type": "stream",
          "name": "stdout",
          "text": [
            "No data available for LNW.AX on 2023-01-02 00:00:00\n",
            "No data available for LNW.AX on 2021-12-31 00:00:00\n",
            "No data available for LNW.AX on 2020-12-31 00:00:00\n"
          ]
        },
        {
          "output_type": "stream",
          "name": "stderr",
          "text": [
            "[*********************100%%**********************]  1 of 1 completed\n",
            "[*********************100%%**********************]  1 of 1 completed\n",
            "[*********************100%%**********************]  1 of 1 completed\n",
            "[*********************100%%**********************]  1 of 1 completed\n",
            "[*********************100%%**********************]  1 of 1 completed\n",
            "[*********************100%%**********************]  1 of 1 completed\n",
            "[*********************100%%**********************]  1 of 1 completed\n",
            "[*********************100%%**********************]  1 of 1 completed\n",
            "[*********************100%%**********************]  1 of 1 completed\n",
            "[*********************100%%**********************]  1 of 1 completed\n",
            "[*********************100%%**********************]  1 of 1 completed\n",
            "[*********************100%%**********************]  1 of 1 completed\n",
            "[*********************100%%**********************]  1 of 1 completed\n",
            "[*********************100%%**********************]  1 of 1 completed\n",
            "[*********************100%%**********************]  1 of 1 completed\n",
            "[*********************100%%**********************]  1 of 1 completed\n",
            "[*********************100%%**********************]  1 of 1 completed\n",
            "[*********************100%%**********************]  1 of 1 completed\n",
            "[*********************100%%**********************]  1 of 1 completed\n",
            "[*********************100%%**********************]  1 of 1 completed\n",
            "[*********************100%%**********************]  1 of 1 completed\n",
            "[*********************100%%**********************]  1 of 1 completed\n",
            "[*********************100%%**********************]  1 of 1 completed\n",
            "[*********************100%%**********************]  1 of 1 completed\n",
            "[*********************100%%**********************]  1 of 1 completed\n",
            "[*********************100%%**********************]  1 of 1 completed\n",
            "[*********************100%%**********************]  1 of 1 completed\n",
            "[*********************100%%**********************]  1 of 1 completed\n"
          ]
        },
        {
          "output_type": "stream",
          "name": "stdout",
          "text": [
            "No data available for MGH.AX on 2020-06-30 00:00:00\n"
          ]
        },
        {
          "output_type": "stream",
          "name": "stderr",
          "text": [
            "[*********************100%%**********************]  1 of 1 completed\n",
            "[*********************100%%**********************]  1 of 1 completed\n",
            "[*********************100%%**********************]  1 of 1 completed\n",
            "[*********************100%%**********************]  1 of 1 completed\n",
            "[*********************100%%**********************]  1 of 1 completed\n",
            "[*********************100%%**********************]  1 of 1 completed\n",
            "[*********************100%%**********************]  1 of 1 completed\n",
            "[*********************100%%**********************]  1 of 1 completed\n"
          ]
        },
        {
          "output_type": "stream",
          "name": "stdout",
          "text": [
            "No data available for MQG.AX on 2024-04-01 00:00:00\n"
          ]
        },
        {
          "output_type": "stream",
          "name": "stderr",
          "text": [
            "[*********************100%%**********************]  1 of 1 completed\n",
            "[*********************100%%**********************]  1 of 1 completed\n",
            "[*********************100%%**********************]  1 of 1 completed\n",
            "[*********************100%%**********************]  1 of 1 completed\n",
            "[*********************100%%**********************]  1 of 1 completed\n",
            "[*********************100%%**********************]  1 of 1 completed\n",
            "[*********************100%%**********************]  1 of 1 completed\n",
            "[*********************100%%**********************]  1 of 1 completed\n",
            "[*********************100%%**********************]  1 of 1 completed\n",
            "[*********************100%%**********************]  1 of 1 completed\n",
            "[*********************100%%**********************]  1 of 1 completed\n",
            "[*********************100%%**********************]  1 of 1 completed\n",
            "[*********************100%%**********************]  1 of 1 completed\n"
          ]
        },
        {
          "output_type": "stream",
          "name": "stdout",
          "text": [
            "No data available for MAF.AX on 2019-12-31 00:00:00\n",
            "No data available for MAF.AX on 2023-01-02 00:00:00\n"
          ]
        },
        {
          "output_type": "stream",
          "name": "stderr",
          "text": [
            "[*********************100%%**********************]  1 of 1 completed\n",
            "[*********************100%%**********************]  1 of 1 completed\n",
            "[*********************100%%**********************]  1 of 1 completed\n",
            "[*********************100%%**********************]  1 of 1 completed\n",
            "[*********************100%%**********************]  1 of 1 completed\n",
            "[*********************100%%**********************]  1 of 1 completed\n",
            "[*********************100%%**********************]  1 of 1 completed\n",
            "[*********************100%%**********************]  1 of 1 completed\n",
            "[*********************100%%**********************]  1 of 1 completed\n",
            "[*********************100%%**********************]  1 of 1 completed\n",
            "[*********************100%%**********************]  1 of 1 completed\n",
            "[*********************100%%**********************]  1 of 1 completed\n",
            "[*********************100%%**********************]  1 of 1 completed\n",
            "[*********************100%%**********************]  1 of 1 completed\n",
            "[*********************100%%**********************]  1 of 1 completed\n",
            "[*********************100%%**********************]  1 of 1 completed\n",
            "[*********************100%%**********************]  1 of 1 completed\n",
            "[*********************100%%**********************]  1 of 1 completed\n",
            "[*********************100%%**********************]  1 of 1 completed\n",
            "[*********************100%%**********************]  1 of 1 completed\n",
            "[*********************100%%**********************]  1 of 1 completed\n",
            "[*********************100%%**********************]  1 of 1 completed\n",
            "[*********************100%%**********************]  1 of 1 completed\n",
            "[*********************100%%**********************]  1 of 1 completed\n",
            "[*********************100%%**********************]  1 of 1 completed\n",
            "[*********************100%%**********************]  1 of 1 completed\n",
            "[*********************100%%**********************]  1 of 1 completed\n",
            "[*********************100%%**********************]  1 of 1 completed\n",
            "[*********************100%%**********************]  1 of 1 completed\n",
            "[*********************100%%**********************]  1 of 1 completed\n",
            "[*********************100%%**********************]  1 of 1 completed\n",
            "[*********************100%%**********************]  1 of 1 completed\n",
            "[*********************100%%**********************]  1 of 1 completed\n",
            "[*********************100%%**********************]  1 of 1 completed\n",
            "[*********************100%%**********************]  1 of 1 completed\n",
            "[*********************100%%**********************]  1 of 1 completed\n",
            "[*********************100%%**********************]  1 of 1 completed\n",
            "[*********************100%%**********************]  1 of 1 completed\n",
            "[*********************100%%**********************]  1 of 1 completed\n",
            "[*********************100%%**********************]  1 of 1 completed\n",
            "[*********************100%%**********************]  1 of 1 completed\n",
            "[*********************100%%**********************]  1 of 1 completed\n",
            "[*********************100%%**********************]  1 of 1 completed\n",
            "[*********************100%%**********************]  1 of 1 completed\n",
            "[*********************100%%**********************]  1 of 1 completed\n",
            "[*********************100%%**********************]  1 of 1 completed\n",
            "[*********************100%%**********************]  1 of 1 completed\n",
            "[*********************100%%**********************]  1 of 1 completed\n"
          ]
        },
        {
          "output_type": "stream",
          "name": "stdout",
          "text": [
            "No data available for MAC.AX on 2021-12-31 00:00:00\n",
            "No data available for MAC.AX on 2023-01-02 00:00:00\n",
            "No data available for MAC.AX on 2024-01-02 00:00:00\n"
          ]
        },
        {
          "output_type": "stream",
          "name": "stderr",
          "text": [
            "[*********************100%%**********************]  1 of 1 completed\n",
            "[*********************100%%**********************]  1 of 1 completed\n",
            "[*********************100%%**********************]  1 of 1 completed\n",
            "[*********************100%%**********************]  1 of 1 completed\n",
            "[*********************100%%**********************]  1 of 1 completed\n",
            "[*********************100%%**********************]  1 of 1 completed\n",
            "[*********************100%%**********************]  1 of 1 completed\n",
            "[*********************100%%**********************]  1 of 1 completed\n",
            "[*********************100%%**********************]  1 of 1 completed\n",
            "[*********************100%%**********************]  1 of 1 completed\n",
            "[*********************100%%**********************]  1 of 1 completed\n",
            "[*********************100%%**********************]  1 of 1 completed\n",
            "[*********************100%%**********************]  1 of 1 completed\n",
            "[*********************100%%**********************]  1 of 1 completed\n",
            "[*********************100%%**********************]  1 of 1 completed\n",
            "[*********************100%%**********************]  1 of 1 completed\n",
            "[*********************100%%**********************]  1 of 1 completed\n",
            "[*********************100%%**********************]  1 of 1 completed\n",
            "[*********************100%%**********************]  1 of 1 completed\n",
            "[*********************100%%**********************]  1 of 1 completed\n",
            "[*********************100%%**********************]  1 of 1 completed\n",
            "[*********************100%%**********************]  1 of 1 completed\n",
            "[*********************100%%**********************]  1 of 1 completed\n"
          ]
        },
        {
          "output_type": "stream",
          "name": "stdout",
          "text": [
            "No data available for MMI.AX on 2023-01-02 00:00:00\n"
          ]
        },
        {
          "output_type": "stream",
          "name": "stderr",
          "text": [
            "[*********************100%%**********************]  1 of 1 completed\n",
            "[*********************100%%**********************]  1 of 1 completed\n",
            "[*********************100%%**********************]  1 of 1 completed\n",
            "[*********************100%%**********************]  1 of 1 completed\n",
            "[*********************100%%**********************]  1 of 1 completed\n",
            "[*********************100%%**********************]  1 of 1 completed\n",
            "[*********************100%%**********************]  1 of 1 completed\n",
            "[*********************100%%**********************]  1 of 1 completed\n",
            "[*********************100%%**********************]  1 of 1 completed\n",
            "[*********************100%%**********************]  1 of 1 completed\n",
            "[*********************100%%**********************]  1 of 1 completed\n",
            "[*********************100%%**********************]  1 of 1 completed\n",
            "[*********************100%%**********************]  1 of 1 completed\n",
            "[*********************100%%**********************]  1 of 1 completed\n",
            "[*********************100%%**********************]  1 of 1 completed\n",
            "[*********************100%%**********************]  1 of 1 completed\n",
            "[*********************100%%**********************]  1 of 1 completed\n",
            "[*********************100%%**********************]  1 of 1 completed\n",
            "[*********************100%%**********************]  1 of 1 completed\n",
            "[*********************100%%**********************]  1 of 1 completed\n",
            "[*********************100%%**********************]  1 of 1 completed\n",
            "[*********************100%%**********************]  1 of 1 completed\n",
            "[*********************100%%**********************]  1 of 1 completed\n",
            "[*********************100%%**********************]  1 of 1 completed\n",
            "[*********************100%%**********************]  1 of 1 completed\n",
            "[*********************100%%**********************]  1 of 1 completed\n",
            "[*********************100%%**********************]  1 of 1 completed\n",
            "[*********************100%%**********************]  1 of 1 completed\n",
            "[*********************100%%**********************]  1 of 1 completed\n",
            "[*********************100%%**********************]  1 of 1 completed\n",
            "[*********************100%%**********************]  1 of 1 completed\n",
            "[*********************100%%**********************]  1 of 1 completed\n",
            "[*********************100%%**********************]  1 of 1 completed\n",
            "[*********************100%%**********************]  1 of 1 completed\n",
            "[*********************100%%**********************]  1 of 1 completed\n",
            "[*********************100%%**********************]  1 of 1 completed\n",
            "[*********************100%%**********************]  1 of 1 completed\n",
            "[*********************100%%**********************]  1 of 1 completed\n",
            "[*********************100%%**********************]  1 of 1 completed\n",
            "[*********************100%%**********************]  1 of 1 completed\n",
            "[*********************100%%**********************]  1 of 1 completed\n",
            "[*********************100%%**********************]  1 of 1 completed\n",
            "[*********************100%%**********************]  1 of 1 completed\n",
            "[*********************100%%**********************]  1 of 1 completed\n",
            "[*********************100%%**********************]  1 of 1 completed\n",
            "[*********************100%%**********************]  1 of 1 completed\n",
            "[*********************100%%**********************]  1 of 1 completed\n",
            "[*********************100%%**********************]  1 of 1 completed\n",
            "[*********************100%%**********************]  1 of 1 completed\n"
          ]
        },
        {
          "output_type": "stream",
          "name": "stdout",
          "text": [
            "No data available for NAB.AX on 2019-09-30 00:00:00\n"
          ]
        },
        {
          "output_type": "stream",
          "name": "stderr",
          "text": [
            "[*********************100%%**********************]  1 of 1 completed\n",
            "[*********************100%%**********************]  1 of 1 completed\n",
            "[*********************100%%**********************]  1 of 1 completed\n",
            "[*********************100%%**********************]  1 of 1 completed\n",
            "[*********************100%%**********************]  1 of 1 completed\n",
            "[*********************100%%**********************]  1 of 1 completed\n",
            "[*********************100%%**********************]  1 of 1 completed\n",
            "[*********************100%%**********************]  1 of 1 completed\n",
            "[*********************100%%**********************]  1 of 1 completed\n",
            "[*********************100%%**********************]  1 of 1 completed\n",
            "[*********************100%%**********************]  1 of 1 completed\n",
            "[*********************100%%**********************]  1 of 1 completed\n",
            "[*********************100%%**********************]  1 of 1 completed\n",
            "[*********************100%%**********************]  1 of 1 completed\n",
            "[*********************100%%**********************]  1 of 1 completed\n",
            "[*********************100%%**********************]  1 of 1 completed\n"
          ]
        },
        {
          "output_type": "stream",
          "name": "stdout",
          "text": [
            "No data available for NEU.AX on 2023-01-02 00:00:00\n"
          ]
        },
        {
          "output_type": "stream",
          "name": "stderr",
          "text": [
            "[*********************100%%**********************]  1 of 1 completed\n",
            "[*********************100%%**********************]  1 of 1 completed\n",
            "[*********************100%%**********************]  1 of 1 completed\n",
            "[*********************100%%**********************]  1 of 1 completed\n",
            "[*********************100%%**********************]  1 of 1 completed\n",
            "[*********************100%%**********************]  1 of 1 completed\n",
            "[*********************100%%**********************]  1 of 1 completed\n",
            "[*********************100%%**********************]  1 of 1 completed\n"
          ]
        },
        {
          "output_type": "stream",
          "name": "stdout",
          "text": [
            "No data available for NEM.AX on 2023-01-02 00:00:00\n",
            "No data available for NEM.AX on 2021-12-31 00:00:00\n",
            "No data available for NEM.AX on 2020-12-31 00:00:00\n"
          ]
        },
        {
          "output_type": "stream",
          "name": "stderr",
          "text": [
            "[*********************100%%**********************]  1 of 1 completed\n",
            "[*********************100%%**********************]  1 of 1 completed\n",
            "[*********************100%%**********************]  1 of 1 completed\n",
            "[*********************100%%**********************]  1 of 1 completed\n",
            "[*********************100%%**********************]  1 of 1 completed\n",
            "[*********************100%%**********************]  1 of 1 completed\n",
            "[*********************100%%**********************]  1 of 1 completed\n",
            "[*********************100%%**********************]  1 of 1 completed\n",
            "[*********************100%%**********************]  1 of 1 completed\n"
          ]
        },
        {
          "output_type": "stream",
          "name": "stdout",
          "text": [
            "No data available for NXG.AX on 2023-01-02 00:00:00\n",
            "No data available for NXG.AX on 2020-12-31 00:00:00\n"
          ]
        },
        {
          "output_type": "stream",
          "name": "stderr",
          "text": [
            "[*********************100%%**********************]  1 of 1 completed\n",
            "[*********************100%%**********************]  1 of 1 completed\n",
            "[*********************100%%**********************]  1 of 1 completed\n",
            "[*********************100%%**********************]  1 of 1 completed\n",
            "[*********************100%%**********************]  1 of 1 completed\n",
            "[*********************100%%**********************]  1 of 1 completed\n",
            "[*********************100%%**********************]  1 of 1 completed\n",
            "[*********************100%%**********************]  1 of 1 completed\n",
            "[*********************100%%**********************]  1 of 1 completed\n",
            "[*********************100%%**********************]  1 of 1 completed\n",
            "[*********************100%%**********************]  1 of 1 completed\n"
          ]
        },
        {
          "output_type": "stream",
          "name": "stdout",
          "text": [
            "No data available for NIC.AX on 2023-01-02 00:00:00\n"
          ]
        },
        {
          "output_type": "stream",
          "name": "stderr",
          "text": [
            "[*********************100%%**********************]  1 of 1 completed\n",
            "[*********************100%%**********************]  1 of 1 completed\n",
            "[*********************100%%**********************]  1 of 1 completed\n",
            "[*********************100%%**********************]  1 of 1 completed\n",
            "[*********************100%%**********************]  1 of 1 completed\n",
            "[*********************100%%**********************]  1 of 1 completed\n",
            "[*********************100%%**********************]  1 of 1 completed\n",
            "[*********************100%%**********************]  1 of 1 completed\n",
            "[*********************100%%**********************]  1 of 1 completed\n",
            "[*********************100%%**********************]  1 of 1 completed\n",
            "[*********************100%%**********************]  1 of 1 completed\n",
            "[*********************100%%**********************]  1 of 1 completed\n",
            "[*********************100%%**********************]  1 of 1 completed\n",
            "[*********************100%%**********************]  1 of 1 completed\n",
            "[*********************100%%**********************]  1 of 1 completed\n",
            "[*********************100%%**********************]  1 of 1 completed\n",
            "[*********************100%%**********************]  1 of 1 completed\n",
            "[*********************100%%**********************]  1 of 1 completed\n",
            "[*********************100%%**********************]  1 of 1 completed\n",
            "[*********************100%%**********************]  1 of 1 completed\n",
            "[*********************100%%**********************]  1 of 1 completed\n"
          ]
        },
        {
          "output_type": "stream",
          "name": "stdout",
          "text": [
            "No data available for NVX.AX on 2023-01-02 00:00:00\n"
          ]
        },
        {
          "output_type": "stream",
          "name": "stderr",
          "text": [
            "[*********************100%%**********************]  1 of 1 completed\n",
            "[*********************100%%**********************]  1 of 1 completed\n",
            "[*********************100%%**********************]  1 of 1 completed\n",
            "[*********************100%%**********************]  1 of 1 completed\n",
            "[*********************100%%**********************]  1 of 1 completed\n",
            "[*********************100%%**********************]  1 of 1 completed\n",
            "[*********************100%%**********************]  1 of 1 completed\n",
            "[*********************100%%**********************]  1 of 1 completed\n",
            "[*********************100%%**********************]  1 of 1 completed\n"
          ]
        },
        {
          "output_type": "stream",
          "name": "stdout",
          "text": [
            "No data available for NUF.AX on 2019-07-31 00:00:00\n"
          ]
        },
        {
          "output_type": "stream",
          "name": "stderr",
          "text": [
            "[*********************100%%**********************]  1 of 1 completed\n",
            "[*********************100%%**********************]  1 of 1 completed\n",
            "[*********************100%%**********************]  1 of 1 completed\n",
            "[*********************100%%**********************]  1 of 1 completed\n"
          ]
        },
        {
          "output_type": "stream",
          "name": "stdout",
          "text": [
            "No data available for NXL.AX on 2020-06-30 00:00:00\n"
          ]
        },
        {
          "output_type": "stream",
          "name": "stderr",
          "text": [
            "[*********************100%%**********************]  1 of 1 completed\n",
            "[*********************100%%**********************]  1 of 1 completed\n",
            "[*********************100%%**********************]  1 of 1 completed\n",
            "[*********************100%%**********************]  1 of 1 completed\n",
            "[*********************100%%**********************]  1 of 1 completed\n",
            "[*********************100%%**********************]  1 of 1 completed\n",
            "[*********************100%%**********************]  1 of 1 completed\n",
            "[*********************100%%**********************]  1 of 1 completed\n"
          ]
        },
        {
          "output_type": "stream",
          "name": "stdout",
          "text": [
            "No data available for OCA.AX on 2024-04-01 00:00:00\n"
          ]
        },
        {
          "output_type": "stream",
          "name": "stderr",
          "text": [
            "[*********************100%%**********************]  1 of 1 completed\n",
            "[*********************100%%**********************]  1 of 1 completed\n",
            "[*********************100%%**********************]  1 of 1 completed\n",
            "[*********************100%%**********************]  1 of 1 completed\n"
          ]
        },
        {
          "output_type": "stream",
          "name": "stdout",
          "text": [
            "No data available for OFX.AX on 2024-04-01 00:00:00\n"
          ]
        },
        {
          "output_type": "stream",
          "name": "stderr",
          "text": [
            "[*********************100%%**********************]  1 of 1 completed\n",
            "[*********************100%%**********************]  1 of 1 completed\n",
            "[*********************100%%**********************]  1 of 1 completed\n",
            "[*********************100%%**********************]  1 of 1 completed\n",
            "[*********************100%%**********************]  1 of 1 completed\n"
          ]
        },
        {
          "output_type": "stream",
          "name": "stdout",
          "text": [
            "No data available for OMH.AX on 2019-12-31 00:00:00\n",
            "No data available for OMH.AX on 2023-01-02 00:00:00\n"
          ]
        },
        {
          "output_type": "stream",
          "name": "stderr",
          "text": [
            "[*********************100%%**********************]  1 of 1 completed\n",
            "[*********************100%%**********************]  1 of 1 completed\n",
            "[*********************100%%**********************]  1 of 1 completed\n",
            "[*********************100%%**********************]  1 of 1 completed\n",
            "[*********************100%%**********************]  1 of 1 completed\n",
            "[*********************100%%**********************]  1 of 1 completed\n",
            "[*********************100%%**********************]  1 of 1 completed\n",
            "[*********************100%%**********************]  1 of 1 completed\n"
          ]
        },
        {
          "output_type": "stream",
          "name": "stdout",
          "text": [
            "No data available for OML.AX on 2023-01-02 00:00:00\n"
          ]
        },
        {
          "output_type": "stream",
          "name": "stderr",
          "text": [
            "[*********************100%%**********************]  1 of 1 completed\n",
            "[*********************100%%**********************]  1 of 1 completed\n",
            "[*********************100%%**********************]  1 of 1 completed\n",
            "[*********************100%%**********************]  1 of 1 completed\n",
            "[*********************100%%**********************]  1 of 1 completed\n",
            "[*********************100%%**********************]  1 of 1 completed\n",
            "[*********************100%%**********************]  1 of 1 completed\n",
            "[*********************100%%**********************]  1 of 1 completed\n",
            "[*********************100%%**********************]  1 of 1 completed\n",
            "[*********************100%%**********************]  1 of 1 completed\n",
            "[*********************100%%**********************]  1 of 1 completed\n",
            "[*********************100%%**********************]  1 of 1 completed\n",
            "[*********************100%%**********************]  1 of 1 completed\n",
            "[*********************100%%**********************]  1 of 1 completed\n",
            "[*********************100%%**********************]  1 of 1 completed\n",
            "[*********************100%%**********************]  1 of 1 completed\n",
            "[*********************100%%**********************]  1 of 1 completed\n",
            "[*********************100%%**********************]  1 of 1 completed\n",
            "[*********************100%%**********************]  1 of 1 completed\n",
            "[*********************100%%**********************]  1 of 1 completed\n",
            "[*********************100%%**********************]  1 of 1 completed\n",
            "[*********************100%%**********************]  1 of 1 completed\n",
            "[*********************100%%**********************]  1 of 1 completed\n",
            "[*********************100%%**********************]  1 of 1 completed\n",
            "[*********************100%%**********************]  1 of 1 completed\n",
            "[*********************100%%**********************]  1 of 1 completed\n",
            "[*********************100%%**********************]  1 of 1 completed\n",
            "[*********************100%%**********************]  1 of 1 completed\n",
            "[*********************100%%**********************]  1 of 1 completed\n",
            "[*********************100%%**********************]  1 of 1 completed\n",
            "[*********************100%%**********************]  1 of 1 completed\n",
            "[*********************100%%**********************]  1 of 1 completed\n",
            "[*********************100%%**********************]  1 of 1 completed\n",
            "[*********************100%%**********************]  1 of 1 completed\n",
            "[*********************100%%**********************]  1 of 1 completed\n",
            "[*********************100%%**********************]  1 of 1 completed\n",
            "[*********************100%%**********************]  1 of 1 completed\n",
            "[*********************100%%**********************]  1 of 1 completed\n",
            "[*********************100%%**********************]  1 of 1 completed\n",
            "[*********************100%%**********************]  1 of 1 completed\n",
            "[*********************100%%**********************]  1 of 1 completed\n",
            "[*********************100%%**********************]  1 of 1 completed\n",
            "[*********************100%%**********************]  1 of 1 completed\n",
            "[*********************100%%**********************]  1 of 1 completed\n",
            "[*********************100%%**********************]  1 of 1 completed\n",
            "[*********************100%%**********************]  1 of 1 completed\n",
            "[*********************100%%**********************]  1 of 1 completed\n",
            "[*********************100%%**********************]  1 of 1 completed\n",
            "[*********************100%%**********************]  1 of 1 completed\n",
            "[*********************100%%**********************]  1 of 1 completed\n",
            "[*********************100%%**********************]  1 of 1 completed\n",
            "[*********************100%%**********************]  1 of 1 completed\n",
            "[*********************100%%**********************]  1 of 1 completed\n"
          ]
        },
        {
          "output_type": "stream",
          "name": "stdout",
          "text": [
            "No data available for PMT.AX on 2020-03-31 00:00:00\n",
            "No data available for PMT.AX on 2021-03-31 00:00:00\n",
            "No data available for PMT.AX on 2022-03-31 00:00:00\n",
            "No data available for PMT.AX on 2024-04-01 00:00:00\n"
          ]
        },
        {
          "output_type": "stream",
          "name": "stderr",
          "text": [
            "[*********************100%%**********************]  1 of 1 completed\n",
            "[*********************100%%**********************]  1 of 1 completed\n",
            "[*********************100%%**********************]  1 of 1 completed\n",
            "[*********************100%%**********************]  1 of 1 completed\n",
            "[*********************100%%**********************]  1 of 1 completed\n",
            "[*********************100%%**********************]  1 of 1 completed\n",
            "[*********************100%%**********************]  1 of 1 completed\n",
            "[*********************100%%**********************]  1 of 1 completed\n",
            "[*********************100%%**********************]  1 of 1 completed\n",
            "[*********************100%%**********************]  1 of 1 completed\n",
            "[*********************100%%**********************]  1 of 1 completed\n",
            "[*********************100%%**********************]  1 of 1 completed\n",
            "[*********************100%%**********************]  1 of 1 completed\n",
            "[*********************100%%**********************]  1 of 1 completed\n",
            "[*********************100%%**********************]  1 of 1 completed\n",
            "[*********************100%%**********************]  1 of 1 completed\n",
            "[*********************100%%**********************]  1 of 1 completed\n",
            "[*********************100%%**********************]  1 of 1 completed\n",
            "[*********************100%%**********************]  1 of 1 completed\n",
            "[*********************100%%**********************]  1 of 1 completed\n"
          ]
        },
        {
          "output_type": "stream",
          "name": "stdout",
          "text": [
            "No data available for PPM.AX on 2020-12-31 00:00:00\n",
            "No data available for PPM.AX on 2023-01-02 00:00:00\n"
          ]
        },
        {
          "output_type": "stream",
          "name": "stderr",
          "text": [
            "[*********************100%%**********************]  1 of 1 completed\n",
            "[*********************100%%**********************]  1 of 1 completed\n",
            "[*********************100%%**********************]  1 of 1 completed\n",
            "[*********************100%%**********************]  1 of 1 completed\n",
            "[*********************100%%**********************]  1 of 1 completed\n",
            "[*********************100%%**********************]  1 of 1 completed\n",
            "[*********************100%%**********************]  1 of 1 completed\n",
            "[*********************100%%**********************]  1 of 1 completed\n",
            "[*********************100%%**********************]  1 of 1 completed\n",
            "[*********************100%%**********************]  1 of 1 completed\n",
            "[*********************100%%**********************]  1 of 1 completed\n",
            "[*********************100%%**********************]  1 of 1 completed\n",
            "[*********************100%%**********************]  1 of 1 completed\n",
            "[*********************100%%**********************]  1 of 1 completed\n",
            "[*********************100%%**********************]  1 of 1 completed\n",
            "[*********************100%%**********************]  1 of 1 completed\n",
            "[*********************100%%**********************]  1 of 1 completed\n",
            "[*********************100%%**********************]  1 of 1 completed\n",
            "[*********************100%%**********************]  1 of 1 completed\n",
            "[*********************100%%**********************]  1 of 1 completed\n",
            "[*********************100%%**********************]  1 of 1 completed\n",
            "[*********************100%%**********************]  1 of 1 completed\n"
          ]
        },
        {
          "output_type": "stream",
          "name": "stdout",
          "text": [
            "No data available for PXA.AX on 2021-06-30 00:00:00\n"
          ]
        },
        {
          "output_type": "stream",
          "name": "stderr",
          "text": [
            "[*********************100%%**********************]  1 of 1 completed\n",
            "[*********************100%%**********************]  1 of 1 completed\n",
            "[*********************100%%**********************]  1 of 1 completed\n",
            "[*********************100%%**********************]  1 of 1 completed\n",
            "[*********************100%%**********************]  1 of 1 completed\n",
            "[*********************100%%**********************]  1 of 1 completed\n",
            "[*********************100%%**********************]  1 of 1 completed\n",
            "[*********************100%%**********************]  1 of 1 completed\n",
            "[*********************100%%**********************]  1 of 1 completed\n",
            "[*********************100%%**********************]  1 of 1 completed\n",
            "[*********************100%%**********************]  1 of 1 completed\n",
            "[*********************100%%**********************]  1 of 1 completed\n",
            "[*********************100%%**********************]  1 of 1 completed\n",
            "[*********************100%%**********************]  1 of 1 completed\n",
            "[*********************100%%**********************]  1 of 1 completed\n",
            "[*********************100%%**********************]  1 of 1 completed\n",
            "[*********************100%%**********************]  1 of 1 completed\n",
            "[*********************100%%**********************]  1 of 1 completed\n",
            "[*********************100%%**********************]  1 of 1 completed\n",
            "[*********************100%%**********************]  1 of 1 completed\n",
            "[*********************100%%**********************]  1 of 1 completed\n",
            "[*********************100%%**********************]  1 of 1 completed\n",
            "[*********************100%%**********************]  1 of 1 completed\n",
            "[*********************100%%**********************]  1 of 1 completed\n",
            "[*********************100%%**********************]  1 of 1 completed\n",
            "[*********************100%%**********************]  1 of 1 completed\n",
            "[*********************100%%**********************]  1 of 1 completed\n",
            "[*********************100%%**********************]  1 of 1 completed\n"
          ]
        },
        {
          "output_type": "stream",
          "name": "stdout",
          "text": [
            "No data available for PLY.AX on 2020-06-30 00:00:00\n"
          ]
        },
        {
          "output_type": "stream",
          "name": "stderr",
          "text": [
            "[*********************100%%**********************]  1 of 1 completed\n",
            "[*********************100%%**********************]  1 of 1 completed\n",
            "[*********************100%%**********************]  1 of 1 completed\n",
            "[*********************100%%**********************]  1 of 1 completed\n",
            "[*********************100%%**********************]  1 of 1 completed\n",
            "[*********************100%%**********************]  1 of 1 completed\n",
            "[*********************100%%**********************]  1 of 1 completed\n",
            "[*********************100%%**********************]  1 of 1 completed\n",
            "[*********************100%%**********************]  1 of 1 completed\n",
            "[*********************100%%**********************]  1 of 1 completed\n",
            "[*********************100%%**********************]  1 of 1 completed\n",
            "[*********************100%%**********************]  1 of 1 completed\n",
            "[*********************100%%**********************]  1 of 1 completed\n",
            "[*********************100%%**********************]  1 of 1 completed\n",
            "[*********************100%%**********************]  1 of 1 completed\n",
            "[*********************100%%**********************]  1 of 1 completed\n",
            "[*********************100%%**********************]  1 of 1 completed\n",
            "[*********************100%%**********************]  1 of 1 completed\n",
            "[*********************100%%**********************]  1 of 1 completed\n",
            "[*********************100%%**********************]  1 of 1 completed\n",
            "[*********************100%%**********************]  1 of 1 completed\n",
            "[*********************100%%**********************]  1 of 1 completed\n",
            "[*********************100%%**********************]  1 of 1 completed\n",
            "[*********************100%%**********************]  1 of 1 completed\n",
            "[*********************100%%**********************]  1 of 1 completed\n",
            "[*********************100%%**********************]  1 of 1 completed\n",
            "[*********************100%%**********************]  1 of 1 completed\n",
            "[*********************100%%**********************]  1 of 1 completed\n",
            "[*********************100%%**********************]  1 of 1 completed\n",
            "[*********************100%%**********************]  1 of 1 completed\n",
            "[*********************100%%**********************]  1 of 1 completed\n",
            "[*********************100%%**********************]  1 of 1 completed\n",
            "[*********************100%%**********************]  1 of 1 completed\n",
            "[*********************100%%**********************]  1 of 1 completed\n",
            "[*********************100%%**********************]  1 of 1 completed\n",
            "[*********************100%%**********************]  1 of 1 completed\n",
            "[*********************100%%**********************]  1 of 1 completed\n",
            "[*********************100%%**********************]  1 of 1 completed\n",
            "[*********************100%%**********************]  1 of 1 completed\n",
            "[*********************100%%**********************]  1 of 1 completed\n",
            "[*********************100%%**********************]  1 of 1 completed\n",
            "[*********************100%%**********************]  1 of 1 completed\n",
            "[*********************100%%**********************]  1 of 1 completed\n",
            "[*********************100%%**********************]  1 of 1 completed\n",
            "[*********************100%%**********************]  1 of 1 completed\n",
            "[*********************100%%**********************]  1 of 1 completed\n",
            "[*********************100%%**********************]  1 of 1 completed\n",
            "[*********************100%%**********************]  1 of 1 completed\n",
            "[*********************100%%**********************]  1 of 1 completed\n",
            "[*********************100%%**********************]  1 of 1 completed\n",
            "[*********************100%%**********************]  1 of 1 completed\n",
            "[*********************100%%**********************]  1 of 1 completed\n",
            "[*********************100%%**********************]  1 of 1 completed\n"
          ]
        },
        {
          "output_type": "stream",
          "name": "stdout",
          "text": [
            "No data available for QBE.AX on 2023-01-02 00:00:00\n"
          ]
        },
        {
          "output_type": "stream",
          "name": "stderr",
          "text": [
            "[*********************100%%**********************]  1 of 1 completed\n",
            "[*********************100%%**********************]  1 of 1 completed\n",
            "[*********************100%%**********************]  1 of 1 completed\n",
            "[*********************100%%**********************]  1 of 1 completed\n",
            "[*********************100%%**********************]  1 of 1 completed\n",
            "[*********************100%%**********************]  1 of 1 completed\n"
          ]
        },
        {
          "output_type": "stream",
          "name": "stdout",
          "text": [
            "No data available for QAL.AX on 2021-06-30 00:00:00\n"
          ]
        },
        {
          "output_type": "stream",
          "name": "stderr",
          "text": [
            "[*********************100%%**********************]  1 of 1 completed\n",
            "[*********************100%%**********************]  1 of 1 completed\n",
            "[*********************100%%**********************]  1 of 1 completed\n",
            "[*********************100%%**********************]  1 of 1 completed\n",
            "[*********************100%%**********************]  1 of 1 completed\n",
            "[*********************100%%**********************]  1 of 1 completed\n",
            "[*********************100%%**********************]  1 of 1 completed\n",
            "[*********************100%%**********************]  1 of 1 completed\n",
            "[*********************100%%**********************]  1 of 1 completed\n",
            "[*********************100%%**********************]  1 of 1 completed\n",
            "[*********************100%%**********************]  1 of 1 completed\n",
            "[*********************100%%**********************]  1 of 1 completed\n",
            "[*********************100%%**********************]  1 of 1 completed\n",
            "[*********************100%%**********************]  1 of 1 completed\n",
            "[*********************100%%**********************]  1 of 1 completed\n",
            "[*********************100%%**********************]  1 of 1 completed\n",
            "[*********************100%%**********************]  1 of 1 completed\n",
            "[*********************100%%**********************]  1 of 1 completed\n",
            "[*********************100%%**********************]  1 of 1 completed\n",
            "[*********************100%%**********************]  1 of 1 completed\n",
            "[*********************100%%**********************]  1 of 1 completed\n",
            "[*********************100%%**********************]  1 of 1 completed\n",
            "[*********************100%%**********************]  1 of 1 completed\n",
            "[*********************100%%**********************]  1 of 1 completed\n",
            "[*********************100%%**********************]  1 of 1 completed\n",
            "[*********************100%%**********************]  1 of 1 completed\n",
            "[*********************100%%**********************]  1 of 1 completed\n",
            "[*********************100%%**********************]  1 of 1 completed\n",
            "[*********************100%%**********************]  1 of 1 completed\n",
            "[*********************100%%**********************]  1 of 1 completed\n",
            "[*********************100%%**********************]  1 of 1 completed\n",
            "[*********************100%%**********************]  1 of 1 completed\n",
            "[*********************100%%**********************]  1 of 1 completed\n",
            "[*********************100%%**********************]  1 of 1 completed\n",
            "[*********************100%%**********************]  1 of 1 completed\n",
            "[*********************100%%**********************]  1 of 1 completed\n",
            "[*********************100%%**********************]  1 of 1 completed\n",
            "[*********************100%%**********************]  1 of 1 completed\n",
            "[*********************100%%**********************]  1 of 1 completed\n",
            "[*********************100%%**********************]  1 of 1 completed\n",
            "[*********************100%%**********************]  1 of 1 completed\n",
            "[*********************100%%**********************]  1 of 1 completed\n"
          ]
        },
        {
          "output_type": "stream",
          "name": "stdout",
          "text": [
            "No data available for RDX.AX on 2023-06-30 00:00:00\n",
            "No data available for RDX.AX on 2022-06-30 00:00:00\n",
            "No data available for RDX.AX on 2021-06-30 00:00:00\n",
            "No data available for RDX.AX on 2020-06-30 00:00:00\n"
          ]
        },
        {
          "output_type": "stream",
          "name": "stderr",
          "text": [
            "[*********************100%%**********************]  1 of 1 completed\n",
            "[*********************100%%**********************]  1 of 1 completed\n",
            "[*********************100%%**********************]  1 of 1 completed\n",
            "[*********************100%%**********************]  1 of 1 completed\n",
            "[*********************100%%**********************]  1 of 1 completed\n",
            "[*********************100%%**********************]  1 of 1 completed\n",
            "[*********************100%%**********************]  1 of 1 completed\n",
            "[*********************100%%**********************]  1 of 1 completed\n"
          ]
        },
        {
          "output_type": "stream",
          "name": "stdout",
          "text": [
            "No data available for RPL.AX on 2023-01-02 00:00:00\n"
          ]
        },
        {
          "output_type": "stream",
          "name": "stderr",
          "text": [
            "[*********************100%%**********************]  1 of 1 completed\n",
            "[*********************100%%**********************]  1 of 1 completed\n",
            "[*********************100%%**********************]  1 of 1 completed\n",
            "[*********************100%%**********************]  1 of 1 completed\n",
            "[*********************100%%**********************]  1 of 1 completed\n",
            "[*********************100%%**********************]  1 of 1 completed\n",
            "[*********************100%%**********************]  1 of 1 completed\n",
            "[*********************100%%**********************]  1 of 1 completed\n",
            "[*********************100%%**********************]  1 of 1 completed\n",
            "[*********************100%%**********************]  1 of 1 completed\n",
            "[*********************100%%**********************]  1 of 1 completed\n",
            "[*********************100%%**********************]  1 of 1 completed\n",
            "[*********************100%%**********************]  1 of 1 completed\n",
            "[*********************100%%**********************]  1 of 1 completed\n",
            "[*********************100%%**********************]  1 of 1 completed\n",
            "[*********************100%%**********************]  1 of 1 completed\n",
            "[*********************100%%**********************]  1 of 1 completed\n",
            "[*********************100%%**********************]  1 of 1 completed\n",
            "[*********************100%%**********************]  1 of 1 completed\n",
            "[*********************100%%**********************]  1 of 1 completed\n",
            "[*********************100%%**********************]  1 of 1 completed\n",
            "[*********************100%%**********************]  1 of 1 completed\n",
            "[*********************100%%**********************]  1 of 1 completed\n",
            "[*********************100%%**********************]  1 of 1 completed\n",
            "[*********************100%%**********************]  1 of 1 completed\n",
            "[*********************100%%**********************]  1 of 1 completed\n",
            "[*********************100%%**********************]  1 of 1 completed\n",
            "[*********************100%%**********************]  1 of 1 completed\n",
            "[*********************100%%**********************]  1 of 1 completed\n",
            "[*********************100%%**********************]  1 of 1 completed\n",
            "[*********************100%%**********************]  1 of 1 completed\n",
            "[*********************100%%**********************]  1 of 1 completed\n",
            "[*********************100%%**********************]  1 of 1 completed\n"
          ]
        },
        {
          "output_type": "stream",
          "name": "stdout",
          "text": [
            "No data available for RSG.AX on 2019-12-31 00:00:00\n",
            "No data available for RSG.AX on 2023-01-02 00:00:00\n"
          ]
        },
        {
          "output_type": "stream",
          "name": "stderr",
          "text": [
            "[*********************100%%**********************]  1 of 1 completed\n",
            "[*********************100%%**********************]  1 of 1 completed\n",
            "[*********************100%%**********************]  1 of 1 completed\n",
            "[*********************100%%**********************]  1 of 1 completed\n"
          ]
        },
        {
          "output_type": "stream",
          "name": "stdout",
          "text": [
            "No data available for RBD.AX on 2023-01-02 00:00:00\n"
          ]
        },
        {
          "output_type": "stream",
          "name": "stderr",
          "text": [
            "[*********************100%%**********************]  1 of 1 completed\n",
            "[*********************100%%**********************]  1 of 1 completed\n",
            "[*********************100%%**********************]  1 of 1 completed\n",
            "[*********************100%%**********************]  1 of 1 completed\n",
            "[*********************100%%**********************]  1 of 1 completed\n",
            "[*********************100%%**********************]  1 of 1 completed\n",
            "[*********************100%%**********************]  1 of 1 completed\n",
            "[*********************100%%**********************]  1 of 1 completed\n",
            "[*********************100%%**********************]  1 of 1 completed\n",
            "[*********************100%%**********************]  1 of 1 completed\n",
            "[*********************100%%**********************]  1 of 1 completed\n",
            "[*********************100%%**********************]  1 of 1 completed\n",
            "[*********************100%%**********************]  1 of 1 completed\n"
          ]
        },
        {
          "output_type": "stream",
          "name": "stdout",
          "text": [
            "No data available for RIO.AX on 2023-01-02 00:00:00\n"
          ]
        },
        {
          "output_type": "stream",
          "name": "stderr",
          "text": [
            "[*********************100%%**********************]  1 of 1 completed\n",
            "[*********************100%%**********************]  1 of 1 completed\n",
            "[*********************100%%**********************]  1 of 1 completed\n",
            "[*********************100%%**********************]  1 of 1 completed\n",
            "[*********************100%%**********************]  1 of 1 completed\n",
            "[*********************100%%**********************]  1 of 1 completed\n",
            "[*********************100%%**********************]  1 of 1 completed\n",
            "[*********************100%%**********************]  1 of 1 completed\n",
            "[*********************100%%**********************]  1 of 1 completed\n",
            "[*********************100%%**********************]  1 of 1 completed\n",
            "[*********************100%%**********************]  1 of 1 completed\n",
            "[*********************100%%**********************]  1 of 1 completed\n",
            "[*********************100%%**********************]  1 of 1 completed\n",
            "[*********************100%%**********************]  1 of 1 completed\n",
            "[*********************100%%**********************]  1 of 1 completed\n",
            "[*********************100%%**********************]  1 of 1 completed\n",
            "[*********************100%%**********************]  1 of 1 completed\n"
          ]
        },
        {
          "output_type": "stream",
          "name": "stdout",
          "text": [
            "No data available for STO.AX on 2023-01-02 00:00:00\n"
          ]
        },
        {
          "output_type": "stream",
          "name": "stderr",
          "text": [
            "[*********************100%%**********************]  1 of 1 completed\n",
            "[*********************100%%**********************]  1 of 1 completed\n",
            "[*********************100%%**********************]  1 of 1 completed\n",
            "[*********************100%%**********************]  1 of 1 completed\n",
            "[*********************100%%**********************]  1 of 1 completed\n",
            "[*********************100%%**********************]  1 of 1 completed\n",
            "[*********************100%%**********************]  1 of 1 completed\n"
          ]
        },
        {
          "output_type": "stream",
          "name": "stdout",
          "text": [
            "No data available for SCG.AX on 2023-01-02 00:00:00\n"
          ]
        },
        {
          "output_type": "stream",
          "name": "stderr",
          "text": [
            "[*********************100%%**********************]  1 of 1 completed\n",
            "[*********************100%%**********************]  1 of 1 completed\n",
            "[*********************100%%**********************]  1 of 1 completed\n",
            "[*********************100%%**********************]  1 of 1 completed\n",
            "[*********************100%%**********************]  1 of 1 completed\n",
            "[*********************100%%**********************]  1 of 1 completed\n",
            "[*********************100%%**********************]  1 of 1 completed\n",
            "[*********************100%%**********************]  1 of 1 completed\n",
            "[*********************100%%**********************]  1 of 1 completed\n",
            "[*********************100%%**********************]  1 of 1 completed\n",
            "[*********************100%%**********************]  1 of 1 completed\n",
            "[*********************100%%**********************]  1 of 1 completed\n",
            "[*********************100%%**********************]  1 of 1 completed\n"
          ]
        },
        {
          "output_type": "stream",
          "name": "stdout",
          "text": [
            "No data available for SHV.AX on 2019-09-30 00:00:00\n"
          ]
        },
        {
          "output_type": "stream",
          "name": "stderr",
          "text": [
            "[*********************100%%**********************]  1 of 1 completed\n",
            "[*********************100%%**********************]  1 of 1 completed\n",
            "[*********************100%%**********************]  1 of 1 completed\n",
            "[*********************100%%**********************]  1 of 1 completed\n",
            "[*********************100%%**********************]  1 of 1 completed\n",
            "[*********************100%%**********************]  1 of 1 completed\n",
            "[*********************100%%**********************]  1 of 1 completed\n",
            "[*********************100%%**********************]  1 of 1 completed\n",
            "[*********************100%%**********************]  1 of 1 completed\n",
            "[*********************100%%**********************]  1 of 1 completed\n",
            "[*********************100%%**********************]  1 of 1 completed\n",
            "[*********************100%%**********************]  1 of 1 completed\n",
            "[*********************100%%**********************]  1 of 1 completed\n",
            "[*********************100%%**********************]  1 of 1 completed\n",
            "[*********************100%%**********************]  1 of 1 completed\n",
            "[*********************100%%**********************]  1 of 1 completed\n",
            "[*********************100%%**********************]  1 of 1 completed\n",
            "[*********************100%%**********************]  1 of 1 completed\n",
            "[*********************100%%**********************]  1 of 1 completed\n",
            "[*********************100%%**********************]  1 of 1 completed\n",
            "[*********************100%%**********************]  1 of 1 completed\n",
            "[*********************100%%**********************]  1 of 1 completed\n",
            "[*********************100%%**********************]  1 of 1 completed\n",
            "[*********************100%%**********************]  1 of 1 completed\n",
            "[*********************100%%**********************]  1 of 1 completed\n",
            "[*********************100%%**********************]  1 of 1 completed\n",
            "[*********************100%%**********************]  1 of 1 completed\n",
            "[*********************100%%**********************]  1 of 1 completed\n",
            "[*********************100%%**********************]  1 of 1 completed\n",
            "[*********************100%%**********************]  1 of 1 completed\n",
            "[*********************100%%**********************]  1 of 1 completed\n",
            "[*********************100%%**********************]  1 of 1 completed\n",
            "[*********************100%%**********************]  1 of 1 completed\n",
            "[*********************100%%**********************]  1 of 1 completed\n",
            "[*********************100%%**********************]  1 of 1 completed\n",
            "[*********************100%%**********************]  1 of 1 completed\n",
            "[*********************100%%**********************]  1 of 1 completed\n",
            "[*********************100%%**********************]  1 of 1 completed\n",
            "[*********************100%%**********************]  1 of 1 completed\n",
            "[*********************100%%**********************]  1 of 1 completed\n",
            "[*********************100%%**********************]  1 of 1 completed\n",
            "[*********************100%%**********************]  1 of 1 completed\n",
            "[*********************100%%**********************]  1 of 1 completed\n",
            "[*********************100%%**********************]  1 of 1 completed\n",
            "[*********************100%%**********************]  1 of 1 completed\n",
            "[*********************100%%**********************]  1 of 1 completed\n",
            "[*********************100%%**********************]  1 of 1 completed\n"
          ]
        },
        {
          "output_type": "stream",
          "name": "stdout",
          "text": [
            "No data available for SDR.AX on 2021-06-30 00:00:00\n"
          ]
        },
        {
          "output_type": "stream",
          "name": "stderr",
          "text": [
            "[*********************100%%**********************]  1 of 1 completed\n",
            "[*********************100%%**********************]  1 of 1 completed\n",
            "[*********************100%%**********************]  1 of 1 completed\n",
            "[*********************100%%**********************]  1 of 1 completed\n",
            "[*********************100%%**********************]  1 of 1 completed\n",
            "[*********************100%%**********************]  1 of 1 completed\n",
            "[*********************100%%**********************]  1 of 1 completed\n",
            "[*********************100%%**********************]  1 of 1 completed\n",
            "[*********************100%%**********************]  1 of 1 completed\n",
            "[*********************100%%**********************]  1 of 1 completed\n",
            "[*********************100%%**********************]  1 of 1 completed\n",
            "[*********************100%%**********************]  1 of 1 completed\n",
            "[*********************100%%**********************]  1 of 1 completed\n"
          ]
        },
        {
          "output_type": "stream",
          "name": "stdout",
          "text": [
            "No data available for SIQ.AX on 2019-12-31 00:00:00\n",
            "No data available for SIQ.AX on 2023-01-02 00:00:00\n"
          ]
        },
        {
          "output_type": "stream",
          "name": "stderr",
          "text": [
            "[*********************100%%**********************]  1 of 1 completed\n",
            "[*********************100%%**********************]  1 of 1 completed\n",
            "[*********************100%%**********************]  1 of 1 completed\n",
            "[*********************100%%**********************]  1 of 1 completed\n",
            "[*********************100%%**********************]  1 of 1 completed\n"
          ]
        },
        {
          "output_type": "stream",
          "name": "stdout",
          "text": [
            "No data available for SMP.AX on 2024-04-01 00:00:00\n"
          ]
        },
        {
          "output_type": "stream",
          "name": "stderr",
          "text": [
            "[*********************100%%**********************]  1 of 1 completed\n",
            "[*********************100%%**********************]  1 of 1 completed\n",
            "[*********************100%%**********************]  1 of 1 completed\n",
            "[*********************100%%**********************]  1 of 1 completed\n",
            "[*********************100%%**********************]  1 of 1 completed\n",
            "[*********************100%%**********************]  1 of 1 completed\n",
            "[*********************100%%**********************]  1 of 1 completed\n",
            "[*********************100%%**********************]  1 of 1 completed\n",
            "[*********************100%%**********************]  1 of 1 completed\n",
            "[*********************100%%**********************]  1 of 1 completed\n",
            "[*********************100%%**********************]  1 of 1 completed\n",
            "[*********************100%%**********************]  1 of 1 completed\n",
            "[*********************100%%**********************]  1 of 1 completed\n",
            "[*********************100%%**********************]  1 of 1 completed\n",
            "[*********************100%%**********************]  1 of 1 completed\n",
            "[*********************100%%**********************]  1 of 1 completed\n",
            "[*********************100%%**********************]  1 of 1 completed\n",
            "[*********************100%%**********************]  1 of 1 completed\n",
            "[*********************100%%**********************]  1 of 1 completed\n",
            "[*********************100%%**********************]  1 of 1 completed\n",
            "[*********************100%%**********************]  1 of 1 completed\n",
            "[*********************100%%**********************]  1 of 1 completed\n",
            "[*********************100%%**********************]  1 of 1 completed\n",
            "[*********************100%%**********************]  1 of 1 completed\n",
            "[*********************100%%**********************]  1 of 1 completed\n"
          ]
        },
        {
          "output_type": "stream",
          "name": "stdout",
          "text": [
            "No data available for SPR.AX on 2023-06-30 00:00:00\n",
            "No data available for SPR.AX on 2022-06-30 00:00:00\n",
            "No data available for SPR.AX on 2021-06-30 00:00:00\n",
            "No data available for SPR.AX on 2020-06-30 00:00:00\n"
          ]
        },
        {
          "output_type": "stream",
          "name": "stderr",
          "text": [
            "[*********************100%%**********************]  1 of 1 completed\n",
            "[*********************100%%**********************]  1 of 1 completed\n",
            "[*********************100%%**********************]  1 of 1 completed\n",
            "[*********************100%%**********************]  1 of 1 completed\n",
            "[*********************100%%**********************]  1 of 1 completed\n",
            "[*********************100%%**********************]  1 of 1 completed\n",
            "[*********************100%%**********************]  1 of 1 completed\n",
            "[*********************100%%**********************]  1 of 1 completed\n"
          ]
        },
        {
          "output_type": "stream",
          "name": "stdout",
          "text": [
            "No data available for SMR.AX on 2023-01-02 00:00:00\n"
          ]
        },
        {
          "output_type": "stream",
          "name": "stderr",
          "text": [
            "[*********************100%%**********************]  1 of 1 completed\n",
            "[*********************100%%**********************]  1 of 1 completed\n",
            "[*********************100%%**********************]  1 of 1 completed\n",
            "[*********************100%%**********************]  1 of 1 completed\n",
            "[*********************100%%**********************]  1 of 1 completed\n",
            "[*********************100%%**********************]  1 of 1 completed\n",
            "[*********************100%%**********************]  1 of 1 completed\n",
            "[*********************100%%**********************]  1 of 1 completed\n",
            "[*********************100%%**********************]  1 of 1 completed\n"
          ]
        },
        {
          "output_type": "stream",
          "name": "stdout",
          "text": [
            "No data available for SST.AX on 2019-12-31 00:00:00\n",
            "No data available for SST.AX on 2023-01-02 00:00:00\n"
          ]
        },
        {
          "output_type": "stream",
          "name": "stderr",
          "text": [
            "[*********************100%%**********************]  1 of 1 completed\n",
            "[*********************100%%**********************]  1 of 1 completed\n",
            "[*********************100%%**********************]  1 of 1 completed\n"
          ]
        },
        {
          "output_type": "stream",
          "name": "stdout",
          "text": [
            "No data available for STP.AX on 2021-06-30 00:00:00\n"
          ]
        },
        {
          "output_type": "stream",
          "name": "stderr",
          "text": [
            "[*********************100%%**********************]  1 of 1 completed\n",
            "[*********************100%%**********************]  1 of 1 completed\n",
            "[*********************100%%**********************]  1 of 1 completed\n",
            "[*********************100%%**********************]  1 of 1 completed\n",
            "[*********************100%%**********************]  1 of 1 completed\n",
            "[*********************100%%**********************]  1 of 1 completed\n",
            "[*********************100%%**********************]  1 of 1 completed\n",
            "[*********************100%%**********************]  1 of 1 completed\n",
            "[*********************100%%**********************]  1 of 1 completed\n",
            "[*********************100%%**********************]  1 of 1 completed\n",
            "[*********************100%%**********************]  1 of 1 completed\n",
            "[*********************100%%**********************]  1 of 1 completed\n"
          ]
        },
        {
          "output_type": "stream",
          "name": "stdout",
          "text": [
            "No data available for SNZ.AX on 2023-01-02 00:00:00\n"
          ]
        },
        {
          "output_type": "stream",
          "name": "stderr",
          "text": [
            "[*********************100%%**********************]  1 of 1 completed\n",
            "[*********************100%%**********************]  1 of 1 completed\n",
            "[*********************100%%**********************]  1 of 1 completed\n",
            "[*********************100%%**********************]  1 of 1 completed\n",
            "[*********************100%%**********************]  1 of 1 completed\n",
            "[*********************100%%**********************]  1 of 1 completed\n",
            "[*********************100%%**********************]  1 of 1 completed\n",
            "[*********************100%%**********************]  1 of 1 completed\n",
            "[*********************100%%**********************]  1 of 1 completed\n",
            "[*********************100%%**********************]  1 of 1 completed\n",
            "[*********************100%%**********************]  1 of 1 completed\n",
            "[*********************100%%**********************]  1 of 1 completed\n",
            "[*********************100%%**********************]  1 of 1 completed\n",
            "[*********************100%%**********************]  1 of 1 completed\n",
            "[*********************100%%**********************]  1 of 1 completed\n",
            "[*********************100%%**********************]  1 of 1 completed\n",
            "[*********************100%%**********************]  1 of 1 completed\n",
            "[*********************100%%**********************]  1 of 1 completed\n",
            "[*********************100%%**********************]  1 of 1 completed\n",
            "[*********************100%%**********************]  1 of 1 completed\n",
            "[*********************100%%**********************]  1 of 1 completed\n"
          ]
        },
        {
          "output_type": "stream",
          "name": "stdout",
          "text": [
            "No data available for SYR.AX on 2019-12-31 00:00:00\n",
            "No data available for SYR.AX on 2023-01-02 00:00:00\n"
          ]
        },
        {
          "output_type": "stream",
          "name": "stderr",
          "text": [
            "[*********************100%%**********************]  1 of 1 completed\n",
            "[*********************100%%**********************]  1 of 1 completed\n",
            "[*********************100%%**********************]  1 of 1 completed\n",
            "[*********************100%%**********************]  1 of 1 completed\n",
            "[*********************100%%**********************]  1 of 1 completed\n",
            "[*********************100%%**********************]  1 of 1 completed\n",
            "[*********************100%%**********************]  1 of 1 completed\n",
            "[*********************100%%**********************]  1 of 1 completed\n",
            "[*********************100%%**********************]  1 of 1 completed\n",
            "[*********************100%%**********************]  1 of 1 completed\n",
            "[*********************100%%**********************]  1 of 1 completed\n",
            "[*********************100%%**********************]  1 of 1 completed\n"
          ]
        },
        {
          "output_type": "stream",
          "name": "stdout",
          "text": [
            "No data available for TSK.AX on 2020-03-31 00:00:00\n",
            "No data available for TEA.AX on 2022-06-30 00:00:00\n",
            "No data available for TEA.AX on 2023-06-30 00:00:00\n"
          ]
        },
        {
          "output_type": "stream",
          "name": "stderr",
          "text": [
            "[*********************100%%**********************]  1 of 1 completed\n",
            "[*********************100%%**********************]  1 of 1 completed\n",
            "[*********************100%%**********************]  1 of 1 completed\n",
            "[*********************100%%**********************]  1 of 1 completed\n",
            "[*********************100%%**********************]  1 of 1 completed\n"
          ]
        },
        {
          "output_type": "stream",
          "name": "stdout",
          "text": [
            "No data available for TNE.AX on 2019-09-30 00:00:00\n"
          ]
        },
        {
          "output_type": "stream",
          "name": "stderr",
          "text": [
            "[*********************100%%**********************]  1 of 1 completed\n",
            "[*********************100%%**********************]  1 of 1 completed\n",
            "[*********************100%%**********************]  1 of 1 completed\n",
            "[*********************100%%**********************]  1 of 1 completed\n"
          ]
        },
        {
          "output_type": "stream",
          "name": "stdout",
          "text": [
            "No data available for TLX.AX on 2023-01-02 00:00:00\n"
          ]
        },
        {
          "output_type": "stream",
          "name": "stderr",
          "text": [
            "[*********************100%%**********************]  1 of 1 completed\n",
            "[*********************100%%**********************]  1 of 1 completed\n",
            "[*********************100%%**********************]  1 of 1 completed\n",
            "[*********************100%%**********************]  1 of 1 completed\n",
            "[*********************100%%**********************]  1 of 1 completed\n",
            "[*********************100%%**********************]  1 of 1 completed\n",
            "[*********************100%%**********************]  1 of 1 completed\n",
            "[*********************100%%**********************]  1 of 1 completed\n",
            "[*********************100%%**********************]  1 of 1 completed\n",
            "[*********************100%%**********************]  1 of 1 completed\n",
            "[*********************100%%**********************]  1 of 1 completed\n",
            "[*********************100%%**********************]  1 of 1 completed\n",
            "[*********************100%%**********************]  1 of 1 completed\n",
            "[*********************100%%**********************]  1 of 1 completed\n",
            "[*********************100%%**********************]  1 of 1 completed\n",
            "[*********************100%%**********************]  1 of 1 completed\n",
            "[*********************100%%**********************]  1 of 1 completed\n",
            "[*********************100%%**********************]  1 of 1 completed\n",
            "[*********************100%%**********************]  1 of 1 completed\n",
            "[*********************100%%**********************]  1 of 1 completed\n",
            "[*********************100%%**********************]  1 of 1 completed\n",
            "[*********************100%%**********************]  1 of 1 completed\n",
            "[*********************100%%**********************]  1 of 1 completed\n",
            "[*********************100%%**********************]  1 of 1 completed\n",
            "[*********************100%%**********************]  1 of 1 completed\n",
            "[*********************100%%**********************]  1 of 1 completed\n"
          ]
        },
        {
          "output_type": "stream",
          "name": "stdout",
          "text": [
            "No data available for THL.AX on 2022-06-30 00:00:00\n",
            "No data available for THL.AX on 2021-06-30 00:00:00\n",
            "No data available for THL.AX on 2020-06-30 00:00:00\n"
          ]
        },
        {
          "output_type": "stream",
          "name": "stderr",
          "text": [
            "[*********************100%%**********************]  1 of 1 completed\n",
            "[*********************100%%**********************]  1 of 1 completed\n"
          ]
        },
        {
          "output_type": "stream",
          "name": "stdout",
          "text": [
            "No data available for TWR.AX on 2019-09-30 00:00:00\n"
          ]
        },
        {
          "output_type": "stream",
          "name": "stderr",
          "text": [
            "[*********************100%%**********************]  1 of 1 completed\n",
            "[*********************100%%**********************]  1 of 1 completed\n",
            "[*********************100%%**********************]  1 of 1 completed\n",
            "[*********************100%%**********************]  1 of 1 completed\n",
            "[*********************100%%**********************]  1 of 1 completed\n",
            "[*********************100%%**********************]  1 of 1 completed\n",
            "[*********************100%%**********************]  1 of 1 completed\n"
          ]
        },
        {
          "output_type": "stream",
          "name": "stdout",
          "text": [
            "No data available for TPG.AX on 2023-01-02 00:00:00\n"
          ]
        },
        {
          "output_type": "stream",
          "name": "stderr",
          "text": [
            "[*********************100%%**********************]  1 of 1 completed\n",
            "[*********************100%%**********************]  1 of 1 completed\n",
            "[*********************100%%**********************]  1 of 1 completed\n",
            "[*********************100%%**********************]  1 of 1 completed\n",
            "[*********************100%%**********************]  1 of 1 completed\n",
            "[*********************100%%**********************]  1 of 1 completed\n",
            "[*********************100%%**********************]  1 of 1 completed\n",
            "[*********************100%%**********************]  1 of 1 completed\n",
            "[*********************100%%**********************]  1 of 1 completed\n",
            "[*********************100%%**********************]  1 of 1 completed\n",
            "[*********************100%%**********************]  1 of 1 completed\n",
            "[*********************100%%**********************]  1 of 1 completed\n",
            "[*********************100%%**********************]  1 of 1 completed\n",
            "[*********************100%%**********************]  1 of 1 completed\n",
            "[*********************100%%**********************]  1 of 1 completed\n",
            "[*********************100%%**********************]  1 of 1 completed\n",
            "[*********************100%%**********************]  1 of 1 completed\n"
          ]
        },
        {
          "output_type": "stream",
          "name": "stdout",
          "text": [
            "No data available for TRA.AX on 2024-04-01 00:00:00\n"
          ]
        },
        {
          "output_type": "stream",
          "name": "stderr",
          "text": [
            "[*********************100%%**********************]  1 of 1 completed\n",
            "[*********************100%%**********************]  1 of 1 completed\n",
            "[*********************100%%**********************]  1 of 1 completed\n",
            "[*********************100%%**********************]  1 of 1 completed\n",
            "[*********************100%%**********************]  1 of 1 completed\n",
            "[*********************100%%**********************]  1 of 1 completed\n"
          ]
        },
        {
          "output_type": "stream",
          "name": "stdout",
          "text": [
            "No data available for URW.AX on 2023-01-02 00:00:00\n"
          ]
        },
        {
          "output_type": "stream",
          "name": "stderr",
          "text": [
            "[*********************100%%**********************]  1 of 1 completed\n",
            "[*********************100%%**********************]  1 of 1 completed\n",
            "[*********************100%%**********************]  1 of 1 completed\n",
            "[*********************100%%**********************]  1 of 1 completed\n"
          ]
        },
        {
          "output_type": "stream",
          "name": "stdout",
          "text": [
            "No data available for UNI.AX on 2020-06-30 00:00:00\n"
          ]
        },
        {
          "output_type": "stream",
          "name": "stderr",
          "text": [
            "[*********************100%%**********************]  1 of 1 completed\n",
            "[*********************100%%**********************]  1 of 1 completed\n",
            "[*********************100%%**********************]  1 of 1 completed\n",
            "[*********************100%%**********************]  1 of 1 completed\n",
            "[*********************100%%**********************]  1 of 1 completed\n",
            "[*********************100%%**********************]  1 of 1 completed\n",
            "[*********************100%%**********************]  1 of 1 completed\n"
          ]
        },
        {
          "output_type": "stream",
          "name": "stdout",
          "text": [
            "No data available for VNT.AX on 2023-01-02 00:00:00\n"
          ]
        },
        {
          "output_type": "stream",
          "name": "stderr",
          "text": [
            "[*********************100%%**********************]  1 of 1 completed\n",
            "[*********************100%%**********************]  1 of 1 completed\n",
            "[*********************100%%**********************]  1 of 1 completed\n",
            "[*********************100%%**********************]  1 of 1 completed\n",
            "[*********************100%%**********************]  1 of 1 completed\n",
            "[*********************100%%**********************]  1 of 1 completed\n",
            "[*********************100%%**********************]  1 of 1 completed\n",
            "[*********************100%%**********************]  1 of 1 completed\n",
            "[*********************100%%**********************]  1 of 1 completed\n"
          ]
        },
        {
          "output_type": "stream",
          "name": "stdout",
          "text": [
            "No data available for VUK.AX on 2019-09-30 00:00:00\n"
          ]
        },
        {
          "output_type": "stream",
          "name": "stderr",
          "text": [
            "[*********************100%%**********************]  1 of 1 completed\n",
            "[*********************100%%**********************]  1 of 1 completed\n",
            "[*********************100%%**********************]  1 of 1 completed\n",
            "[*********************100%%**********************]  1 of 1 completed\n"
          ]
        },
        {
          "output_type": "stream",
          "name": "stdout",
          "text": [
            "No data available for VGL.AX on 2023-01-02 00:00:00\n"
          ]
        },
        {
          "output_type": "stream",
          "name": "stderr",
          "text": [
            "[*********************100%%**********************]  1 of 1 completed\n",
            "[*********************100%%**********************]  1 of 1 completed\n",
            "[*********************100%%**********************]  1 of 1 completed\n",
            "[*********************100%%**********************]  1 of 1 completed\n",
            "[*********************100%%**********************]  1 of 1 completed\n"
          ]
        },
        {
          "output_type": "stream",
          "name": "stdout",
          "text": [
            "No data available for VEA.AX on 2019-12-31 00:00:00\n",
            "No data available for VEA.AX on 2023-01-02 00:00:00\n"
          ]
        },
        {
          "output_type": "stream",
          "name": "stderr",
          "text": [
            "[*********************100%%**********************]  1 of 1 completed\n",
            "[*********************100%%**********************]  1 of 1 completed\n",
            "[*********************100%%**********************]  1 of 1 completed\n",
            "[*********************100%%**********************]  1 of 1 completed\n",
            "[*********************100%%**********************]  1 of 1 completed\n",
            "[*********************100%%**********************]  1 of 1 completed\n",
            "[*********************100%%**********************]  1 of 1 completed\n"
          ]
        },
        {
          "output_type": "stream",
          "name": "stdout",
          "text": [
            "No data available for VSL.AX on 2021-06-30 00:00:00\n"
          ]
        },
        {
          "output_type": "stream",
          "name": "stderr",
          "text": [
            "[*********************100%%**********************]  1 of 1 completed\n",
            "[*********************100%%**********************]  1 of 1 completed\n",
            "[*********************100%%**********************]  1 of 1 completed\n",
            "[*********************100%%**********************]  1 of 1 completed\n",
            "[*********************100%%**********************]  1 of 1 completed\n",
            "[*********************100%%**********************]  1 of 1 completed\n",
            "[*********************100%%**********************]  1 of 1 completed\n",
            "[*********************100%%**********************]  1 of 1 completed\n",
            "[*********************100%%**********************]  1 of 1 completed\n",
            "[*********************100%%**********************]  1 of 1 completed\n",
            "[*********************100%%**********************]  1 of 1 completed\n",
            "[*********************100%%**********************]  1 of 1 completed\n",
            "[*********************100%%**********************]  1 of 1 completed\n",
            "[*********************100%%**********************]  1 of 1 completed\n",
            "[*********************100%%**********************]  1 of 1 completed\n",
            "[*********************100%%**********************]  1 of 1 completed\n",
            "[*********************100%%**********************]  1 of 1 completed\n",
            "[*********************100%%**********************]  1 of 1 completed\n"
          ]
        },
        {
          "output_type": "stream",
          "name": "stdout",
          "text": [
            "No data available for WMI.AX on 2022-06-30 00:00:00\n",
            "No data available for WMI.AX on 2021-06-30 00:00:00\n",
            "No data available for WMI.AX on 2020-06-30 00:00:00\n"
          ]
        },
        {
          "output_type": "stream",
          "name": "stderr",
          "text": [
            "[*********************100%%**********************]  1 of 1 completed\n",
            "[*********************100%%**********************]  1 of 1 completed\n",
            "[*********************100%%**********************]  1 of 1 completed\n",
            "[*********************100%%**********************]  1 of 1 completed\n",
            "[*********************100%%**********************]  1 of 1 completed\n",
            "[*********************100%%**********************]  1 of 1 completed\n",
            "[*********************100%%**********************]  1 of 1 completed\n",
            "[*********************100%%**********************]  1 of 1 completed\n",
            "[*********************100%%**********************]  1 of 1 completed\n"
          ]
        },
        {
          "output_type": "stream",
          "name": "stdout",
          "text": [
            "No data available for WPR.AX on 2019-12-31 00:00:00\n",
            "No data available for WPR.AX on 2023-01-02 00:00:00\n"
          ]
        },
        {
          "output_type": "stream",
          "name": "stderr",
          "text": [
            "[*********************100%%**********************]  1 of 1 completed\n",
            "[*********************100%%**********************]  1 of 1 completed\n",
            "[*********************100%%**********************]  1 of 1 completed\n",
            "[*********************100%%**********************]  1 of 1 completed\n"
          ]
        },
        {
          "output_type": "stream",
          "name": "stdout",
          "text": [
            "No data available for WEB.AX on 2024-04-01 00:00:00\n"
          ]
        },
        {
          "output_type": "stream",
          "name": "stderr",
          "text": [
            "[*********************100%%**********************]  1 of 1 completed\n",
            "[*********************100%%**********************]  1 of 1 completed\n",
            "[*********************100%%**********************]  1 of 1 completed\n",
            "[*********************100%%**********************]  1 of 1 completed\n",
            "[*********************100%%**********************]  1 of 1 completed\n",
            "[*********************100%%**********************]  1 of 1 completed\n",
            "[*********************100%%**********************]  1 of 1 completed\n",
            "[*********************100%%**********************]  1 of 1 completed\n",
            "[*********************100%%**********************]  1 of 1 completed\n",
            "[*********************100%%**********************]  1 of 1 completed\n",
            "[*********************100%%**********************]  1 of 1 completed\n",
            "[*********************100%%**********************]  1 of 1 completed\n",
            "[*********************100%%**********************]  1 of 1 completed\n"
          ]
        },
        {
          "output_type": "stream",
          "name": "stdout",
          "text": [
            "No data available for WAF.AX on 2019-12-31 00:00:00\n",
            "No data available for WAF.AX on 2023-01-02 00:00:00\n"
          ]
        },
        {
          "output_type": "stream",
          "name": "stderr",
          "text": [
            "[*********************100%%**********************]  1 of 1 completed\n",
            "[*********************100%%**********************]  1 of 1 completed\n",
            "[*********************100%%**********************]  1 of 1 completed\n",
            "[*********************100%%**********************]  1 of 1 completed\n",
            "[*********************100%%**********************]  1 of 1 completed\n",
            "[*********************100%%**********************]  1 of 1 completed\n",
            "[*********************100%%**********************]  1 of 1 completed\n",
            "[*********************100%%**********************]  1 of 1 completed\n",
            "[*********************100%%**********************]  1 of 1 completed\n",
            "[*********************100%%**********************]  1 of 1 completed\n",
            "[*********************100%%**********************]  1 of 1 completed\n",
            "[*********************100%%**********************]  1 of 1 completed\n",
            "[*********************100%%**********************]  1 of 1 completed\n",
            "[*********************100%%**********************]  1 of 1 completed\n",
            "[*********************100%%**********************]  1 of 1 completed\n",
            "[*********************100%%**********************]  1 of 1 completed\n",
            "[*********************100%%**********************]  1 of 1 completed\n",
            "[*********************100%%**********************]  1 of 1 completed\n",
            "[*********************100%%**********************]  1 of 1 completed\n",
            "[*********************100%%**********************]  1 of 1 completed\n",
            "[*********************100%%**********************]  1 of 1 completed\n",
            "[*********************100%%**********************]  1 of 1 completed\n",
            "[*********************100%%**********************]  1 of 1 completed\n"
          ]
        },
        {
          "output_type": "stream",
          "name": "stdout",
          "text": [
            "No data available for WTN.AX on 2021-06-30 00:00:00\n"
          ]
        },
        {
          "output_type": "stream",
          "name": "stderr",
          "text": [
            "[*********************100%%**********************]  1 of 1 completed\n",
            "[*********************100%%**********************]  1 of 1 completed\n",
            "[*********************100%%**********************]  1 of 1 completed\n",
            "[*********************100%%**********************]  1 of 1 completed\n",
            "[*********************100%%**********************]  1 of 1 completed\n",
            "[*********************100%%**********************]  1 of 1 completed\n",
            "[*********************100%%**********************]  1 of 1 completed\n",
            "[*********************100%%**********************]  1 of 1 completed\n"
          ]
        },
        {
          "output_type": "stream",
          "name": "stdout",
          "text": [
            "No data available for WDS.AX on 2023-01-02 00:00:00\n"
          ]
        },
        {
          "output_type": "stream",
          "name": "stderr",
          "text": [
            "[*********************100%%**********************]  1 of 1 completed\n",
            "[*********************100%%**********************]  1 of 1 completed\n",
            "[*********************100%%**********************]  1 of 1 completed\n",
            "[*********************100%%**********************]  1 of 1 completed\n",
            "[*********************100%%**********************]  1 of 1 completed\n",
            "[*********************100%%**********************]  1 of 1 completed\n",
            "[*********************100%%**********************]  1 of 1 completed\n",
            "[*********************100%%**********************]  1 of 1 completed\n",
            "[*********************100%%**********************]  1 of 1 completed\n",
            "[*********************100%%**********************]  1 of 1 completed\n",
            "[*********************100%%**********************]  1 of 1 completed\n",
            "[*********************100%%**********************]  1 of 1 completed\n"
          ]
        },
        {
          "output_type": "stream",
          "name": "stdout",
          "text": [
            "No data available for XRO.AX on 2024-04-01 00:00:00\n"
          ]
        },
        {
          "output_type": "stream",
          "name": "stderr",
          "text": [
            "[*********************100%%**********************]  1 of 1 completed\n",
            "[*********************100%%**********************]  1 of 1 completed\n",
            "[*********************100%%**********************]  1 of 1 completed\n",
            "[*********************100%%**********************]  1 of 1 completed\n",
            "[*********************100%%**********************]  1 of 1 completed\n"
          ]
        },
        {
          "output_type": "stream",
          "name": "stdout",
          "text": [
            "No data available for YAL.AX on 2019-12-31 00:00:00\n",
            "No data available for YAL.AX on 2023-01-02 00:00:00\n"
          ]
        },
        {
          "output_type": "stream",
          "name": "stderr",
          "text": [
            "[*********************100%%**********************]  1 of 1 completed\n",
            "[*********************100%%**********************]  1 of 1 completed\n",
            "[*********************100%%**********************]  1 of 1 completed\n",
            "[*********************100%%**********************]  1 of 1 completed\n",
            "[*********************100%%**********************]  1 of 1 completed\n",
            "[*********************100%%**********************]  1 of 1 completed\n",
            "[*********************100%%**********************]  1 of 1 completed\n",
            "[*********************100%%**********************]  1 of 1 completed\n"
          ]
        }
      ]
    },
    {
      "cell_type": "code",
      "source": [
        "past_prices\n"
      ],
      "metadata": {
        "colab": {
          "base_uri": "https://localhost:8080/"
        },
        "id": "qc-2CnA04lJH",
        "outputId": "d24f9972-66d8-4d7f-a0ae-aa65e4465261"
      },
      "execution_count": 27,
      "outputs": [
        {
          "output_type": "execute_result",
          "data": {
            "text/plain": [
              "Date\n",
              "2020-03-31    1.585\n",
              "2020-04-01    1.650\n",
              "2020-04-02    1.600\n",
              "2020-04-03    1.705\n",
              "2020-04-06    1.970\n",
              "              ...  \n",
              "2020-06-24    5.900\n",
              "2020-06-25    5.490\n",
              "2020-06-26    5.450\n",
              "2020-06-29    5.090\n",
              "2020-06-30    5.230\n",
              "Name: Close, Length: 63, dtype: float64"
            ]
          },
          "metadata": {},
          "execution_count": 27
        }
      ]
    },
    {
      "cell_type": "code",
      "source": [
        "combined_df"
      ],
      "metadata": {
        "colab": {
          "base_uri": "https://localhost:8080/",
          "height": 424
        },
        "id": "8RzHHp2ZO9J5",
        "outputId": "85286963-ce93-4f24-ca20-11e0b5c39464"
      },
      "execution_count": 28,
      "outputs": [
        {
          "output_type": "execute_result",
          "data": {
            "text/plain": [
              "         Date   Close  Ticker  price_change  volatility\n",
              "0  2023-06-30   1.100  3PL.AX    -11.999998    0.047663\n",
              "0  2022-06-30   1.235  3PL.AX    -20.322577    0.123008\n",
              "0  2021-06-30   1.310  3PL.AX      1.550386    0.029412\n",
              "0  2020-06-30   0.860  3PL.AX      2.380957    0.055610\n",
              "0  2023-06-30   0.670  4DX.AX    109.375010    0.173467\n",
              "..        ...     ...     ...           ...         ...\n",
              "0  2020-06-30  10.390  ZIM.AX     17.004507    0.640418\n",
              "0  2023-06-30   0.410  ZIP.AX    -26.785715    0.044526\n",
              "0  2022-06-30   0.440  ZIP.AX    -70.370371    0.318077\n",
              "0  2021-06-30   7.570  ZIP.AX      2.574526    0.784955\n",
              "0  2020-06-30   5.230  ZIP.AX    229.968448    1.662662\n",
              "\n",
              "[1754 rows x 5 columns]"
            ],
            "text/html": [
              "\n",
              "  <div id=\"df-eba08747-5320-49fe-818d-ce1a29703a19\" class=\"colab-df-container\">\n",
              "    <div>\n",
              "<style scoped>\n",
              "    .dataframe tbody tr th:only-of-type {\n",
              "        vertical-align: middle;\n",
              "    }\n",
              "\n",
              "    .dataframe tbody tr th {\n",
              "        vertical-align: top;\n",
              "    }\n",
              "\n",
              "    .dataframe thead th {\n",
              "        text-align: right;\n",
              "    }\n",
              "</style>\n",
              "<table border=\"1\" class=\"dataframe\">\n",
              "  <thead>\n",
              "    <tr style=\"text-align: right;\">\n",
              "      <th></th>\n",
              "      <th>Date</th>\n",
              "      <th>Close</th>\n",
              "      <th>Ticker</th>\n",
              "      <th>price_change</th>\n",
              "      <th>volatility</th>\n",
              "    </tr>\n",
              "  </thead>\n",
              "  <tbody>\n",
              "    <tr>\n",
              "      <th>0</th>\n",
              "      <td>2023-06-30</td>\n",
              "      <td>1.100</td>\n",
              "      <td>3PL.AX</td>\n",
              "      <td>-11.999998</td>\n",
              "      <td>0.047663</td>\n",
              "    </tr>\n",
              "    <tr>\n",
              "      <th>0</th>\n",
              "      <td>2022-06-30</td>\n",
              "      <td>1.235</td>\n",
              "      <td>3PL.AX</td>\n",
              "      <td>-20.322577</td>\n",
              "      <td>0.123008</td>\n",
              "    </tr>\n",
              "    <tr>\n",
              "      <th>0</th>\n",
              "      <td>2021-06-30</td>\n",
              "      <td>1.310</td>\n",
              "      <td>3PL.AX</td>\n",
              "      <td>1.550386</td>\n",
              "      <td>0.029412</td>\n",
              "    </tr>\n",
              "    <tr>\n",
              "      <th>0</th>\n",
              "      <td>2020-06-30</td>\n",
              "      <td>0.860</td>\n",
              "      <td>3PL.AX</td>\n",
              "      <td>2.380957</td>\n",
              "      <td>0.055610</td>\n",
              "    </tr>\n",
              "    <tr>\n",
              "      <th>0</th>\n",
              "      <td>2023-06-30</td>\n",
              "      <td>0.670</td>\n",
              "      <td>4DX.AX</td>\n",
              "      <td>109.375010</td>\n",
              "      <td>0.173467</td>\n",
              "    </tr>\n",
              "    <tr>\n",
              "      <th>...</th>\n",
              "      <td>...</td>\n",
              "      <td>...</td>\n",
              "      <td>...</td>\n",
              "      <td>...</td>\n",
              "      <td>...</td>\n",
              "    </tr>\n",
              "    <tr>\n",
              "      <th>0</th>\n",
              "      <td>2020-06-30</td>\n",
              "      <td>10.390</td>\n",
              "      <td>ZIM.AX</td>\n",
              "      <td>17.004507</td>\n",
              "      <td>0.640418</td>\n",
              "    </tr>\n",
              "    <tr>\n",
              "      <th>0</th>\n",
              "      <td>2023-06-30</td>\n",
              "      <td>0.410</td>\n",
              "      <td>ZIP.AX</td>\n",
              "      <td>-26.785715</td>\n",
              "      <td>0.044526</td>\n",
              "    </tr>\n",
              "    <tr>\n",
              "      <th>0</th>\n",
              "      <td>2022-06-30</td>\n",
              "      <td>0.440</td>\n",
              "      <td>ZIP.AX</td>\n",
              "      <td>-70.370371</td>\n",
              "      <td>0.318077</td>\n",
              "    </tr>\n",
              "    <tr>\n",
              "      <th>0</th>\n",
              "      <td>2021-06-30</td>\n",
              "      <td>7.570</td>\n",
              "      <td>ZIP.AX</td>\n",
              "      <td>2.574526</td>\n",
              "      <td>0.784955</td>\n",
              "    </tr>\n",
              "    <tr>\n",
              "      <th>0</th>\n",
              "      <td>2020-06-30</td>\n",
              "      <td>5.230</td>\n",
              "      <td>ZIP.AX</td>\n",
              "      <td>229.968448</td>\n",
              "      <td>1.662662</td>\n",
              "    </tr>\n",
              "  </tbody>\n",
              "</table>\n",
              "<p>1754 rows × 5 columns</p>\n",
              "</div>\n",
              "    <div class=\"colab-df-buttons\">\n",
              "\n",
              "  <div class=\"colab-df-container\">\n",
              "    <button class=\"colab-df-convert\" onclick=\"convertToInteractive('df-eba08747-5320-49fe-818d-ce1a29703a19')\"\n",
              "            title=\"Convert this dataframe to an interactive table.\"\n",
              "            style=\"display:none;\">\n",
              "\n",
              "  <svg xmlns=\"http://www.w3.org/2000/svg\" height=\"24px\" viewBox=\"0 -960 960 960\">\n",
              "    <path d=\"M120-120v-720h720v720H120Zm60-500h600v-160H180v160Zm220 220h160v-160H400v160Zm0 220h160v-160H400v160ZM180-400h160v-160H180v160Zm440 0h160v-160H620v160ZM180-180h160v-160H180v160Zm440 0h160v-160H620v160Z\"/>\n",
              "  </svg>\n",
              "    </button>\n",
              "\n",
              "  <style>\n",
              "    .colab-df-container {\n",
              "      display:flex;\n",
              "      gap: 12px;\n",
              "    }\n",
              "\n",
              "    .colab-df-convert {\n",
              "      background-color: #E8F0FE;\n",
              "      border: none;\n",
              "      border-radius: 50%;\n",
              "      cursor: pointer;\n",
              "      display: none;\n",
              "      fill: #1967D2;\n",
              "      height: 32px;\n",
              "      padding: 0 0 0 0;\n",
              "      width: 32px;\n",
              "    }\n",
              "\n",
              "    .colab-df-convert:hover {\n",
              "      background-color: #E2EBFA;\n",
              "      box-shadow: 0px 1px 2px rgba(60, 64, 67, 0.3), 0px 1px 3px 1px rgba(60, 64, 67, 0.15);\n",
              "      fill: #174EA6;\n",
              "    }\n",
              "\n",
              "    .colab-df-buttons div {\n",
              "      margin-bottom: 4px;\n",
              "    }\n",
              "\n",
              "    [theme=dark] .colab-df-convert {\n",
              "      background-color: #3B4455;\n",
              "      fill: #D2E3FC;\n",
              "    }\n",
              "\n",
              "    [theme=dark] .colab-df-convert:hover {\n",
              "      background-color: #434B5C;\n",
              "      box-shadow: 0px 1px 3px 1px rgba(0, 0, 0, 0.15);\n",
              "      filter: drop-shadow(0px 1px 2px rgba(0, 0, 0, 0.3));\n",
              "      fill: #FFFFFF;\n",
              "    }\n",
              "  </style>\n",
              "\n",
              "    <script>\n",
              "      const buttonEl =\n",
              "        document.querySelector('#df-eba08747-5320-49fe-818d-ce1a29703a19 button.colab-df-convert');\n",
              "      buttonEl.style.display =\n",
              "        google.colab.kernel.accessAllowed ? 'block' : 'none';\n",
              "\n",
              "      async function convertToInteractive(key) {\n",
              "        const element = document.querySelector('#df-eba08747-5320-49fe-818d-ce1a29703a19');\n",
              "        const dataTable =\n",
              "          await google.colab.kernel.invokeFunction('convertToInteractive',\n",
              "                                                    [key], {});\n",
              "        if (!dataTable) return;\n",
              "\n",
              "        const docLinkHtml = 'Like what you see? Visit the ' +\n",
              "          '<a target=\"_blank\" href=https://colab.research.google.com/notebooks/data_table.ipynb>data table notebook</a>'\n",
              "          + ' to learn more about interactive tables.';\n",
              "        element.innerHTML = '';\n",
              "        dataTable['output_type'] = 'display_data';\n",
              "        await google.colab.output.renderOutput(dataTable, element);\n",
              "        const docLink = document.createElement('div');\n",
              "        docLink.innerHTML = docLinkHtml;\n",
              "        element.appendChild(docLink);\n",
              "      }\n",
              "    </script>\n",
              "  </div>\n",
              "\n",
              "\n",
              "<div id=\"df-2e1a4df3-c28f-4467-8b87-d50ac9303d0b\">\n",
              "  <button class=\"colab-df-quickchart\" onclick=\"quickchart('df-2e1a4df3-c28f-4467-8b87-d50ac9303d0b')\"\n",
              "            title=\"Suggest charts\"\n",
              "            style=\"display:none;\">\n",
              "\n",
              "<svg xmlns=\"http://www.w3.org/2000/svg\" height=\"24px\"viewBox=\"0 0 24 24\"\n",
              "     width=\"24px\">\n",
              "    <g>\n",
              "        <path d=\"M19 3H5c-1.1 0-2 .9-2 2v14c0 1.1.9 2 2 2h14c1.1 0 2-.9 2-2V5c0-1.1-.9-2-2-2zM9 17H7v-7h2v7zm4 0h-2V7h2v10zm4 0h-2v-4h2v4z\"/>\n",
              "    </g>\n",
              "</svg>\n",
              "  </button>\n",
              "\n",
              "<style>\n",
              "  .colab-df-quickchart {\n",
              "      --bg-color: #E8F0FE;\n",
              "      --fill-color: #1967D2;\n",
              "      --hover-bg-color: #E2EBFA;\n",
              "      --hover-fill-color: #174EA6;\n",
              "      --disabled-fill-color: #AAA;\n",
              "      --disabled-bg-color: #DDD;\n",
              "  }\n",
              "\n",
              "  [theme=dark] .colab-df-quickchart {\n",
              "      --bg-color: #3B4455;\n",
              "      --fill-color: #D2E3FC;\n",
              "      --hover-bg-color: #434B5C;\n",
              "      --hover-fill-color: #FFFFFF;\n",
              "      --disabled-bg-color: #3B4455;\n",
              "      --disabled-fill-color: #666;\n",
              "  }\n",
              "\n",
              "  .colab-df-quickchart {\n",
              "    background-color: var(--bg-color);\n",
              "    border: none;\n",
              "    border-radius: 50%;\n",
              "    cursor: pointer;\n",
              "    display: none;\n",
              "    fill: var(--fill-color);\n",
              "    height: 32px;\n",
              "    padding: 0;\n",
              "    width: 32px;\n",
              "  }\n",
              "\n",
              "  .colab-df-quickchart:hover {\n",
              "    background-color: var(--hover-bg-color);\n",
              "    box-shadow: 0 1px 2px rgba(60, 64, 67, 0.3), 0 1px 3px 1px rgba(60, 64, 67, 0.15);\n",
              "    fill: var(--button-hover-fill-color);\n",
              "  }\n",
              "\n",
              "  .colab-df-quickchart-complete:disabled,\n",
              "  .colab-df-quickchart-complete:disabled:hover {\n",
              "    background-color: var(--disabled-bg-color);\n",
              "    fill: var(--disabled-fill-color);\n",
              "    box-shadow: none;\n",
              "  }\n",
              "\n",
              "  .colab-df-spinner {\n",
              "    border: 2px solid var(--fill-color);\n",
              "    border-color: transparent;\n",
              "    border-bottom-color: var(--fill-color);\n",
              "    animation:\n",
              "      spin 1s steps(1) infinite;\n",
              "  }\n",
              "\n",
              "  @keyframes spin {\n",
              "    0% {\n",
              "      border-color: transparent;\n",
              "      border-bottom-color: var(--fill-color);\n",
              "      border-left-color: var(--fill-color);\n",
              "    }\n",
              "    20% {\n",
              "      border-color: transparent;\n",
              "      border-left-color: var(--fill-color);\n",
              "      border-top-color: var(--fill-color);\n",
              "    }\n",
              "    30% {\n",
              "      border-color: transparent;\n",
              "      border-left-color: var(--fill-color);\n",
              "      border-top-color: var(--fill-color);\n",
              "      border-right-color: var(--fill-color);\n",
              "    }\n",
              "    40% {\n",
              "      border-color: transparent;\n",
              "      border-right-color: var(--fill-color);\n",
              "      border-top-color: var(--fill-color);\n",
              "    }\n",
              "    60% {\n",
              "      border-color: transparent;\n",
              "      border-right-color: var(--fill-color);\n",
              "    }\n",
              "    80% {\n",
              "      border-color: transparent;\n",
              "      border-right-color: var(--fill-color);\n",
              "      border-bottom-color: var(--fill-color);\n",
              "    }\n",
              "    90% {\n",
              "      border-color: transparent;\n",
              "      border-bottom-color: var(--fill-color);\n",
              "    }\n",
              "  }\n",
              "</style>\n",
              "\n",
              "  <script>\n",
              "    async function quickchart(key) {\n",
              "      const quickchartButtonEl =\n",
              "        document.querySelector('#' + key + ' button');\n",
              "      quickchartButtonEl.disabled = true;  // To prevent multiple clicks.\n",
              "      quickchartButtonEl.classList.add('colab-df-spinner');\n",
              "      try {\n",
              "        const charts = await google.colab.kernel.invokeFunction(\n",
              "            'suggestCharts', [key], {});\n",
              "      } catch (error) {\n",
              "        console.error('Error during call to suggestCharts:', error);\n",
              "      }\n",
              "      quickchartButtonEl.classList.remove('colab-df-spinner');\n",
              "      quickchartButtonEl.classList.add('colab-df-quickchart-complete');\n",
              "    }\n",
              "    (() => {\n",
              "      let quickchartButtonEl =\n",
              "        document.querySelector('#df-2e1a4df3-c28f-4467-8b87-d50ac9303d0b button');\n",
              "      quickchartButtonEl.style.display =\n",
              "        google.colab.kernel.accessAllowed ? 'block' : 'none';\n",
              "    })();\n",
              "  </script>\n",
              "</div>\n",
              "\n",
              "  <div id=\"id_0299f60a-e527-445a-9658-d8a722dc2b1a\">\n",
              "    <style>\n",
              "      .colab-df-generate {\n",
              "        background-color: #E8F0FE;\n",
              "        border: none;\n",
              "        border-radius: 50%;\n",
              "        cursor: pointer;\n",
              "        display: none;\n",
              "        fill: #1967D2;\n",
              "        height: 32px;\n",
              "        padding: 0 0 0 0;\n",
              "        width: 32px;\n",
              "      }\n",
              "\n",
              "      .colab-df-generate:hover {\n",
              "        background-color: #E2EBFA;\n",
              "        box-shadow: 0px 1px 2px rgba(60, 64, 67, 0.3), 0px 1px 3px 1px rgba(60, 64, 67, 0.15);\n",
              "        fill: #174EA6;\n",
              "      }\n",
              "\n",
              "      [theme=dark] .colab-df-generate {\n",
              "        background-color: #3B4455;\n",
              "        fill: #D2E3FC;\n",
              "      }\n",
              "\n",
              "      [theme=dark] .colab-df-generate:hover {\n",
              "        background-color: #434B5C;\n",
              "        box-shadow: 0px 1px 3px 1px rgba(0, 0, 0, 0.15);\n",
              "        filter: drop-shadow(0px 1px 2px rgba(0, 0, 0, 0.3));\n",
              "        fill: #FFFFFF;\n",
              "      }\n",
              "    </style>\n",
              "    <button class=\"colab-df-generate\" onclick=\"generateWithVariable('combined_df')\"\n",
              "            title=\"Generate code using this dataframe.\"\n",
              "            style=\"display:none;\">\n",
              "\n",
              "  <svg xmlns=\"http://www.w3.org/2000/svg\" height=\"24px\"viewBox=\"0 0 24 24\"\n",
              "       width=\"24px\">\n",
              "    <path d=\"M7,19H8.4L18.45,9,17,7.55,7,17.6ZM5,21V16.75L18.45,3.32a2,2,0,0,1,2.83,0l1.4,1.43a1.91,1.91,0,0,1,.58,1.4,1.91,1.91,0,0,1-.58,1.4L9.25,21ZM18.45,9,17,7.55Zm-12,3A5.31,5.31,0,0,0,4.9,8.1,5.31,5.31,0,0,0,1,6.5,5.31,5.31,0,0,0,4.9,4.9,5.31,5.31,0,0,0,6.5,1,5.31,5.31,0,0,0,8.1,4.9,5.31,5.31,0,0,0,12,6.5,5.46,5.46,0,0,0,6.5,12Z\"/>\n",
              "  </svg>\n",
              "    </button>\n",
              "    <script>\n",
              "      (() => {\n",
              "      const buttonEl =\n",
              "        document.querySelector('#id_0299f60a-e527-445a-9658-d8a722dc2b1a button.colab-df-generate');\n",
              "      buttonEl.style.display =\n",
              "        google.colab.kernel.accessAllowed ? 'block' : 'none';\n",
              "\n",
              "      buttonEl.onclick = () => {\n",
              "        google.colab.notebook.generateWithVariable('combined_df');\n",
              "      }\n",
              "      })();\n",
              "    </script>\n",
              "  </div>\n",
              "\n",
              "    </div>\n",
              "  </div>\n"
            ],
            "application/vnd.google.colaboratory.intrinsic+json": {
              "type": "dataframe",
              "variable_name": "combined_df",
              "summary": "{\n  \"name\": \"combined_df\",\n  \"rows\": 1754,\n  \"fields\": [\n    {\n      \"column\": \"Date\",\n      \"properties\": {\n        \"dtype\": \"date\",\n        \"min\": \"2020-03-02 00:00:00\",\n        \"max\": \"2024-04-30 00:00:00\",\n        \"num_unique_values\": 39,\n        \"samples\": [\n          \"2022-02-28 00:00:00\",\n          \"2020-04-30 00:00:00\",\n          \"2021-12-31 00:00:00\"\n        ],\n        \"semantic_type\": \"\",\n        \"description\": \"\"\n      }\n    },\n    {\n      \"column\": \"Close\",\n      \"properties\": {\n        \"dtype\": \"number\",\n        \"std\": 23.318957691091363,\n        \"min\": 0.005927000194787979,\n        \"max\": 287.0,\n        \"num_unique_values\": 1219,\n        \"samples\": [\n          1.1749999523162842,\n          10.710000038146973,\n          0.7626870274543762\n        ],\n        \"semantic_type\": \"\",\n        \"description\": \"\"\n      }\n    },\n    {\n      \"column\": \"Ticker\",\n      \"properties\": {\n        \"dtype\": \"category\",\n        \"num_unique_values\": 484,\n        \"samples\": [\n          \"SMR.AX\",\n          \"WC8.AX\",\n          \"GDC.AX\"\n        ],\n        \"semantic_type\": \"\",\n        \"description\": \"\"\n      }\n    },\n    {\n      \"column\": \"price_change\",\n      \"properties\": {\n        \"dtype\": \"number\",\n        \"std\": 52.130114273305395,\n        \"min\": -73.83721043059089,\n        \"max\": 1387.2401176044596,\n        \"num_unique_values\": 1713,\n        \"samples\": [\n          -24.11765143120565,\n          4.761910659705257,\n          -2.7433613889207753\n        ],\n        \"semantic_type\": \"\",\n        \"description\": \"\"\n      }\n    },\n    {\n      \"column\": \"volatility\",\n      \"properties\": {\n        \"dtype\": \"number\",\n        \"std\": 1.297693864514213,\n        \"min\": 0.0,\n        \"max\": 17.28488976760821,\n        \"num_unique_values\": 1751,\n        \"samples\": [\n          1.2017867130933333,\n          0.21121411907856283,\n          0.3803952838172773\n        ],\n        \"semantic_type\": \"\",\n        \"description\": \"\"\n      }\n    }\n  ]\n}"
            }
          },
          "metadata": {},
          "execution_count": 28
        }
      ]
    },
    {
      "cell_type": "markdown",
      "source": [
        "### Merge Financial and Price Data together"
      ],
      "metadata": {
        "id": "fKN-2HHD7z6q"
      }
    },
    {
      "cell_type": "code",
      "source": [
        "# Merge column with price\n",
        "df = df.merge(combined_df,how = 'right', on='Ticker') # Merge on price data ()"
      ],
      "metadata": {
        "id": "A6SdzV0r1RHs"
      },
      "execution_count": 29,
      "outputs": []
    },
    {
      "cell_type": "code",
      "source": [
        "df['Sector'].isna().sum()"
      ],
      "metadata": {
        "colab": {
          "base_uri": "https://localhost:8080/"
        },
        "id": "Hi9-K4JD11xj",
        "outputId": "5950f941-c6a0-479b-aa30-5eb7ba5a89a6"
      },
      "execution_count": 30,
      "outputs": [
        {
          "output_type": "execute_result",
          "data": {
            "text/plain": [
              "0"
            ]
          },
          "metadata": {},
          "execution_count": 30
        }
      ]
    },
    {
      "cell_type": "code",
      "source": [
        "# Reorder the columns\n",
        "columns_order = ['Date', 'Ticker', 'Name', 'Sector', 'Close', 'price_change', 'volatility', 'Net Income', 'Diluted EPS', 'Free Cash Flow', 'Stockholders Equity', 'Tangible Book Value', 'Share Issued', 'Current Liabilities', 'Cash And Cash Equivalents']\n",
        "df = df.reindex(columns=columns_order)"
      ],
      "metadata": {
        "id": "M4zw4ZZ55zfr"
      },
      "execution_count": 31,
      "outputs": []
    },
    {
      "cell_type": "code",
      "source": [
        "df.info()"
      ],
      "metadata": {
        "colab": {
          "base_uri": "https://localhost:8080/"
        },
        "id": "HkLyGXgi7K8X",
        "outputId": "29284df4-a1a2-4380-ea70-7f329d310a94"
      },
      "execution_count": 32,
      "outputs": [
        {
          "output_type": "stream",
          "name": "stdout",
          "text": [
            "<class 'pandas.core.frame.DataFrame'>\n",
            "RangeIndex: 7072 entries, 0 to 7071\n",
            "Data columns (total 15 columns):\n",
            " #   Column                     Non-Null Count  Dtype         \n",
            "---  ------                     --------------  -----         \n",
            " 0   Date                       7072 non-null   datetime64[ns]\n",
            " 1   Ticker                     7072 non-null   object        \n",
            " 2   Name                       7070 non-null   object        \n",
            " 3   Sector                     7072 non-null   object        \n",
            " 4   Close                      7072 non-null   float64       \n",
            " 5   price_change               7072 non-null   float64       \n",
            " 6   volatility                 7072 non-null   float64       \n",
            " 7   Net Income                 6845 non-null   object        \n",
            " 8   Diluted EPS                6829 non-null   object        \n",
            " 9   Free Cash Flow             6857 non-null   object        \n",
            " 10  Stockholders Equity        6912 non-null   object        \n",
            " 11  Tangible Book Value        6912 non-null   object        \n",
            " 12  Share Issued               6912 non-null   object        \n",
            " 13  Current Liabilities        7072 non-null   float64       \n",
            " 14  Cash And Cash Equivalents  6896 non-null   object        \n",
            "dtypes: datetime64[ns](1), float64(4), object(10)\n",
            "memory usage: 828.9+ KB\n"
          ]
        }
      ]
    },
    {
      "cell_type": "code",
      "source": [
        "# Convert the specified columns to float\n",
        "columns_to_convert = [\n",
        "    'Net Income', 'Diluted EPS', 'Free Cash Flow',\n",
        "    'Stockholders Equity', 'Tangible Book Value',\n",
        "    'Share Issued', 'Cash And Cash Equivalents'\n",
        "]\n",
        "\n",
        "for column in columns_to_convert:\n",
        "    df[column] = pd.to_numeric(df[column], errors='coerce')\n",
        "\n",
        "# Display the dtypes to confirm the conversion\n",
        "print(df.dtypes)"
      ],
      "metadata": {
        "colab": {
          "base_uri": "https://localhost:8080/"
        },
        "id": "JvlqrUh17oE0",
        "outputId": "c417b1c1-75bf-4fc5-aaa3-c3d258519860"
      },
      "execution_count": 33,
      "outputs": [
        {
          "output_type": "stream",
          "name": "stdout",
          "text": [
            "Date                         datetime64[ns]\n",
            "Ticker                               object\n",
            "Name                                 object\n",
            "Sector                               object\n",
            "Close                               float64\n",
            "price_change                        float64\n",
            "volatility                          float64\n",
            "Net Income                          float64\n",
            "Diluted EPS                         float64\n",
            "Free Cash Flow                      float64\n",
            "Stockholders Equity                 float64\n",
            "Tangible Book Value                 float64\n",
            "Share Issued                        float64\n",
            "Current Liabilities                 float64\n",
            "Cash And Cash Equivalents           float64\n",
            "dtype: object\n"
          ]
        }
      ]
    },
    {
      "cell_type": "code",
      "source": [
        "df"
      ],
      "metadata": {
        "colab": {
          "base_uri": "https://localhost:8080/",
          "height": 701
        },
        "id": "ZGwoXe-z9wWS",
        "outputId": "1430ee53-9206-4b1a-9c9f-19493a7f11dc"
      },
      "execution_count": 34,
      "outputs": [
        {
          "output_type": "execute_result",
          "data": {
            "text/plain": [
              "           Date  Ticker                 Name                  Sector  Close  \\\n",
              "0    2023-06-30  3PL.AX  3P Learning Limited  Consumer Discretionary  1.100   \n",
              "1    2023-06-30  3PL.AX  3P Learning Limited  Consumer Discretionary  1.100   \n",
              "2    2023-06-30  3PL.AX  3P Learning Limited  Consumer Discretionary  1.100   \n",
              "3    2023-06-30  3PL.AX  3P Learning Limited  Consumer Discretionary  1.100   \n",
              "4    2022-06-30  3PL.AX  3P Learning Limited  Consumer Discretionary  1.235   \n",
              "...         ...     ...                  ...                     ...    ...   \n",
              "7067 2021-06-30  ZIP.AX       Zip Co Limited              Financials  7.570   \n",
              "7068 2020-06-30  ZIP.AX       Zip Co Limited              Financials  5.230   \n",
              "7069 2020-06-30  ZIP.AX       Zip Co Limited              Financials  5.230   \n",
              "7070 2020-06-30  ZIP.AX       Zip Co Limited              Financials  5.230   \n",
              "7071 2020-06-30  ZIP.AX       Zip Co Limited              Financials  5.230   \n",
              "\n",
              "      price_change  volatility    Net Income  Diluted EPS  Free Cash Flow  \\\n",
              "0       -11.999998    0.047663  6.370000e+06       0.0230       4642000.0   \n",
              "1       -11.999998    0.047663 -5.360000e+05      -0.0019       7651000.0   \n",
              "2       -11.999998    0.047663 -9.369000e+06      -0.0615      -4558000.0   \n",
              "3       -11.999998    0.047663  1.550000e+06       0.0111       2417000.0   \n",
              "4       -20.322577    0.123008  6.370000e+06       0.0230       4642000.0   \n",
              "...            ...         ...           ...          ...             ...   \n",
              "7067      2.574526    0.784955 -1.994100e+07      -0.0531      -4849000.0   \n",
              "7068    229.968448    1.662662 -3.770150e+08      -0.5233    -249595000.0   \n",
              "7069    229.968448    1.662662 -1.105093e+09      -1.8126    -781932000.0   \n",
              "7070    229.968448    1.662662 -6.587740e+08      -1.2705      30831000.0   \n",
              "7071    229.968448    1.662662 -1.994100e+07      -0.0531      -4849000.0   \n",
              "\n",
              "      Stockholders Equity  Tangible Book Value  Share Issued  \\\n",
              "0            2.006910e+08           -5122000.0   276484170.0   \n",
              "1            1.939010e+08           -7046000.0   276484170.0   \n",
              "2            1.948320e+08          -12821000.0   276484170.0   \n",
              "3            2.626700e+07            5402000.0   139484170.0   \n",
              "4            2.006910e+08           -5122000.0   276484170.0   \n",
              "...                   ...                  ...           ...   \n",
              "7067         2.054000e+08          126866000.0   390390000.0   \n",
              "7068         2.343400e+08         -116533000.0   824647000.0   \n",
              "7069         4.367340e+08           21640000.0   687936000.0   \n",
              "7070         1.168376e+09          171709000.0   562136000.0   \n",
              "7071         2.054000e+08          126866000.0   390390000.0   \n",
              "\n",
              "      Current Liabilities  Cash And Cash Equivalents  \n",
              "0              57757000.0                 14010000.0  \n",
              "1              59518000.0                 31127000.0  \n",
              "2              55493000.0                 24906000.0  \n",
              "3              35612000.0                 27083000.0  \n",
              "4              57757000.0                 14010000.0  \n",
              "...                   ...                        ...  \n",
              "7067           22286000.0                 32712000.0  \n",
              "7068          222445000.0                275910000.0  \n",
              "7069          156362000.0                299695000.0  \n",
              "7070           73453000.0                330201000.0  \n",
              "7071           22286000.0                 32712000.0  \n",
              "\n",
              "[7072 rows x 15 columns]"
            ],
            "text/html": [
              "\n",
              "  <div id=\"df-24e9b065-82ce-470f-b71e-438809f7c8eb\" class=\"colab-df-container\">\n",
              "    <div>\n",
              "<style scoped>\n",
              "    .dataframe tbody tr th:only-of-type {\n",
              "        vertical-align: middle;\n",
              "    }\n",
              "\n",
              "    .dataframe tbody tr th {\n",
              "        vertical-align: top;\n",
              "    }\n",
              "\n",
              "    .dataframe thead th {\n",
              "        text-align: right;\n",
              "    }\n",
              "</style>\n",
              "<table border=\"1\" class=\"dataframe\">\n",
              "  <thead>\n",
              "    <tr style=\"text-align: right;\">\n",
              "      <th></th>\n",
              "      <th>Date</th>\n",
              "      <th>Ticker</th>\n",
              "      <th>Name</th>\n",
              "      <th>Sector</th>\n",
              "      <th>Close</th>\n",
              "      <th>price_change</th>\n",
              "      <th>volatility</th>\n",
              "      <th>Net Income</th>\n",
              "      <th>Diluted EPS</th>\n",
              "      <th>Free Cash Flow</th>\n",
              "      <th>Stockholders Equity</th>\n",
              "      <th>Tangible Book Value</th>\n",
              "      <th>Share Issued</th>\n",
              "      <th>Current Liabilities</th>\n",
              "      <th>Cash And Cash Equivalents</th>\n",
              "    </tr>\n",
              "  </thead>\n",
              "  <tbody>\n",
              "    <tr>\n",
              "      <th>0</th>\n",
              "      <td>2023-06-30</td>\n",
              "      <td>3PL.AX</td>\n",
              "      <td>3P Learning Limited</td>\n",
              "      <td>Consumer Discretionary</td>\n",
              "      <td>1.100</td>\n",
              "      <td>-11.999998</td>\n",
              "      <td>0.047663</td>\n",
              "      <td>6.370000e+06</td>\n",
              "      <td>0.0230</td>\n",
              "      <td>4642000.0</td>\n",
              "      <td>2.006910e+08</td>\n",
              "      <td>-5122000.0</td>\n",
              "      <td>276484170.0</td>\n",
              "      <td>57757000.0</td>\n",
              "      <td>14010000.0</td>\n",
              "    </tr>\n",
              "    <tr>\n",
              "      <th>1</th>\n",
              "      <td>2023-06-30</td>\n",
              "      <td>3PL.AX</td>\n",
              "      <td>3P Learning Limited</td>\n",
              "      <td>Consumer Discretionary</td>\n",
              "      <td>1.100</td>\n",
              "      <td>-11.999998</td>\n",
              "      <td>0.047663</td>\n",
              "      <td>-5.360000e+05</td>\n",
              "      <td>-0.0019</td>\n",
              "      <td>7651000.0</td>\n",
              "      <td>1.939010e+08</td>\n",
              "      <td>-7046000.0</td>\n",
              "      <td>276484170.0</td>\n",
              "      <td>59518000.0</td>\n",
              "      <td>31127000.0</td>\n",
              "    </tr>\n",
              "    <tr>\n",
              "      <th>2</th>\n",
              "      <td>2023-06-30</td>\n",
              "      <td>3PL.AX</td>\n",
              "      <td>3P Learning Limited</td>\n",
              "      <td>Consumer Discretionary</td>\n",
              "      <td>1.100</td>\n",
              "      <td>-11.999998</td>\n",
              "      <td>0.047663</td>\n",
              "      <td>-9.369000e+06</td>\n",
              "      <td>-0.0615</td>\n",
              "      <td>-4558000.0</td>\n",
              "      <td>1.948320e+08</td>\n",
              "      <td>-12821000.0</td>\n",
              "      <td>276484170.0</td>\n",
              "      <td>55493000.0</td>\n",
              "      <td>24906000.0</td>\n",
              "    </tr>\n",
              "    <tr>\n",
              "      <th>3</th>\n",
              "      <td>2023-06-30</td>\n",
              "      <td>3PL.AX</td>\n",
              "      <td>3P Learning Limited</td>\n",
              "      <td>Consumer Discretionary</td>\n",
              "      <td>1.100</td>\n",
              "      <td>-11.999998</td>\n",
              "      <td>0.047663</td>\n",
              "      <td>1.550000e+06</td>\n",
              "      <td>0.0111</td>\n",
              "      <td>2417000.0</td>\n",
              "      <td>2.626700e+07</td>\n",
              "      <td>5402000.0</td>\n",
              "      <td>139484170.0</td>\n",
              "      <td>35612000.0</td>\n",
              "      <td>27083000.0</td>\n",
              "    </tr>\n",
              "    <tr>\n",
              "      <th>4</th>\n",
              "      <td>2022-06-30</td>\n",
              "      <td>3PL.AX</td>\n",
              "      <td>3P Learning Limited</td>\n",
              "      <td>Consumer Discretionary</td>\n",
              "      <td>1.235</td>\n",
              "      <td>-20.322577</td>\n",
              "      <td>0.123008</td>\n",
              "      <td>6.370000e+06</td>\n",
              "      <td>0.0230</td>\n",
              "      <td>4642000.0</td>\n",
              "      <td>2.006910e+08</td>\n",
              "      <td>-5122000.0</td>\n",
              "      <td>276484170.0</td>\n",
              "      <td>57757000.0</td>\n",
              "      <td>14010000.0</td>\n",
              "    </tr>\n",
              "    <tr>\n",
              "      <th>...</th>\n",
              "      <td>...</td>\n",
              "      <td>...</td>\n",
              "      <td>...</td>\n",
              "      <td>...</td>\n",
              "      <td>...</td>\n",
              "      <td>...</td>\n",
              "      <td>...</td>\n",
              "      <td>...</td>\n",
              "      <td>...</td>\n",
              "      <td>...</td>\n",
              "      <td>...</td>\n",
              "      <td>...</td>\n",
              "      <td>...</td>\n",
              "      <td>...</td>\n",
              "      <td>...</td>\n",
              "    </tr>\n",
              "    <tr>\n",
              "      <th>7067</th>\n",
              "      <td>2021-06-30</td>\n",
              "      <td>ZIP.AX</td>\n",
              "      <td>Zip Co Limited</td>\n",
              "      <td>Financials</td>\n",
              "      <td>7.570</td>\n",
              "      <td>2.574526</td>\n",
              "      <td>0.784955</td>\n",
              "      <td>-1.994100e+07</td>\n",
              "      <td>-0.0531</td>\n",
              "      <td>-4849000.0</td>\n",
              "      <td>2.054000e+08</td>\n",
              "      <td>126866000.0</td>\n",
              "      <td>390390000.0</td>\n",
              "      <td>22286000.0</td>\n",
              "      <td>32712000.0</td>\n",
              "    </tr>\n",
              "    <tr>\n",
              "      <th>7068</th>\n",
              "      <td>2020-06-30</td>\n",
              "      <td>ZIP.AX</td>\n",
              "      <td>Zip Co Limited</td>\n",
              "      <td>Financials</td>\n",
              "      <td>5.230</td>\n",
              "      <td>229.968448</td>\n",
              "      <td>1.662662</td>\n",
              "      <td>-3.770150e+08</td>\n",
              "      <td>-0.5233</td>\n",
              "      <td>-249595000.0</td>\n",
              "      <td>2.343400e+08</td>\n",
              "      <td>-116533000.0</td>\n",
              "      <td>824647000.0</td>\n",
              "      <td>222445000.0</td>\n",
              "      <td>275910000.0</td>\n",
              "    </tr>\n",
              "    <tr>\n",
              "      <th>7069</th>\n",
              "      <td>2020-06-30</td>\n",
              "      <td>ZIP.AX</td>\n",
              "      <td>Zip Co Limited</td>\n",
              "      <td>Financials</td>\n",
              "      <td>5.230</td>\n",
              "      <td>229.968448</td>\n",
              "      <td>1.662662</td>\n",
              "      <td>-1.105093e+09</td>\n",
              "      <td>-1.8126</td>\n",
              "      <td>-781932000.0</td>\n",
              "      <td>4.367340e+08</td>\n",
              "      <td>21640000.0</td>\n",
              "      <td>687936000.0</td>\n",
              "      <td>156362000.0</td>\n",
              "      <td>299695000.0</td>\n",
              "    </tr>\n",
              "    <tr>\n",
              "      <th>7070</th>\n",
              "      <td>2020-06-30</td>\n",
              "      <td>ZIP.AX</td>\n",
              "      <td>Zip Co Limited</td>\n",
              "      <td>Financials</td>\n",
              "      <td>5.230</td>\n",
              "      <td>229.968448</td>\n",
              "      <td>1.662662</td>\n",
              "      <td>-6.587740e+08</td>\n",
              "      <td>-1.2705</td>\n",
              "      <td>30831000.0</td>\n",
              "      <td>1.168376e+09</td>\n",
              "      <td>171709000.0</td>\n",
              "      <td>562136000.0</td>\n",
              "      <td>73453000.0</td>\n",
              "      <td>330201000.0</td>\n",
              "    </tr>\n",
              "    <tr>\n",
              "      <th>7071</th>\n",
              "      <td>2020-06-30</td>\n",
              "      <td>ZIP.AX</td>\n",
              "      <td>Zip Co Limited</td>\n",
              "      <td>Financials</td>\n",
              "      <td>5.230</td>\n",
              "      <td>229.968448</td>\n",
              "      <td>1.662662</td>\n",
              "      <td>-1.994100e+07</td>\n",
              "      <td>-0.0531</td>\n",
              "      <td>-4849000.0</td>\n",
              "      <td>2.054000e+08</td>\n",
              "      <td>126866000.0</td>\n",
              "      <td>390390000.0</td>\n",
              "      <td>22286000.0</td>\n",
              "      <td>32712000.0</td>\n",
              "    </tr>\n",
              "  </tbody>\n",
              "</table>\n",
              "<p>7072 rows × 15 columns</p>\n",
              "</div>\n",
              "    <div class=\"colab-df-buttons\">\n",
              "\n",
              "  <div class=\"colab-df-container\">\n",
              "    <button class=\"colab-df-convert\" onclick=\"convertToInteractive('df-24e9b065-82ce-470f-b71e-438809f7c8eb')\"\n",
              "            title=\"Convert this dataframe to an interactive table.\"\n",
              "            style=\"display:none;\">\n",
              "\n",
              "  <svg xmlns=\"http://www.w3.org/2000/svg\" height=\"24px\" viewBox=\"0 -960 960 960\">\n",
              "    <path d=\"M120-120v-720h720v720H120Zm60-500h600v-160H180v160Zm220 220h160v-160H400v160Zm0 220h160v-160H400v160ZM180-400h160v-160H180v160Zm440 0h160v-160H620v160ZM180-180h160v-160H180v160Zm440 0h160v-160H620v160Z\"/>\n",
              "  </svg>\n",
              "    </button>\n",
              "\n",
              "  <style>\n",
              "    .colab-df-container {\n",
              "      display:flex;\n",
              "      gap: 12px;\n",
              "    }\n",
              "\n",
              "    .colab-df-convert {\n",
              "      background-color: #E8F0FE;\n",
              "      border: none;\n",
              "      border-radius: 50%;\n",
              "      cursor: pointer;\n",
              "      display: none;\n",
              "      fill: #1967D2;\n",
              "      height: 32px;\n",
              "      padding: 0 0 0 0;\n",
              "      width: 32px;\n",
              "    }\n",
              "\n",
              "    .colab-df-convert:hover {\n",
              "      background-color: #E2EBFA;\n",
              "      box-shadow: 0px 1px 2px rgba(60, 64, 67, 0.3), 0px 1px 3px 1px rgba(60, 64, 67, 0.15);\n",
              "      fill: #174EA6;\n",
              "    }\n",
              "\n",
              "    .colab-df-buttons div {\n",
              "      margin-bottom: 4px;\n",
              "    }\n",
              "\n",
              "    [theme=dark] .colab-df-convert {\n",
              "      background-color: #3B4455;\n",
              "      fill: #D2E3FC;\n",
              "    }\n",
              "\n",
              "    [theme=dark] .colab-df-convert:hover {\n",
              "      background-color: #434B5C;\n",
              "      box-shadow: 0px 1px 3px 1px rgba(0, 0, 0, 0.15);\n",
              "      filter: drop-shadow(0px 1px 2px rgba(0, 0, 0, 0.3));\n",
              "      fill: #FFFFFF;\n",
              "    }\n",
              "  </style>\n",
              "\n",
              "    <script>\n",
              "      const buttonEl =\n",
              "        document.querySelector('#df-24e9b065-82ce-470f-b71e-438809f7c8eb button.colab-df-convert');\n",
              "      buttonEl.style.display =\n",
              "        google.colab.kernel.accessAllowed ? 'block' : 'none';\n",
              "\n",
              "      async function convertToInteractive(key) {\n",
              "        const element = document.querySelector('#df-24e9b065-82ce-470f-b71e-438809f7c8eb');\n",
              "        const dataTable =\n",
              "          await google.colab.kernel.invokeFunction('convertToInteractive',\n",
              "                                                    [key], {});\n",
              "        if (!dataTable) return;\n",
              "\n",
              "        const docLinkHtml = 'Like what you see? Visit the ' +\n",
              "          '<a target=\"_blank\" href=https://colab.research.google.com/notebooks/data_table.ipynb>data table notebook</a>'\n",
              "          + ' to learn more about interactive tables.';\n",
              "        element.innerHTML = '';\n",
              "        dataTable['output_type'] = 'display_data';\n",
              "        await google.colab.output.renderOutput(dataTable, element);\n",
              "        const docLink = document.createElement('div');\n",
              "        docLink.innerHTML = docLinkHtml;\n",
              "        element.appendChild(docLink);\n",
              "      }\n",
              "    </script>\n",
              "  </div>\n",
              "\n",
              "\n",
              "<div id=\"df-6de6988d-efee-4abd-93c2-470bb2f3202b\">\n",
              "  <button class=\"colab-df-quickchart\" onclick=\"quickchart('df-6de6988d-efee-4abd-93c2-470bb2f3202b')\"\n",
              "            title=\"Suggest charts\"\n",
              "            style=\"display:none;\">\n",
              "\n",
              "<svg xmlns=\"http://www.w3.org/2000/svg\" height=\"24px\"viewBox=\"0 0 24 24\"\n",
              "     width=\"24px\">\n",
              "    <g>\n",
              "        <path d=\"M19 3H5c-1.1 0-2 .9-2 2v14c0 1.1.9 2 2 2h14c1.1 0 2-.9 2-2V5c0-1.1-.9-2-2-2zM9 17H7v-7h2v7zm4 0h-2V7h2v10zm4 0h-2v-4h2v4z\"/>\n",
              "    </g>\n",
              "</svg>\n",
              "  </button>\n",
              "\n",
              "<style>\n",
              "  .colab-df-quickchart {\n",
              "      --bg-color: #E8F0FE;\n",
              "      --fill-color: #1967D2;\n",
              "      --hover-bg-color: #E2EBFA;\n",
              "      --hover-fill-color: #174EA6;\n",
              "      --disabled-fill-color: #AAA;\n",
              "      --disabled-bg-color: #DDD;\n",
              "  }\n",
              "\n",
              "  [theme=dark] .colab-df-quickchart {\n",
              "      --bg-color: #3B4455;\n",
              "      --fill-color: #D2E3FC;\n",
              "      --hover-bg-color: #434B5C;\n",
              "      --hover-fill-color: #FFFFFF;\n",
              "      --disabled-bg-color: #3B4455;\n",
              "      --disabled-fill-color: #666;\n",
              "  }\n",
              "\n",
              "  .colab-df-quickchart {\n",
              "    background-color: var(--bg-color);\n",
              "    border: none;\n",
              "    border-radius: 50%;\n",
              "    cursor: pointer;\n",
              "    display: none;\n",
              "    fill: var(--fill-color);\n",
              "    height: 32px;\n",
              "    padding: 0;\n",
              "    width: 32px;\n",
              "  }\n",
              "\n",
              "  .colab-df-quickchart:hover {\n",
              "    background-color: var(--hover-bg-color);\n",
              "    box-shadow: 0 1px 2px rgba(60, 64, 67, 0.3), 0 1px 3px 1px rgba(60, 64, 67, 0.15);\n",
              "    fill: var(--button-hover-fill-color);\n",
              "  }\n",
              "\n",
              "  .colab-df-quickchart-complete:disabled,\n",
              "  .colab-df-quickchart-complete:disabled:hover {\n",
              "    background-color: var(--disabled-bg-color);\n",
              "    fill: var(--disabled-fill-color);\n",
              "    box-shadow: none;\n",
              "  }\n",
              "\n",
              "  .colab-df-spinner {\n",
              "    border: 2px solid var(--fill-color);\n",
              "    border-color: transparent;\n",
              "    border-bottom-color: var(--fill-color);\n",
              "    animation:\n",
              "      spin 1s steps(1) infinite;\n",
              "  }\n",
              "\n",
              "  @keyframes spin {\n",
              "    0% {\n",
              "      border-color: transparent;\n",
              "      border-bottom-color: var(--fill-color);\n",
              "      border-left-color: var(--fill-color);\n",
              "    }\n",
              "    20% {\n",
              "      border-color: transparent;\n",
              "      border-left-color: var(--fill-color);\n",
              "      border-top-color: var(--fill-color);\n",
              "    }\n",
              "    30% {\n",
              "      border-color: transparent;\n",
              "      border-left-color: var(--fill-color);\n",
              "      border-top-color: var(--fill-color);\n",
              "      border-right-color: var(--fill-color);\n",
              "    }\n",
              "    40% {\n",
              "      border-color: transparent;\n",
              "      border-right-color: var(--fill-color);\n",
              "      border-top-color: var(--fill-color);\n",
              "    }\n",
              "    60% {\n",
              "      border-color: transparent;\n",
              "      border-right-color: var(--fill-color);\n",
              "    }\n",
              "    80% {\n",
              "      border-color: transparent;\n",
              "      border-right-color: var(--fill-color);\n",
              "      border-bottom-color: var(--fill-color);\n",
              "    }\n",
              "    90% {\n",
              "      border-color: transparent;\n",
              "      border-bottom-color: var(--fill-color);\n",
              "    }\n",
              "  }\n",
              "</style>\n",
              "\n",
              "  <script>\n",
              "    async function quickchart(key) {\n",
              "      const quickchartButtonEl =\n",
              "        document.querySelector('#' + key + ' button');\n",
              "      quickchartButtonEl.disabled = true;  // To prevent multiple clicks.\n",
              "      quickchartButtonEl.classList.add('colab-df-spinner');\n",
              "      try {\n",
              "        const charts = await google.colab.kernel.invokeFunction(\n",
              "            'suggestCharts', [key], {});\n",
              "      } catch (error) {\n",
              "        console.error('Error during call to suggestCharts:', error);\n",
              "      }\n",
              "      quickchartButtonEl.classList.remove('colab-df-spinner');\n",
              "      quickchartButtonEl.classList.add('colab-df-quickchart-complete');\n",
              "    }\n",
              "    (() => {\n",
              "      let quickchartButtonEl =\n",
              "        document.querySelector('#df-6de6988d-efee-4abd-93c2-470bb2f3202b button');\n",
              "      quickchartButtonEl.style.display =\n",
              "        google.colab.kernel.accessAllowed ? 'block' : 'none';\n",
              "    })();\n",
              "  </script>\n",
              "</div>\n",
              "\n",
              "  <div id=\"id_926df2d1-7a13-49a5-bc5b-ea2d46ec09a0\">\n",
              "    <style>\n",
              "      .colab-df-generate {\n",
              "        background-color: #E8F0FE;\n",
              "        border: none;\n",
              "        border-radius: 50%;\n",
              "        cursor: pointer;\n",
              "        display: none;\n",
              "        fill: #1967D2;\n",
              "        height: 32px;\n",
              "        padding: 0 0 0 0;\n",
              "        width: 32px;\n",
              "      }\n",
              "\n",
              "      .colab-df-generate:hover {\n",
              "        background-color: #E2EBFA;\n",
              "        box-shadow: 0px 1px 2px rgba(60, 64, 67, 0.3), 0px 1px 3px 1px rgba(60, 64, 67, 0.15);\n",
              "        fill: #174EA6;\n",
              "      }\n",
              "\n",
              "      [theme=dark] .colab-df-generate {\n",
              "        background-color: #3B4455;\n",
              "        fill: #D2E3FC;\n",
              "      }\n",
              "\n",
              "      [theme=dark] .colab-df-generate:hover {\n",
              "        background-color: #434B5C;\n",
              "        box-shadow: 0px 1px 3px 1px rgba(0, 0, 0, 0.15);\n",
              "        filter: drop-shadow(0px 1px 2px rgba(0, 0, 0, 0.3));\n",
              "        fill: #FFFFFF;\n",
              "      }\n",
              "    </style>\n",
              "    <button class=\"colab-df-generate\" onclick=\"generateWithVariable('df')\"\n",
              "            title=\"Generate code using this dataframe.\"\n",
              "            style=\"display:none;\">\n",
              "\n",
              "  <svg xmlns=\"http://www.w3.org/2000/svg\" height=\"24px\"viewBox=\"0 0 24 24\"\n",
              "       width=\"24px\">\n",
              "    <path d=\"M7,19H8.4L18.45,9,17,7.55,7,17.6ZM5,21V16.75L18.45,3.32a2,2,0,0,1,2.83,0l1.4,1.43a1.91,1.91,0,0,1,.58,1.4,1.91,1.91,0,0,1-.58,1.4L9.25,21ZM18.45,9,17,7.55Zm-12,3A5.31,5.31,0,0,0,4.9,8.1,5.31,5.31,0,0,0,1,6.5,5.31,5.31,0,0,0,4.9,4.9,5.31,5.31,0,0,0,6.5,1,5.31,5.31,0,0,0,8.1,4.9,5.31,5.31,0,0,0,12,6.5,5.46,5.46,0,0,0,6.5,12Z\"/>\n",
              "  </svg>\n",
              "    </button>\n",
              "    <script>\n",
              "      (() => {\n",
              "      const buttonEl =\n",
              "        document.querySelector('#id_926df2d1-7a13-49a5-bc5b-ea2d46ec09a0 button.colab-df-generate');\n",
              "      buttonEl.style.display =\n",
              "        google.colab.kernel.accessAllowed ? 'block' : 'none';\n",
              "\n",
              "      buttonEl.onclick = () => {\n",
              "        google.colab.notebook.generateWithVariable('df');\n",
              "      }\n",
              "      })();\n",
              "    </script>\n",
              "  </div>\n",
              "\n",
              "    </div>\n",
              "  </div>\n"
            ],
            "application/vnd.google.colaboratory.intrinsic+json": {
              "type": "dataframe",
              "variable_name": "df",
              "summary": "{\n  \"name\": \"df\",\n  \"rows\": 7072,\n  \"fields\": [\n    {\n      \"column\": \"Date\",\n      \"properties\": {\n        \"dtype\": \"date\",\n        \"min\": \"2020-03-02 00:00:00\",\n        \"max\": \"2024-04-30 00:00:00\",\n        \"num_unique_values\": 39,\n        \"samples\": [\n          \"2022-02-28 00:00:00\",\n          \"2020-04-30 00:00:00\",\n          \"2021-12-31 00:00:00\"\n        ],\n        \"semantic_type\": \"\",\n        \"description\": \"\"\n      }\n    },\n    {\n      \"column\": \"Ticker\",\n      \"properties\": {\n        \"dtype\": \"category\",\n        \"num_unique_values\": 484,\n        \"samples\": [\n          \"SMR.AX\",\n          \"WC8.AX\",\n          \"GDC.AX\"\n        ],\n        \"semantic_type\": \"\",\n        \"description\": \"\"\n      }\n    },\n    {\n      \"column\": \"Name\",\n      \"properties\": {\n        \"dtype\": \"category\",\n        \"num_unique_values\": 483,\n        \"samples\": [\n          \"Stanmore Resources Limited\",\n          \"Wildcat Resources Limited\",\n          \"Gold Road Resources Limited\"\n        ],\n        \"semantic_type\": \"\",\n        \"description\": \"\"\n      }\n    },\n    {\n      \"column\": \"Sector\",\n      \"properties\": {\n        \"dtype\": \"category\",\n        \"num_unique_values\": 11,\n        \"samples\": [\n          \"Utilities\",\n          \"Consumer Discretionary\",\n          \"Real Estate\"\n        ],\n        \"semantic_type\": \"\",\n        \"description\": \"\"\n      }\n    },\n    {\n      \"column\": \"Close\",\n      \"properties\": {\n        \"dtype\": \"number\",\n        \"std\": 23.25423933342412,\n        \"min\": 0.005927000194787979,\n        \"max\": 287.0,\n        \"num_unique_values\": 1219,\n        \"samples\": [\n          1.1749999523162842,\n          10.710000038146973,\n          0.7626870274543762\n        ],\n        \"semantic_type\": \"\",\n        \"description\": \"\"\n      }\n    },\n    {\n      \"column\": \"price_change\",\n      \"properties\": {\n        \"dtype\": \"number\",\n        \"std\": 51.84900235800519,\n        \"min\": -73.83721043059089,\n        \"max\": 1387.2401176044596,\n        \"num_unique_values\": 1713,\n        \"samples\": [\n          -24.11765143120565,\n          4.761910659705257,\n          -2.7433613889207753\n        ],\n        \"semantic_type\": \"\",\n        \"description\": \"\"\n      }\n    },\n    {\n      \"column\": \"volatility\",\n      \"properties\": {\n        \"dtype\": \"number\",\n        \"std\": 1.2948736129591953,\n        \"min\": 0.0,\n        \"max\": 17.28488976760821,\n        \"num_unique_values\": 1751,\n        \"samples\": [\n          1.2017867130933333,\n          0.21121411907856283,\n          0.3803952838172773\n        ],\n        \"semantic_type\": \"\",\n        \"description\": \"\"\n      }\n    },\n    {\n      \"column\": \"Net Income\",\n      \"properties\": {\n        \"dtype\": \"number\",\n        \"std\": 1405012028.9825914,\n        \"min\": -7212600000.0,\n        \"max\": 30900000000.0,\n        \"num_unique_values\": 1838,\n        \"samples\": [\n          75248000.0,\n          -11123199.0,\n          17136000.0\n        ],\n        \"semantic_type\": \"\",\n        \"description\": \"\"\n      }\n    },\n    {\n      \"column\": \"Diluted EPS\",\n      \"properties\": {\n        \"dtype\": \"number\",\n        \"std\": 1.3243171291590343,\n        \"min\": -12.0491,\n        \"max\": 38.78,\n        \"num_unique_values\": 1598,\n        \"samples\": [\n          0.2474,\n          0.253,\n          0.258\n        ],\n        \"semantic_type\": \"\",\n        \"description\": \"\"\n      }\n    },\n    {\n      \"column\": \"Free Cash Flow\",\n      \"properties\": {\n        \"dtype\": \"number\",\n        \"std\": 3453960527.9209538,\n        \"min\": -27891000000.0,\n        \"max\": 57376000000.0,\n        \"num_unique_values\": 1851,\n        \"samples\": [\n          -231495000.0,\n          282386000.0,\n          -26498000.0\n        ],\n        \"semantic_type\": \"\",\n        \"description\": \"\"\n      }\n    },\n    {\n      \"column\": \"Stockholders Equity\",\n      \"properties\": {\n        \"dtype\": \"number\",\n        \"std\": 7707313393.442751,\n        \"min\": -2653000000.0,\n        \"max\": 78683000000.0,\n        \"num_unique_values\": 1882,\n        \"samples\": [\n          15275000000.0,\n          2726300000.0,\n          760422000.0\n        ],\n        \"semantic_type\": \"\",\n        \"description\": \"\"\n      }\n    },\n    {\n      \"column\": \"Tangible Book Value\",\n      \"properties\": {\n        \"dtype\": \"number\",\n        \"std\": 7016311554.189703,\n        \"min\": -18532000000.0,\n        \"max\": 71741000000.0,\n        \"num_unique_values\": 1882,\n        \"samples\": [\n          13653000000.0,\n          1575900000.0,\n          760422000.0\n        ],\n        \"semantic_type\": \"\",\n        \"description\": \"\"\n      }\n    },\n    {\n      \"column\": \"Share Issued\",\n      \"properties\": {\n        \"dtype\": \"number\",\n        \"std\": 1363528882.557727,\n        \"min\": 778008.0,\n        \"max\": 22148299000.0,\n        \"num_unique_values\": 1586,\n        \"samples\": [\n          255398099.0,\n          581229609.0,\n          216065097.0\n        ],\n        \"semantic_type\": \"\",\n        \"description\": \"\"\n      }\n    },\n    {\n      \"column\": \"Current Liabilities\",\n      \"properties\": {\n        \"dtype\": \"number\",\n        \"std\": 11015903288.624426,\n        \"min\": 0.0,\n        \"max\": 357860400000.0,\n        \"num_unique_values\": 1716,\n        \"samples\": [\n          2385000000.0,\n          251561000.0,\n          73282000.0\n        ],\n        \"semantic_type\": \"\",\n        \"description\": \"\"\n      }\n    },\n    {\n      \"column\": \"Cash And Cash Equivalents\",\n      \"properties\": {\n        \"dtype\": \"number\",\n        \"std\": 10486438181.232279,\n        \"min\": 17000.0,\n        \"max\": 157530000000.0,\n        \"num_unique_values\": 1865,\n        \"samples\": [\n          126300000.0,\n          5156000.0,\n          80042000.0\n        ],\n        \"semantic_type\": \"\",\n        \"description\": \"\"\n      }\n    }\n  ]\n}"
            }
          },
          "metadata": {},
          "execution_count": 34
        }
      ]
    },
    {
      "cell_type": "code",
      "source": [
        "df.isna().sum()"
      ],
      "metadata": {
        "colab": {
          "base_uri": "https://localhost:8080/"
        },
        "id": "_SXHt1x3AGhT",
        "outputId": "2440d45a-7494-4c84-824e-46a525b6c9b2"
      },
      "execution_count": 35,
      "outputs": [
        {
          "output_type": "execute_result",
          "data": {
            "text/plain": [
              "Date                           0\n",
              "Ticker                         0\n",
              "Name                           2\n",
              "Sector                         0\n",
              "Close                          0\n",
              "price_change                   0\n",
              "volatility                     0\n",
              "Net Income                   227\n",
              "Diluted EPS                  243\n",
              "Free Cash Flow               215\n",
              "Stockholders Equity          160\n",
              "Tangible Book Value          160\n",
              "Share Issued                 160\n",
              "Current Liabilities            0\n",
              "Cash And Cash Equivalents    176\n",
              "dtype: int64"
            ]
          },
          "metadata": {},
          "execution_count": 35
        }
      ]
    },
    {
      "cell_type": "markdown",
      "source": [
        "### The mismatch in reporting periods between stocks is what generating most of these N/A"
      ],
      "metadata": {
        "id": "P7thJg9RLZLE"
      }
    },
    {
      "cell_type": "code",
      "source": [
        "df['Ticker'].nunique()"
      ],
      "metadata": {
        "colab": {
          "base_uri": "https://localhost:8080/"
        },
        "id": "Et8MbHJlLWDA",
        "outputId": "dd305da1-a208-4e2b-ecb6-ec3b918fb650"
      },
      "execution_count": 36,
      "outputs": [
        {
          "output_type": "execute_result",
          "data": {
            "text/plain": [
              "484"
            ]
          },
          "metadata": {},
          "execution_count": 36
        }
      ]
    },
    {
      "cell_type": "code",
      "source": [
        "df_2 = df.dropna()"
      ],
      "metadata": {
        "id": "tontml6KLtkx"
      },
      "execution_count": 37,
      "outputs": []
    },
    {
      "cell_type": "code",
      "source": [
        "df_2['Ticker'].nunique()"
      ],
      "metadata": {
        "colab": {
          "base_uri": "https://localhost:8080/"
        },
        "id": "jv0Zx0qfMAWu",
        "outputId": "10fb9105-7b74-4d3c-e379-1c0b3858375a"
      },
      "execution_count": 38,
      "outputs": [
        {
          "output_type": "execute_result",
          "data": {
            "text/plain": [
              "483"
            ]
          },
          "metadata": {},
          "execution_count": 38
        }
      ]
    },
    {
      "cell_type": "code",
      "source": [
        "df_2.to_csv('stock_data.csv', index=False)"
      ],
      "metadata": {
        "id": "tKmZXcrzMEju"
      },
      "execution_count": 39,
      "outputs": []
    }
  ],
  "metadata": {
    "colab": {
      "provenance": []
    },
    "kernelspec": {
      "display_name": "Python 3",
      "name": "python3"
    },
    "language_info": {
      "name": "python"
    }
  },
  "nbformat": 4,
  "nbformat_minor": 0
}